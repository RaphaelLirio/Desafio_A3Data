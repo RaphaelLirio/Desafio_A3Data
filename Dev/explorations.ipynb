{
 "cells": [
  {
   "cell_type": "markdown",
   "metadata": {},
   "source": [
    "## <span style=\"color:yellow; font-weight:bold; font-family:Times, sans-serif\">Library Seekers</span>\n",
    "\n",
    "#### <span style=\"color:yellow; font-weight:bold; font-family:Times, sans-serif\">Introdução</span>\n",
    "\n",
    "Foram utilizadas duas bases de dados, a primeira contendo informações a respeito de diversos livros e a segunda trazendo informações fornecidas por leitores desses livros, avaliando-os\n",
    "\n",
    "Neste Jupyter Notebook, em primeiro momento foram realizados tratamentos nas duas bases de dados utilizadas, a fim de retirar caracteres poluentes, uniformizar formato de data, agrupamentos para junção de informações, dentre outras. Em seguida foi utilzado um modelo NLP com o objetivo de analisar o sentimento do resumo das avaliações dos leitores e um outro modelo para resumir a descrição (pode ser considerada uma sinopse) dos livros.\n",
    "\n",
    "Na análise exploratória foram plotados alguns gráficos trazendo ranqueamentos dos livros, das editoras, dos autores e das categorias, destacando o top5 de cada um dos rankings\n",
    "\n",
    "#### <span style=\"color:yellow; font-weight:bold; font-family:Times, sans-serif\">Instalação</span>\n",
    "Para executar este notebook, você precisará das seguintes bibliotecas e dependências:\n",
    "\n",
    "```python\n",
    "!pip install pandas\n",
    "!pip install seaborn\n",
    "!pip install matplotlib\n",
    "!pip install tqdm\n",
    "!pip install transformers\n",
    "!pip install tensorflow\n",
    "!pip install tf-keras\n",
    "!pip install ipywidgets\n",
    "!pip install plotly"
   ]
  },
  {
   "cell_type": "markdown",
   "metadata": {},
   "source": [
    "### 1.0 - Importações e configurações"
   ]
  },
  {
   "cell_type": "code",
   "execution_count": 2,
   "metadata": {},
   "outputs": [],
   "source": [
    "import pandas as pd\n",
    "import seaborn as sns\n",
    "import matplotlib.pyplot as plt\n",
    "from tqdm import tqdm\n",
    "\n",
    "from transformers import pipeline\n",
    "import plotly.graph_objects as go"
   ]
  },
  {
   "cell_type": "code",
   "execution_count": 3,
   "metadata": {},
   "outputs": [],
   "source": [
    "pd.set_option('display.max_rows', None)\n",
    "pd.set_option('display.max_columns', None)"
   ]
  },
  {
   "cell_type": "markdown",
   "metadata": {},
   "source": [
    "### 2.0 - Bases"
   ]
  },
  {
   "cell_type": "code",
   "execution_count": 9,
   "metadata": {},
   "outputs": [],
   "source": [
    "bd = pd.read_parquet(r'..\\\\..\\\\Desafio_A3Data\\\\Databases\\\\books_data.parquet', engine='pyarrow')\n",
    "br = pd.read_parquet(r'..\\\\..\\\\Desafio_A3Data\\\\Databases\\\\books_rating.parquet', engine='pyarrow')"
   ]
  },
  {
   "cell_type": "markdown",
   "metadata": {},
   "source": [
    "### 3.0 - Tratamentos"
   ]
  },
  {
   "cell_type": "code",
   "execution_count": 10,
   "metadata": {},
   "outputs": [],
   "source": [
    "#-----------------------BOOKS RATING------------------------------\n",
    "\n",
    "br['summary'].fillna('No summary', inplace=True)\n",
    "br['text'].fillna('No text comments', inplace=True)\n",
    "\n",
    "#Realizando agrupamento pelo título do livro e obtendo a média dos valores numéricos\n",
    "temporary = br[['Title', 'Price', 'score', 'time']]\n",
    "temporary = temporary.groupby('Title').mean()\n",
    "temporary.reset_index(inplace=True)\n",
    "\n",
    "#Identificando quantas avaliações cada livro recebeu pelos leitores\n",
    "temporary2 = br.groupby('Title').size().reset_index(name='readersRatings')\n",
    "\n",
    "\n",
    "#-----------------------BOOKS DATA--------------------------------\n",
    "\n",
    "#Adicionando informações capturadas acima ao dataset dos livros\n",
    "merge = bd.merge(temporary, on='Title', how='inner')\n",
    "merge2 = merge.merge(temporary2, on='Title', how='inner')\n",
    "bd = merge2\n",
    "\n",
    "#Retirando caracteres poluentes das duas variáveis abaixo\n",
    "bd['categories'] = bd['categories'].str.replace('[\\[\\]\\'\\\"]', '', regex=True)\n",
    "bd['authors'] = bd['authors'].str.replace('[\\[\\]\\'\\\"]', '', regex=True)\n",
    "\n",
    "#Reservando somente o ano de publicação, dado que não havia uma uniformidade \n",
    "#no formato da data, alguns somente com o ano, outros no formato yyyy/mm/dd\n",
    "bd['publishedDate'] = bd['publishedDate'].str[:4]\n",
    "\n",
    "#Obtendo totais de avaliações para cada livro\n",
    "bd['ratingsCount'].fillna(0, inplace=True)\n",
    "bd['totalRatings'] = bd['readersRatings'] + bd['ratingsCount']\n",
    "\n",
    "bd.dropna(subset=['description'], inplace=True)"
   ]
  },
  {
   "cell_type": "code",
   "execution_count": 44,
   "metadata": {},
   "outputs": [],
   "source": [
    "#Filtro realizado devido quantidade de cometários no dataset books_rating ser muito grande, \n",
    "#o que ocasionou uma limitação no tempo de procesamento dos campos textuais\n",
    "#Retirando essa célula do processamento, o fluxo ocorre normalmente para o dataset completo\n",
    "bd = bd[bd['readersRatings'] == 100]\n",
    "selected_books = bd['Title'].unique()\n",
    "\n",
    "br = br[br['Title'].isin(selected_books)]"
   ]
  },
  {
   "cell_type": "code",
   "execution_count": 13,
   "metadata": {},
   "outputs": [
    {
     "name": "stdout",
     "output_type": "stream",
     "text": [
      "WARNING:tensorflow:From c:\\lib\\site-packages\\tf_keras\\src\\losses.py:2976: The name tf.losses.sparse_softmax_cross_entropy is deprecated. Please use tf.compat.v1.losses.sparse_softmax_cross_entropy instead.\n",
      "\n",
      "WARNING:tensorflow:From c:\\lib\\site-packages\\tf_keras\\src\\backend.py:873: The name tf.get_default_graph is deprecated. Please use tf.compat.v1.get_default_graph instead.\n",
      "\n"
     ]
    },
    {
     "name": "stderr",
     "output_type": "stream",
     "text": [
      "All PyTorch model weights were used when initializing TFDistilBertForSequenceClassification.\n",
      "\n",
      "All the weights of TFDistilBertForSequenceClassification were initialized from the PyTorch model.\n",
      "If your task is similar to the task the model of the checkpoint was trained on, you can already use TFDistilBertForSequenceClassification for predictions without further training.\n",
      "c:\\lib\\site-packages\\transformers\\pipelines\\text_classification.py:104: UserWarning:\n",
      "\n",
      "`return_all_scores` is now deprecated,  if want a similar functionality use `top_k=None` instead of `return_all_scores=True` or `top_k=1` instead of `return_all_scores=False`.\n",
      "\n"
     ]
    }
   ],
   "source": [
    "#Modelo de captação de sentimento usado\n",
    "sentiment_classifier = pipeline(\n",
    "    model=\"lxyuan/distilbert-base-multilingual-cased-sentiments-student\", \n",
    "    return_all_scores=True\n",
    ")"
   ]
  },
  {
   "cell_type": "code",
   "execution_count": 14,
   "metadata": {},
   "outputs": [
    {
     "data": {
      "text/plain": [
       "'Man vs Beast and the Birth of Civilization'"
      ]
     },
     "execution_count": 14,
     "metadata": {},
     "output_type": "execute_result"
    }
   ],
   "source": [
    "text = br['summary'][66533]\n",
    "text"
   ]
  },
  {
   "cell_type": "code",
   "execution_count": 15,
   "metadata": {},
   "outputs": [
    {
     "data": {
      "text/plain": [
       "[[{'label': 'positive', 'score': 0.531891942024231},\n",
       "  {'label': 'neutral', 'score': 0.18506908416748047},\n",
       "  {'label': 'negative', 'score': 0.2830389142036438}]]"
      ]
     },
     "execution_count": 15,
     "metadata": {},
     "output_type": "execute_result"
    }
   ],
   "source": [
    "result = sentiment_classifier(text)\n",
    "result"
   ]
  },
  {
   "cell_type": "code",
   "execution_count": null,
   "metadata": {},
   "outputs": [],
   "source": [
    "# Criando uma lista vazia para armazenar os resultados\n",
    "positive = []\n",
    "neutral = []\n",
    "negative = []\n",
    "\n",
    "# Iterando sobre cada valor da coluna 'summary'\n",
    "for value in tqdm(br['summary'], desc='Progress'):\n",
    "    \n",
    "    # Aplicando a função a cada valor\n",
    "    result = sentiment_classifier(value)\n",
    "\n",
    "    #Obtendo os valores dos resultados\n",
    "    positive_value = result[0][0]['score']\n",
    "    neutral_value = result[0][1]['score']\n",
    "    negative_value = result[0][2]['score']\n",
    "\n",
    "    # Adicionando os resultados à lista\n",
    "    positive.append(positive_value)\n",
    "    neutral.append(neutral_value)\n",
    "    negative.append(negative_value)\n",
    "\n",
    "# Criando novas colunas no DataFrame com os resultados\n",
    "br['summary_posit_score'] = positive\n",
    "br['summary_neut_score'] = neutral\n",
    "br['summary_neg_score'] = negative"
   ]
  },
  {
   "cell_type": "code",
   "execution_count": 17,
   "metadata": {},
   "outputs": [],
   "source": [
    "#Função utilizada para obter resumo dos scores gerados pela função sentiment_classifier\n",
    "def categorize(row):\n",
    "    if (row['summary_posit_score'] + row['summary_neut_score']) > row['summary_neg_score']:\n",
    "        return 'positivo'\n",
    "    else:\n",
    "        return 'negativo'\n",
    "\n",
    "# Aplicando a função a cada linha do DataFrame\n",
    "br['summary_score'] = br.apply(categorize, axis=1)"
   ]
  },
  {
   "cell_type": "code",
   "execution_count": null,
   "metadata": {},
   "outputs": [],
   "source": [
    "summarizer = pipeline(\"summarization\", model=\"Falconsai/text_summarization\")"
   ]
  },
  {
   "cell_type": "code",
   "execution_count": null,
   "metadata": {},
   "outputs": [],
   "source": [
    "# Criando uma lista vazia para armazenar os resultados\n",
    "summary = []\n",
    "\n",
    "# Iterando sobre cada valor da coluna 'description'\n",
    "for value in tqdm(bd['description'], desc='Progress'):\n",
    "    # Aplicando a função a cada valor\n",
    "    result = summarizer(value)\n",
    "\n",
    "    summary_value = result[0]['summary_text']\n",
    "\n",
    "    # Adicionando o resultado à lista\n",
    "    summary.append(summary_value)\n",
    "    \n",
    "# Criando uma nova coluna no DataFrame com os resultados\n",
    "bd['summaryDescription'] = summary"
   ]
  },
  {
   "cell_type": "code",
   "execution_count": 48,
   "metadata": {},
   "outputs": [
    {
     "name": "stdout",
     "output_type": "stream",
     "text": [
      "(38, 16)\n"
     ]
    },
    {
     "data": {
      "text/html": [
       "<div>\n",
       "<style scoped>\n",
       "    .dataframe tbody tr th:only-of-type {\n",
       "        vertical-align: middle;\n",
       "    }\n",
       "\n",
       "    .dataframe tbody tr th {\n",
       "        vertical-align: top;\n",
       "    }\n",
       "\n",
       "    .dataframe thead th {\n",
       "        text-align: right;\n",
       "    }\n",
       "</style>\n",
       "<table border=\"1\" class=\"dataframe\">\n",
       "  <thead>\n",
       "    <tr style=\"text-align: right;\">\n",
       "      <th></th>\n",
       "      <th>Title</th>\n",
       "      <th>description</th>\n",
       "      <th>authors</th>\n",
       "      <th>image</th>\n",
       "      <th>previewLink</th>\n",
       "      <th>publisher</th>\n",
       "      <th>publishedDate</th>\n",
       "      <th>infoLink</th>\n",
       "      <th>categories</th>\n",
       "      <th>ratingsCount</th>\n",
       "      <th>Price</th>\n",
       "      <th>score</th>\n",
       "      <th>time</th>\n",
       "      <th>readersRatings</th>\n",
       "      <th>totalRatings</th>\n",
       "      <th>summaryDescription</th>\n",
       "    </tr>\n",
       "  </thead>\n",
       "  <tbody>\n",
       "    <tr>\n",
       "      <th>4553</th>\n",
       "      <td>Death in the Afternoon</td>\n",
       "      <td>Still considered one of the best books ever wr...</td>\n",
       "      <td>Ernest Hemingway</td>\n",
       "      <td>http://books.google.com/books/content?id=AdFQA...</td>\n",
       "      <td>http://books.google.nl/books?id=AdFQAQAAQBAJ&amp;p...</td>\n",
       "      <td>Simon and Schuster</td>\n",
       "      <td>2014</td>\n",
       "      <td>https://play.google.com/store/books/details?id...</td>\n",
       "      <td>Literary Criticism</td>\n",
       "      <td>9.0</td>\n",
       "      <td>NaN</td>\n",
       "      <td>3.96</td>\n",
       "      <td>308.96400</td>\n",
       "      <td>100</td>\n",
       "      <td>109.0</td>\n",
       "      <td>Death in the Afternoon is an impassioned look ...</td>\n",
       "    </tr>\n",
       "    <tr>\n",
       "      <th>9230</th>\n",
       "      <td>The Geographer's Library</td>\n",
       "      <td>Item 1: An alembic is the top part of an appar...</td>\n",
       "      <td>Jon Fasman</td>\n",
       "      <td>http://books.google.com/books/content?id=H5ogA...</td>\n",
       "      <td>http://books.google.nl/books?id=H5ogAQAAIAAJ&amp;q...</td>\n",
       "      <td>Penguin Press HC</td>\n",
       "      <td>2005</td>\n",
       "      <td>http://books.google.nl/books?id=H5ogAQAAIAAJ&amp;d...</td>\n",
       "      <td>Fiction</td>\n",
       "      <td>33.0</td>\n",
       "      <td>NaN</td>\n",
       "      <td>3.06</td>\n",
       "      <td>324.26232</td>\n",
       "      <td>100</td>\n",
       "      <td>133.0</td>\n",
       "      <td>Item 1: An alembic is the top part of an appar...</td>\n",
       "    </tr>\n",
       "    <tr>\n",
       "      <th>13509</th>\n",
       "      <td>LifeSupport</td>\n",
       "      <td>From New York Times bestselling author Tess Ge...</td>\n",
       "      <td>Tess Gerritsen</td>\n",
       "      <td>http://books.google.com/books/content?id=s-bKp...</td>\n",
       "      <td>http://books.google.nl/books?id=s-bKpPSlbbUC&amp;q...</td>\n",
       "      <td>Pocket Books</td>\n",
       "      <td>1998</td>\n",
       "      <td>http://books.google.nl/books?id=s-bKpPSlbbUC&amp;d...</td>\n",
       "      <td>Fiction</td>\n",
       "      <td>2.0</td>\n",
       "      <td>NaN</td>\n",
       "      <td>4.20</td>\n",
       "      <td>310.63536</td>\n",
       "      <td>100</td>\n",
       "      <td>102.0</td>\n",
       "      <td>The quiet overnight shift at Springer Hospital...</td>\n",
       "    </tr>\n",
       "    <tr>\n",
       "      <th>14923</th>\n",
       "      <td>Population: 485 : Meeting Your Neighbors One S...</td>\n",
       "      <td>Welcome to New Auburn, Wisconsin, where the lo...</td>\n",
       "      <td>Michael Perry</td>\n",
       "      <td>http://books.google.com/books/content?id=IOhWr...</td>\n",
       "      <td>http://books.google.nl/books?id=IOhWrgEACAAJ&amp;d...</td>\n",
       "      <td>Harper Perennial</td>\n",
       "      <td>2007</td>\n",
       "      <td>http://books.google.nl/books?id=IOhWrgEACAAJ&amp;d...</td>\n",
       "      <td>Travel</td>\n",
       "      <td>25.0</td>\n",
       "      <td>NaN</td>\n",
       "      <td>4.62</td>\n",
       "      <td>326.88408</td>\n",
       "      <td>100</td>\n",
       "      <td>125.0</td>\n",
       "      <td>The most senior member of the volunteer fire d...</td>\n",
       "    </tr>\n",
       "    <tr>\n",
       "      <th>21679</th>\n",
       "      <td>The Light of Western Stars</td>\n",
       "      <td>This eBook features the unabridged text of ‘Th...</td>\n",
       "      <td>Zane Grey</td>\n",
       "      <td>http://books.google.com/books/content?id=EKDWD...</td>\n",
       "      <td>http://books.google.com/books?id=EKDWDwAAQBAJ&amp;...</td>\n",
       "      <td>Delphi Classics</td>\n",
       "      <td>2017</td>\n",
       "      <td>https://play.google.com/store/books/details?id...</td>\n",
       "      <td>Fiction</td>\n",
       "      <td>0.0</td>\n",
       "      <td>25.8</td>\n",
       "      <td>4.38</td>\n",
       "      <td>374.31096</td>\n",
       "      <td>100</td>\n",
       "      <td>100.0</td>\n",
       "      <td>This eBook features the unabridged text of ‘Th...</td>\n",
       "    </tr>\n",
       "  </tbody>\n",
       "</table>\n",
       "</div>"
      ],
      "text/plain": [
       "                                                   Title  \\\n",
       "4553                              Death in the Afternoon   \n",
       "9230                            The Geographer's Library   \n",
       "13509                                        LifeSupport   \n",
       "14923  Population: 485 : Meeting Your Neighbors One S...   \n",
       "21679                         The Light of Western Stars   \n",
       "\n",
       "                                             description           authors  \\\n",
       "4553   Still considered one of the best books ever wr...  Ernest Hemingway   \n",
       "9230   Item 1: An alembic is the top part of an appar...        Jon Fasman   \n",
       "13509  From New York Times bestselling author Tess Ge...    Tess Gerritsen   \n",
       "14923  Welcome to New Auburn, Wisconsin, where the lo...     Michael Perry   \n",
       "21679  This eBook features the unabridged text of ‘Th...         Zane Grey   \n",
       "\n",
       "                                                   image  \\\n",
       "4553   http://books.google.com/books/content?id=AdFQA...   \n",
       "9230   http://books.google.com/books/content?id=H5ogA...   \n",
       "13509  http://books.google.com/books/content?id=s-bKp...   \n",
       "14923  http://books.google.com/books/content?id=IOhWr...   \n",
       "21679  http://books.google.com/books/content?id=EKDWD...   \n",
       "\n",
       "                                             previewLink           publisher  \\\n",
       "4553   http://books.google.nl/books?id=AdFQAQAAQBAJ&p...  Simon and Schuster   \n",
       "9230   http://books.google.nl/books?id=H5ogAQAAIAAJ&q...    Penguin Press HC   \n",
       "13509  http://books.google.nl/books?id=s-bKpPSlbbUC&q...        Pocket Books   \n",
       "14923  http://books.google.nl/books?id=IOhWrgEACAAJ&d...    Harper Perennial   \n",
       "21679  http://books.google.com/books?id=EKDWDwAAQBAJ&...     Delphi Classics   \n",
       "\n",
       "      publishedDate                                           infoLink  \\\n",
       "4553           2014  https://play.google.com/store/books/details?id...   \n",
       "9230           2005  http://books.google.nl/books?id=H5ogAQAAIAAJ&d...   \n",
       "13509          1998  http://books.google.nl/books?id=s-bKpPSlbbUC&d...   \n",
       "14923          2007  http://books.google.nl/books?id=IOhWrgEACAAJ&d...   \n",
       "21679          2017  https://play.google.com/store/books/details?id...   \n",
       "\n",
       "               categories  ratingsCount  Price  score       time  \\\n",
       "4553   Literary Criticism           9.0    NaN   3.96  308.96400   \n",
       "9230              Fiction          33.0    NaN   3.06  324.26232   \n",
       "13509             Fiction           2.0    NaN   4.20  310.63536   \n",
       "14923              Travel          25.0    NaN   4.62  326.88408   \n",
       "21679             Fiction           0.0   25.8   4.38  374.31096   \n",
       "\n",
       "       readersRatings  totalRatings  \\\n",
       "4553              100         109.0   \n",
       "9230              100         133.0   \n",
       "13509             100         102.0   \n",
       "14923             100         125.0   \n",
       "21679             100         100.0   \n",
       "\n",
       "                                      summaryDescription  \n",
       "4553   Death in the Afternoon is an impassioned look ...  \n",
       "9230   Item 1: An alembic is the top part of an appar...  \n",
       "13509  The quiet overnight shift at Springer Hospital...  \n",
       "14923  The most senior member of the volunteer fire d...  \n",
       "21679  This eBook features the unabridged text of ‘Th...  "
      ]
     },
     "execution_count": 48,
     "metadata": {},
     "output_type": "execute_result"
    }
   ],
   "source": [
    "print(bd.shape)\n",
    "bd.head(5)"
   ]
  },
  {
   "cell_type": "code",
   "execution_count": 49,
   "metadata": {},
   "outputs": [
    {
     "name": "stdout",
     "output_type": "stream",
     "text": [
      "(3800, 13)\n"
     ]
    },
    {
     "data": {
      "text/html": [
       "<div>\n",
       "<style scoped>\n",
       "    .dataframe tbody tr th:only-of-type {\n",
       "        vertical-align: middle;\n",
       "    }\n",
       "\n",
       "    .dataframe tbody tr th {\n",
       "        vertical-align: top;\n",
       "    }\n",
       "\n",
       "    .dataframe thead th {\n",
       "        text-align: right;\n",
       "    }\n",
       "</style>\n",
       "<table border=\"1\" class=\"dataframe\">\n",
       "  <thead>\n",
       "    <tr style=\"text-align: right;\">\n",
       "      <th></th>\n",
       "      <th>Id</th>\n",
       "      <th>Title</th>\n",
       "      <th>Price</th>\n",
       "      <th>User_id</th>\n",
       "      <th>profileName</th>\n",
       "      <th>score</th>\n",
       "      <th>time</th>\n",
       "      <th>summary</th>\n",
       "      <th>text</th>\n",
       "      <th>summary_posit_score</th>\n",
       "      <th>summary_neut_score</th>\n",
       "      <th>summary_neg_score</th>\n",
       "      <th>summary_score</th>\n",
       "    </tr>\n",
       "  </thead>\n",
       "  <tbody>\n",
       "    <tr>\n",
       "      <th>66533</th>\n",
       "      <td>B000JWW1UG</td>\n",
       "      <td>Death in the Afternoon</td>\n",
       "      <td>NaN</td>\n",
       "      <td>A1ZA12IECEKIY</td>\n",
       "      <td>Mark Cohen</td>\n",
       "      <td>4.0</td>\n",
       "      <td>376.680</td>\n",
       "      <td>Man vs Beast and the Birth of Civilization</td>\n",
       "      <td>Bullfighting was born in Spain many centuries ...</td>\n",
       "      <td>0.531892</td>\n",
       "      <td>0.185069</td>\n",
       "      <td>0.283039</td>\n",
       "      <td>positivo</td>\n",
       "    </tr>\n",
       "    <tr>\n",
       "      <th>66534</th>\n",
       "      <td>B000JWW1UG</td>\n",
       "      <td>Death in the Afternoon</td>\n",
       "      <td>NaN</td>\n",
       "      <td>A2UO3C0HLKCZ4F</td>\n",
       "      <td>R. Huitron</td>\n",
       "      <td>4.0</td>\n",
       "      <td>376.320</td>\n",
       "      <td>if one is born outside of bullfighting culture...</td>\n",
       "      <td>A lot of times people end up hating something ...</td>\n",
       "      <td>0.190422</td>\n",
       "      <td>0.166635</td>\n",
       "      <td>0.642942</td>\n",
       "      <td>negativo</td>\n",
       "    </tr>\n",
       "    <tr>\n",
       "      <th>66535</th>\n",
       "      <td>B000JWW1UG</td>\n",
       "      <td>Death in the Afternoon</td>\n",
       "      <td>NaN</td>\n",
       "      <td>AIHBELNQRGPVD</td>\n",
       "      <td>acacia</td>\n",
       "      <td>4.0</td>\n",
       "      <td>375.024</td>\n",
       "      <td>death in the afternoon</td>\n",
       "      <td>I enjoyed the first part of the book all about...</td>\n",
       "      <td>0.095906</td>\n",
       "      <td>0.146184</td>\n",
       "      <td>0.757909</td>\n",
       "      <td>negativo</td>\n",
       "    </tr>\n",
       "    <tr>\n",
       "      <th>66536</th>\n",
       "      <td>B000JWW1UG</td>\n",
       "      <td>Death in the Afternoon</td>\n",
       "      <td>NaN</td>\n",
       "      <td>A1N7T3TGQT3CS3</td>\n",
       "      <td>diogenes</td>\n",
       "      <td>4.0</td>\n",
       "      <td>373.608</td>\n",
       "      <td>Excellent primer for bullfighting lore.</td>\n",
       "      <td>I've reread this book for the third time this ...</td>\n",
       "      <td>0.893192</td>\n",
       "      <td>0.067662</td>\n",
       "      <td>0.039146</td>\n",
       "      <td>positivo</td>\n",
       "    </tr>\n",
       "    <tr>\n",
       "      <th>66537</th>\n",
       "      <td>B000JWW1UG</td>\n",
       "      <td>Death in the Afternoon</td>\n",
       "      <td>NaN</td>\n",
       "      <td>A2WXFSE5PJ70NV</td>\n",
       "      <td>Jim</td>\n",
       "      <td>5.0</td>\n",
       "      <td>372.816</td>\n",
       "      <td>Classic</td>\n",
       "      <td>Excellent book about bullfighting and travelli...</td>\n",
       "      <td>0.637950</td>\n",
       "      <td>0.234253</td>\n",
       "      <td>0.127797</td>\n",
       "      <td>positivo</td>\n",
       "    </tr>\n",
       "  </tbody>\n",
       "</table>\n",
       "</div>"
      ],
      "text/plain": [
       "               Id                   Title  Price         User_id profileName  \\\n",
       "66533  B000JWW1UG  Death in the Afternoon    NaN   A1ZA12IECEKIY  Mark Cohen   \n",
       "66534  B000JWW1UG  Death in the Afternoon    NaN  A2UO3C0HLKCZ4F  R. Huitron   \n",
       "66535  B000JWW1UG  Death in the Afternoon    NaN   AIHBELNQRGPVD      acacia   \n",
       "66536  B000JWW1UG  Death in the Afternoon    NaN  A1N7T3TGQT3CS3    diogenes   \n",
       "66537  B000JWW1UG  Death in the Afternoon    NaN  A2WXFSE5PJ70NV         Jim   \n",
       "\n",
       "       score     time                                            summary  \\\n",
       "66533    4.0  376.680         Man vs Beast and the Birth of Civilization   \n",
       "66534    4.0  376.320  if one is born outside of bullfighting culture...   \n",
       "66535    4.0  375.024                             death in the afternoon   \n",
       "66536    4.0  373.608            Excellent primer for bullfighting lore.   \n",
       "66537    5.0  372.816                                            Classic   \n",
       "\n",
       "                                                    text  summary_posit_score  \\\n",
       "66533  Bullfighting was born in Spain many centuries ...             0.531892   \n",
       "66534  A lot of times people end up hating something ...             0.190422   \n",
       "66535  I enjoyed the first part of the book all about...             0.095906   \n",
       "66536  I've reread this book for the third time this ...             0.893192   \n",
       "66537  Excellent book about bullfighting and travelli...             0.637950   \n",
       "\n",
       "       summary_neut_score  summary_neg_score summary_score  \n",
       "66533            0.185069           0.283039      positivo  \n",
       "66534            0.166635           0.642942      negativo  \n",
       "66535            0.146184           0.757909      negativo  \n",
       "66536            0.067662           0.039146      positivo  \n",
       "66537            0.234253           0.127797      positivo  "
      ]
     },
     "execution_count": 49,
     "metadata": {},
     "output_type": "execute_result"
    }
   ],
   "source": [
    "print(br.shape)\n",
    "br.head(5)"
   ]
  },
  {
   "cell_type": "code",
   "execution_count": null,
   "metadata": {},
   "outputs": [],
   "source": [
    "bd['time'] = bd['time'] / 3600000\n",
    "br['time'] = br['time'] / 3600000"
   ]
  },
  {
   "cell_type": "code",
   "execution_count": 46,
   "metadata": {},
   "outputs": [],
   "source": [
    "bd.to_parquet(r'..\\\\..\\\\Desafio_A3Data\\\\Databases\\\\work_books_data.parquet', engine='pyarrow')\n",
    "br.to_parquet(r'..\\\\..\\\\Desafio_A3Data\\\\Databases\\\\work_books_rating.parquet', engine='pyarrow')"
   ]
  },
  {
   "cell_type": "markdown",
   "metadata": {},
   "source": [
    "### 4.0 - EDA"
   ]
  },
  {
   "cell_type": "code",
   "execution_count": 4,
   "metadata": {},
   "outputs": [],
   "source": [
    "bd = pd.read_parquet(r'..\\\\..\\\\Desafio_A3Data\\\\Databases\\\\work_books_data.parquet', engine='pyarrow')\n",
    "br = pd.read_parquet(r'..\\\\..\\\\Desafio_A3Data\\\\Databases\\\\work_books_rating.parquet', engine='pyarrow')"
   ]
  },
  {
   "cell_type": "code",
   "execution_count": 51,
   "metadata": {},
   "outputs": [
    {
     "data": {
      "application/vnd.plotly.v1+json": {
       "config": {
        "plotlyServerURL": "https://plot.ly"
       },
       "data": [
        {
         "hoverinfo": "y+x",
         "marker": {
          "color": "#1f77b4"
         },
         "name": "Valores",
         "orientation": "h",
         "text": [
          4.8,
          4.68,
          4.66,
          4.62,
          4.62,
          4.61,
          4.58,
          4.57,
          4.56,
          4.54,
          4.51,
          4.5,
          4.44,
          4.42,
          4.42,
          4.42,
          4.41,
          4.38,
          4.36,
          4.24,
          4.21,
          4.2,
          4.17,
          4.11,
          4.1,
          4.08,
          4,
          3.96,
          3.9,
          3.88,
          3.79,
          3.75,
          3.67,
          3.57,
          3.5,
          3.28,
          3.06,
          3.02
         ],
         "textposition": "outside",
         "type": "bar",
         "x": [
          4.8,
          4.68,
          4.66,
          4.62,
          4.62,
          4.61,
          4.58,
          4.57,
          4.56,
          4.54,
          4.51,
          4.5,
          4.44,
          4.42,
          4.42,
          4.42,
          4.41,
          4.38,
          4.36,
          4.24,
          4.21,
          4.2,
          4.17,
          4.11,
          4.1,
          4.08,
          4,
          3.96,
          3.9,
          3.88,
          3.79,
          3.75,
          3.67,
          3.57,
          3.5,
          3.28,
          3.06,
          3.02
         ],
         "y": [
          "A Searching Heart (Prairie Legacy Series #2)",
          "Joni",
          "Christianity and liberalism",
          "Population: 485 : Meeting Your Neighbors One Siren at a Time",
          "Constitutional Law: Principles and Policies (Aspen's Introduction to Law Series)",
          "Ramona the pest",
          "Judas Child",
          "More Wealth Without Risk",
          "Adobe Photoshop CS2 One-On-One",
          "Alaska (Turtleback School & Library Binding Edition)",
          "Ethics for the New Millennium",
          "The Law of Success, in Sixteen Lessons",
          "Don't Pee on My Leg and Tell Me It's Raining: America's Toughest Family Court Judge Speaks Out",
          "The Confusion (The Baroque Cycle, Vol. 2)",
          "Five Little Peppers and How They Grew",
          "The Things We Do for Love (Brilliance Audio on Compact Disc)",
          "New Junior Cookbook",
          "The Light of Western Stars",
          "If You Come Softly",
          "Making the best of basics: Family preparedness handbook",
          "The Best-Kept Secret",
          "LifeSupport",
          "\"C\" is for Corpse (A Kinsey Millhone mystery, Book 3)",
          "The Great Mortality : An Intimate History of the Black Death, the Most Devastating Plague of All Time",
          "A Death In The Family",
          "The Devil of Nanking",
          "The Biggest Loser: The Weight Loss Program to Transform Your Body, Health, and Life--Adapted from NBC's Hit Show!",
          "Death in the Afternoon",
          "Look Homeward, Angel",
          "Everyday Greatness: Inspiration for a Meaningful Life",
          "The Ten Thousand: A Novel of Ancient Greece",
          "The Wapshot Chronicle",
          "Abraham",
          "Haunts of the Bushrangers",
          "Splinter of the Mind's Eye",
          "Member of the Wedding",
          "The Geographer's Library",
          "Elementary Differential Equations and Boundary Value Problems"
         ]
        }
       ],
       "layout": {
        "height": 800,
        "margin": {
         "b": 50,
         "l": 150,
         "r": 50,
         "t": 50
        },
        "paper_bgcolor": "white",
        "plot_bgcolor": "white",
        "template": {
         "data": {
          "bar": [
           {
            "error_x": {
             "color": "#2a3f5f"
            },
            "error_y": {
             "color": "#2a3f5f"
            },
            "marker": {
             "line": {
              "color": "#E5ECF6",
              "width": 0.5
             },
             "pattern": {
              "fillmode": "overlay",
              "size": 10,
              "solidity": 0.2
             }
            },
            "type": "bar"
           }
          ],
          "barpolar": [
           {
            "marker": {
             "line": {
              "color": "#E5ECF6",
              "width": 0.5
             },
             "pattern": {
              "fillmode": "overlay",
              "size": 10,
              "solidity": 0.2
             }
            },
            "type": "barpolar"
           }
          ],
          "carpet": [
           {
            "aaxis": {
             "endlinecolor": "#2a3f5f",
             "gridcolor": "white",
             "linecolor": "white",
             "minorgridcolor": "white",
             "startlinecolor": "#2a3f5f"
            },
            "baxis": {
             "endlinecolor": "#2a3f5f",
             "gridcolor": "white",
             "linecolor": "white",
             "minorgridcolor": "white",
             "startlinecolor": "#2a3f5f"
            },
            "type": "carpet"
           }
          ],
          "choropleth": [
           {
            "colorbar": {
             "outlinewidth": 0,
             "ticks": ""
            },
            "type": "choropleth"
           }
          ],
          "contour": [
           {
            "colorbar": {
             "outlinewidth": 0,
             "ticks": ""
            },
            "colorscale": [
             [
              0,
              "#0d0887"
             ],
             [
              0.1111111111111111,
              "#46039f"
             ],
             [
              0.2222222222222222,
              "#7201a8"
             ],
             [
              0.3333333333333333,
              "#9c179e"
             ],
             [
              0.4444444444444444,
              "#bd3786"
             ],
             [
              0.5555555555555556,
              "#d8576b"
             ],
             [
              0.6666666666666666,
              "#ed7953"
             ],
             [
              0.7777777777777778,
              "#fb9f3a"
             ],
             [
              0.8888888888888888,
              "#fdca26"
             ],
             [
              1,
              "#f0f921"
             ]
            ],
            "type": "contour"
           }
          ],
          "contourcarpet": [
           {
            "colorbar": {
             "outlinewidth": 0,
             "ticks": ""
            },
            "type": "contourcarpet"
           }
          ],
          "heatmap": [
           {
            "colorbar": {
             "outlinewidth": 0,
             "ticks": ""
            },
            "colorscale": [
             [
              0,
              "#0d0887"
             ],
             [
              0.1111111111111111,
              "#46039f"
             ],
             [
              0.2222222222222222,
              "#7201a8"
             ],
             [
              0.3333333333333333,
              "#9c179e"
             ],
             [
              0.4444444444444444,
              "#bd3786"
             ],
             [
              0.5555555555555556,
              "#d8576b"
             ],
             [
              0.6666666666666666,
              "#ed7953"
             ],
             [
              0.7777777777777778,
              "#fb9f3a"
             ],
             [
              0.8888888888888888,
              "#fdca26"
             ],
             [
              1,
              "#f0f921"
             ]
            ],
            "type": "heatmap"
           }
          ],
          "heatmapgl": [
           {
            "colorbar": {
             "outlinewidth": 0,
             "ticks": ""
            },
            "colorscale": [
             [
              0,
              "#0d0887"
             ],
             [
              0.1111111111111111,
              "#46039f"
             ],
             [
              0.2222222222222222,
              "#7201a8"
             ],
             [
              0.3333333333333333,
              "#9c179e"
             ],
             [
              0.4444444444444444,
              "#bd3786"
             ],
             [
              0.5555555555555556,
              "#d8576b"
             ],
             [
              0.6666666666666666,
              "#ed7953"
             ],
             [
              0.7777777777777778,
              "#fb9f3a"
             ],
             [
              0.8888888888888888,
              "#fdca26"
             ],
             [
              1,
              "#f0f921"
             ]
            ],
            "type": "heatmapgl"
           }
          ],
          "histogram": [
           {
            "marker": {
             "pattern": {
              "fillmode": "overlay",
              "size": 10,
              "solidity": 0.2
             }
            },
            "type": "histogram"
           }
          ],
          "histogram2d": [
           {
            "colorbar": {
             "outlinewidth": 0,
             "ticks": ""
            },
            "colorscale": [
             [
              0,
              "#0d0887"
             ],
             [
              0.1111111111111111,
              "#46039f"
             ],
             [
              0.2222222222222222,
              "#7201a8"
             ],
             [
              0.3333333333333333,
              "#9c179e"
             ],
             [
              0.4444444444444444,
              "#bd3786"
             ],
             [
              0.5555555555555556,
              "#d8576b"
             ],
             [
              0.6666666666666666,
              "#ed7953"
             ],
             [
              0.7777777777777778,
              "#fb9f3a"
             ],
             [
              0.8888888888888888,
              "#fdca26"
             ],
             [
              1,
              "#f0f921"
             ]
            ],
            "type": "histogram2d"
           }
          ],
          "histogram2dcontour": [
           {
            "colorbar": {
             "outlinewidth": 0,
             "ticks": ""
            },
            "colorscale": [
             [
              0,
              "#0d0887"
             ],
             [
              0.1111111111111111,
              "#46039f"
             ],
             [
              0.2222222222222222,
              "#7201a8"
             ],
             [
              0.3333333333333333,
              "#9c179e"
             ],
             [
              0.4444444444444444,
              "#bd3786"
             ],
             [
              0.5555555555555556,
              "#d8576b"
             ],
             [
              0.6666666666666666,
              "#ed7953"
             ],
             [
              0.7777777777777778,
              "#fb9f3a"
             ],
             [
              0.8888888888888888,
              "#fdca26"
             ],
             [
              1,
              "#f0f921"
             ]
            ],
            "type": "histogram2dcontour"
           }
          ],
          "mesh3d": [
           {
            "colorbar": {
             "outlinewidth": 0,
             "ticks": ""
            },
            "type": "mesh3d"
           }
          ],
          "parcoords": [
           {
            "line": {
             "colorbar": {
              "outlinewidth": 0,
              "ticks": ""
             }
            },
            "type": "parcoords"
           }
          ],
          "pie": [
           {
            "automargin": true,
            "type": "pie"
           }
          ],
          "scatter": [
           {
            "fillpattern": {
             "fillmode": "overlay",
             "size": 10,
             "solidity": 0.2
            },
            "type": "scatter"
           }
          ],
          "scatter3d": [
           {
            "line": {
             "colorbar": {
              "outlinewidth": 0,
              "ticks": ""
             }
            },
            "marker": {
             "colorbar": {
              "outlinewidth": 0,
              "ticks": ""
             }
            },
            "type": "scatter3d"
           }
          ],
          "scattercarpet": [
           {
            "marker": {
             "colorbar": {
              "outlinewidth": 0,
              "ticks": ""
             }
            },
            "type": "scattercarpet"
           }
          ],
          "scattergeo": [
           {
            "marker": {
             "colorbar": {
              "outlinewidth": 0,
              "ticks": ""
             }
            },
            "type": "scattergeo"
           }
          ],
          "scattergl": [
           {
            "marker": {
             "colorbar": {
              "outlinewidth": 0,
              "ticks": ""
             }
            },
            "type": "scattergl"
           }
          ],
          "scattermapbox": [
           {
            "marker": {
             "colorbar": {
              "outlinewidth": 0,
              "ticks": ""
             }
            },
            "type": "scattermapbox"
           }
          ],
          "scatterpolar": [
           {
            "marker": {
             "colorbar": {
              "outlinewidth": 0,
              "ticks": ""
             }
            },
            "type": "scatterpolar"
           }
          ],
          "scatterpolargl": [
           {
            "marker": {
             "colorbar": {
              "outlinewidth": 0,
              "ticks": ""
             }
            },
            "type": "scatterpolargl"
           }
          ],
          "scatterternary": [
           {
            "marker": {
             "colorbar": {
              "outlinewidth": 0,
              "ticks": ""
             }
            },
            "type": "scatterternary"
           }
          ],
          "surface": [
           {
            "colorbar": {
             "outlinewidth": 0,
             "ticks": ""
            },
            "colorscale": [
             [
              0,
              "#0d0887"
             ],
             [
              0.1111111111111111,
              "#46039f"
             ],
             [
              0.2222222222222222,
              "#7201a8"
             ],
             [
              0.3333333333333333,
              "#9c179e"
             ],
             [
              0.4444444444444444,
              "#bd3786"
             ],
             [
              0.5555555555555556,
              "#d8576b"
             ],
             [
              0.6666666666666666,
              "#ed7953"
             ],
             [
              0.7777777777777778,
              "#fb9f3a"
             ],
             [
              0.8888888888888888,
              "#fdca26"
             ],
             [
              1,
              "#f0f921"
             ]
            ],
            "type": "surface"
           }
          ],
          "table": [
           {
            "cells": {
             "fill": {
              "color": "#EBF0F8"
             },
             "line": {
              "color": "white"
             }
            },
            "header": {
             "fill": {
              "color": "#C8D4E3"
             },
             "line": {
              "color": "white"
             }
            },
            "type": "table"
           }
          ]
         },
         "layout": {
          "annotationdefaults": {
           "arrowcolor": "#2a3f5f",
           "arrowhead": 0,
           "arrowwidth": 1
          },
          "autotypenumbers": "strict",
          "coloraxis": {
           "colorbar": {
            "outlinewidth": 0,
            "ticks": ""
           }
          },
          "colorscale": {
           "diverging": [
            [
             0,
             "#8e0152"
            ],
            [
             0.1,
             "#c51b7d"
            ],
            [
             0.2,
             "#de77ae"
            ],
            [
             0.3,
             "#f1b6da"
            ],
            [
             0.4,
             "#fde0ef"
            ],
            [
             0.5,
             "#f7f7f7"
            ],
            [
             0.6,
             "#e6f5d0"
            ],
            [
             0.7,
             "#b8e186"
            ],
            [
             0.8,
             "#7fbc41"
            ],
            [
             0.9,
             "#4d9221"
            ],
            [
             1,
             "#276419"
            ]
           ],
           "sequential": [
            [
             0,
             "#0d0887"
            ],
            [
             0.1111111111111111,
             "#46039f"
            ],
            [
             0.2222222222222222,
             "#7201a8"
            ],
            [
             0.3333333333333333,
             "#9c179e"
            ],
            [
             0.4444444444444444,
             "#bd3786"
            ],
            [
             0.5555555555555556,
             "#d8576b"
            ],
            [
             0.6666666666666666,
             "#ed7953"
            ],
            [
             0.7777777777777778,
             "#fb9f3a"
            ],
            [
             0.8888888888888888,
             "#fdca26"
            ],
            [
             1,
             "#f0f921"
            ]
           ],
           "sequentialminus": [
            [
             0,
             "#0d0887"
            ],
            [
             0.1111111111111111,
             "#46039f"
            ],
            [
             0.2222222222222222,
             "#7201a8"
            ],
            [
             0.3333333333333333,
             "#9c179e"
            ],
            [
             0.4444444444444444,
             "#bd3786"
            ],
            [
             0.5555555555555556,
             "#d8576b"
            ],
            [
             0.6666666666666666,
             "#ed7953"
            ],
            [
             0.7777777777777778,
             "#fb9f3a"
            ],
            [
             0.8888888888888888,
             "#fdca26"
            ],
            [
             1,
             "#f0f921"
            ]
           ]
          },
          "colorway": [
           "#636efa",
           "#EF553B",
           "#00cc96",
           "#ab63fa",
           "#FFA15A",
           "#19d3f3",
           "#FF6692",
           "#B6E880",
           "#FF97FF",
           "#FECB52"
          ],
          "font": {
           "color": "#2a3f5f"
          },
          "geo": {
           "bgcolor": "white",
           "lakecolor": "white",
           "landcolor": "#E5ECF6",
           "showlakes": true,
           "showland": true,
           "subunitcolor": "white"
          },
          "hoverlabel": {
           "align": "left"
          },
          "hovermode": "closest",
          "mapbox": {
           "style": "light"
          },
          "paper_bgcolor": "white",
          "plot_bgcolor": "#E5ECF6",
          "polar": {
           "angularaxis": {
            "gridcolor": "white",
            "linecolor": "white",
            "ticks": ""
           },
           "bgcolor": "#E5ECF6",
           "radialaxis": {
            "gridcolor": "white",
            "linecolor": "white",
            "ticks": ""
           }
          },
          "scene": {
           "xaxis": {
            "backgroundcolor": "#E5ECF6",
            "gridcolor": "white",
            "gridwidth": 2,
            "linecolor": "white",
            "showbackground": true,
            "ticks": "",
            "zerolinecolor": "white"
           },
           "yaxis": {
            "backgroundcolor": "#E5ECF6",
            "gridcolor": "white",
            "gridwidth": 2,
            "linecolor": "white",
            "showbackground": true,
            "ticks": "",
            "zerolinecolor": "white"
           },
           "zaxis": {
            "backgroundcolor": "#E5ECF6",
            "gridcolor": "white",
            "gridwidth": 2,
            "linecolor": "white",
            "showbackground": true,
            "ticks": "",
            "zerolinecolor": "white"
           }
          },
          "shapedefaults": {
           "line": {
            "color": "#2a3f5f"
           }
          },
          "ternary": {
           "aaxis": {
            "gridcolor": "white",
            "linecolor": "white",
            "ticks": ""
           },
           "baxis": {
            "gridcolor": "white",
            "linecolor": "white",
            "ticks": ""
           },
           "bgcolor": "#E5ECF6",
           "caxis": {
            "gridcolor": "white",
            "linecolor": "white",
            "ticks": ""
           }
          },
          "title": {
           "x": 0.05
          },
          "xaxis": {
           "automargin": true,
           "gridcolor": "white",
           "linecolor": "white",
           "ticks": "",
           "title": {
            "standoff": 15
           },
           "zerolinecolor": "white",
           "zerolinewidth": 2
          },
          "yaxis": {
           "automargin": true,
           "gridcolor": "white",
           "linecolor": "white",
           "ticks": "",
           "title": {
            "standoff": 15
           },
           "zerolinecolor": "white",
           "zerolinewidth": 2
          }
         }
        },
        "title": {
         "font": {
          "color": "black",
          "family": "Arial",
          "size": 20
         },
         "text": "Scores dos Livros: Avaliação dos Leitores"
        },
        "width": 1300,
        "xaxis": {
         "tickfont": {
          "size": 12
         },
         "title": {
          "font": {
           "color": "black",
           "family": "Arial",
           "size": 16
          },
          "text": "Score"
         }
        },
        "yaxis": {
         "tickfont": {
          "size": 12
         },
         "title": {
          "font": {
           "color": "black",
           "family": "Arial",
           "size": 16
          },
          "text": "Livros"
         }
        }
       }
      }
     },
     "metadata": {},
     "output_type": "display_data"
    }
   ],
   "source": [
    "# Ordenar os dados pelo score do maior para o menor\n",
    "bd_sorted = bd.sort_values(by='score', ascending=False)\n",
    "\n",
    "# Dados para o gráfico\n",
    "categorias = bd_sorted['Title']\n",
    "valores = bd_sorted['score']\n",
    "\n",
    "# Criação do gráfico de barras horizontal\n",
    "fig = go.Figure(data=[\n",
    "    go.Bar(\n",
    "        name='Valores', \n",
    "        y=categorias, \n",
    "        x=valores, \n",
    "        orientation='h',\n",
    "        marker=dict(\n",
    "            color='#1f77b4'  # Cor das barras\n",
    "        ),\n",
    "        text=valores,  # Adiciona os valores como rótulos\n",
    "        textposition='outside',  # Posição dos rótulos\n",
    "        hoverinfo='y+x'  # Informação exibida ao passar o mouse\n",
    "    )\n",
    "])\n",
    "\n",
    "# Personalização do layout do gráfico\n",
    "fig.update_layout(\n",
    "    title='Scores dos Livros: Avaliação dos Leitores',\n",
    "    title_font=dict(size=20, family='Arial', color='black'),\n",
    "    xaxis_title='Score',\n",
    "    yaxis_title='Livros',\n",
    "    xaxis=dict(\n",
    "        title_font=dict(size=16, family='Arial', color='black'),\n",
    "        tickfont=dict(size=12)\n",
    "    ),\n",
    "    yaxis=dict(\n",
    "        title_font=dict(size=16, family='Arial', color='black'),\n",
    "        tickfont=dict(size=12)\n",
    "    ),\n",
    "    height=800,  # Aumentar a altura do gráfico\n",
    "    width=1300,\n",
    "    plot_bgcolor='white',  # Fundo do gráfico branco\n",
    "    paper_bgcolor='white',  # Fundo do papel branco\n",
    "    margin=dict(l=150, r=50, t=50, b=50)  # Margens\n",
    ")\n",
    "\n",
    "fig.show()"
   ]
  },
  {
   "cell_type": "code",
   "execution_count": 61,
   "metadata": {},
   "outputs": [
    {
     "data": {
      "text/html": [
       "<div>\n",
       "<style scoped>\n",
       "    .dataframe tbody tr th:only-of-type {\n",
       "        vertical-align: middle;\n",
       "    }\n",
       "\n",
       "    .dataframe tbody tr th {\n",
       "        vertical-align: top;\n",
       "    }\n",
       "\n",
       "    .dataframe thead th {\n",
       "        text-align: right;\n",
       "    }\n",
       "</style>\n",
       "<table border=\"1\" class=\"dataframe\">\n",
       "  <thead>\n",
       "    <tr style=\"text-align: right;\">\n",
       "      <th></th>\n",
       "      <th>Title</th>\n",
       "      <th>categories</th>\n",
       "      <th>score</th>\n",
       "    </tr>\n",
       "  </thead>\n",
       "  <tbody>\n",
       "    <tr>\n",
       "      <th>61163</th>\n",
       "      <td>A Searching Heart (Prairie Legacy Series #2)</td>\n",
       "      <td>Fiction</td>\n",
       "      <td>4.80</td>\n",
       "    </tr>\n",
       "    <tr>\n",
       "      <th>42731</th>\n",
       "      <td>Joni</td>\n",
       "      <td>Biography &amp; Autobiography</td>\n",
       "      <td>4.68</td>\n",
       "    </tr>\n",
       "    <tr>\n",
       "      <th>23055</th>\n",
       "      <td>Christianity and liberalism</td>\n",
       "      <td>Christianity</td>\n",
       "      <td>4.66</td>\n",
       "    </tr>\n",
       "    <tr>\n",
       "      <th>14923</th>\n",
       "      <td>Population: 485 : Meeting Your Neighbors One S...</td>\n",
       "      <td>Travel</td>\n",
       "      <td>4.62</td>\n",
       "    </tr>\n",
       "    <tr>\n",
       "      <th>97126</th>\n",
       "      <td>Constitutional Law: Principles and Policies (A...</td>\n",
       "      <td>Law</td>\n",
       "      <td>4.62</td>\n",
       "    </tr>\n",
       "    <tr>\n",
       "      <th>154230</th>\n",
       "      <td>Ramona the pest</td>\n",
       "      <td>Juvenile Fiction</td>\n",
       "      <td>4.61</td>\n",
       "    </tr>\n",
       "    <tr>\n",
       "      <th>34985</th>\n",
       "      <td>Judas Child</td>\n",
       "      <td>Fiction</td>\n",
       "      <td>4.58</td>\n",
       "    </tr>\n",
       "    <tr>\n",
       "      <th>122371</th>\n",
       "      <td>More Wealth Without Risk</td>\n",
       "      <td>Finance, Personal</td>\n",
       "      <td>4.57</td>\n",
       "    </tr>\n",
       "    <tr>\n",
       "      <th>140003</th>\n",
       "      <td>Adobe Photoshop CS2 One-On-One</td>\n",
       "      <td>Computers</td>\n",
       "      <td>4.56</td>\n",
       "    </tr>\n",
       "    <tr>\n",
       "      <th>162907</th>\n",
       "      <td>Alaska (Turtleback School &amp; Library Binding Ed...</td>\n",
       "      <td>Young Adult Nonfiction</td>\n",
       "      <td>4.54</td>\n",
       "    </tr>\n",
       "  </tbody>\n",
       "</table>\n",
       "</div>"
      ],
      "text/plain": [
       "                                                    Title  \\\n",
       "61163        A Searching Heart (Prairie Legacy Series #2)   \n",
       "42731                                                Joni   \n",
       "23055                         Christianity and liberalism   \n",
       "14923   Population: 485 : Meeting Your Neighbors One S...   \n",
       "97126   Constitutional Law: Principles and Policies (A...   \n",
       "154230                                    Ramona the pest   \n",
       "34985                                         Judas Child   \n",
       "122371                           More Wealth Without Risk   \n",
       "140003                     Adobe Photoshop CS2 One-On-One   \n",
       "162907  Alaska (Turtleback School & Library Binding Ed...   \n",
       "\n",
       "                       categories  score  \n",
       "61163                     Fiction   4.80  \n",
       "42731   Biography & Autobiography   4.68  \n",
       "23055                Christianity   4.66  \n",
       "14923                      Travel   4.62  \n",
       "97126                         Law   4.62  \n",
       "154230           Juvenile Fiction   4.61  \n",
       "34985                     Fiction   4.58  \n",
       "122371          Finance, Personal   4.57  \n",
       "140003                  Computers   4.56  \n",
       "162907     Young Adult Nonfiction   4.54  "
      ]
     },
     "execution_count": 61,
     "metadata": {},
     "output_type": "execute_result"
    }
   ],
   "source": [
    "bd_sorted[['Title', 'categories', 'score']][:10]"
   ]
  },
  {
   "cell_type": "code",
   "execution_count": 62,
   "metadata": {},
   "outputs": [],
   "source": [
    "bd_sorted[['Title', 'categories', 'score']][:10].to_parquet(r'..\\\\..\\\\Desafio_A3Data\\\\Databases\\\\top_books_maio.parquet', engine='pyarrow')"
   ]
  },
  {
   "cell_type": "code",
   "execution_count": 53,
   "metadata": {},
   "outputs": [
    {
     "data": {
      "application/vnd.plotly.v1+json": {
       "config": {
        "plotlyServerURL": "https://plot.ly"
       },
       "data": [
        {
         "hoverinfo": "y+x",
         "marker": {
          "color": "#1f77b4"
         },
         "name": "Valores",
         "orientation": "h",
         "text": [
          4.8,
          4.68,
          4.62,
          4.62,
          4.57,
          4.56,
          4.54,
          4.43,
          4.42,
          4.42,
          4.41,
          4.38,
          4.36,
          4.24,
          4.2,
          4.17,
          4.1,
          4.08,
          4,
          3.96,
          3.94,
          3.9,
          3.88,
          3.79,
          3.75,
          3.5,
          3.28,
          3.06,
          3.02
         ],
         "textposition": "outside",
         "type": "bar",
         "x": [
          4.8,
          4.68,
          4.62,
          4.62,
          4.57,
          4.56,
          4.545,
          4.425000000000001,
          4.42,
          4.42,
          4.41,
          4.38,
          4.36,
          4.24,
          4.2,
          4.17,
          4.1,
          4.08,
          4,
          3.96,
          3.94,
          3.9,
          3.88,
          3.79,
          3.75,
          3.5,
          3.28,
          3.06,
          3.02
         ],
         "y": [
          "Bethany House",
          "Zondervan",
          "Harper Perennial",
          "Aspen Publishers",
          "Simon & Schuster",
          "\"O'Reilly Media, Inc.\"",
          "Penguin",
          "Harper Collins",
          "William Morrow Paperbacks",
          "Random House Digital, Inc.",
          "Wiley",
          "Delphi Classics",
          "Penguin Books",
          "Gold Leaf Press (WA)",
          "Pocket Books",
          "Holt Paperbacks",
          "Berkley",
          "Grove Press",
          "Rodale Books",
          "Simon and Schuster",
          "Grand Central Publishing",
          "GENERAL PRESS",
          "Thomas Nelson",
          "Macmillan",
          "Vintage",
          "Del Rey Books",
          "HarperCollins",
          "Penguin Press HC",
          "John Wiley & Sons"
         ]
        }
       ],
       "layout": {
        "height": 700,
        "margin": {
         "b": 50,
         "l": 150,
         "r": 50,
         "t": 50
        },
        "paper_bgcolor": "white",
        "plot_bgcolor": "white",
        "template": {
         "data": {
          "bar": [
           {
            "error_x": {
             "color": "#2a3f5f"
            },
            "error_y": {
             "color": "#2a3f5f"
            },
            "marker": {
             "line": {
              "color": "#E5ECF6",
              "width": 0.5
             },
             "pattern": {
              "fillmode": "overlay",
              "size": 10,
              "solidity": 0.2
             }
            },
            "type": "bar"
           }
          ],
          "barpolar": [
           {
            "marker": {
             "line": {
              "color": "#E5ECF6",
              "width": 0.5
             },
             "pattern": {
              "fillmode": "overlay",
              "size": 10,
              "solidity": 0.2
             }
            },
            "type": "barpolar"
           }
          ],
          "carpet": [
           {
            "aaxis": {
             "endlinecolor": "#2a3f5f",
             "gridcolor": "white",
             "linecolor": "white",
             "minorgridcolor": "white",
             "startlinecolor": "#2a3f5f"
            },
            "baxis": {
             "endlinecolor": "#2a3f5f",
             "gridcolor": "white",
             "linecolor": "white",
             "minorgridcolor": "white",
             "startlinecolor": "#2a3f5f"
            },
            "type": "carpet"
           }
          ],
          "choropleth": [
           {
            "colorbar": {
             "outlinewidth": 0,
             "ticks": ""
            },
            "type": "choropleth"
           }
          ],
          "contour": [
           {
            "colorbar": {
             "outlinewidth": 0,
             "ticks": ""
            },
            "colorscale": [
             [
              0,
              "#0d0887"
             ],
             [
              0.1111111111111111,
              "#46039f"
             ],
             [
              0.2222222222222222,
              "#7201a8"
             ],
             [
              0.3333333333333333,
              "#9c179e"
             ],
             [
              0.4444444444444444,
              "#bd3786"
             ],
             [
              0.5555555555555556,
              "#d8576b"
             ],
             [
              0.6666666666666666,
              "#ed7953"
             ],
             [
              0.7777777777777778,
              "#fb9f3a"
             ],
             [
              0.8888888888888888,
              "#fdca26"
             ],
             [
              1,
              "#f0f921"
             ]
            ],
            "type": "contour"
           }
          ],
          "contourcarpet": [
           {
            "colorbar": {
             "outlinewidth": 0,
             "ticks": ""
            },
            "type": "contourcarpet"
           }
          ],
          "heatmap": [
           {
            "colorbar": {
             "outlinewidth": 0,
             "ticks": ""
            },
            "colorscale": [
             [
              0,
              "#0d0887"
             ],
             [
              0.1111111111111111,
              "#46039f"
             ],
             [
              0.2222222222222222,
              "#7201a8"
             ],
             [
              0.3333333333333333,
              "#9c179e"
             ],
             [
              0.4444444444444444,
              "#bd3786"
             ],
             [
              0.5555555555555556,
              "#d8576b"
             ],
             [
              0.6666666666666666,
              "#ed7953"
             ],
             [
              0.7777777777777778,
              "#fb9f3a"
             ],
             [
              0.8888888888888888,
              "#fdca26"
             ],
             [
              1,
              "#f0f921"
             ]
            ],
            "type": "heatmap"
           }
          ],
          "heatmapgl": [
           {
            "colorbar": {
             "outlinewidth": 0,
             "ticks": ""
            },
            "colorscale": [
             [
              0,
              "#0d0887"
             ],
             [
              0.1111111111111111,
              "#46039f"
             ],
             [
              0.2222222222222222,
              "#7201a8"
             ],
             [
              0.3333333333333333,
              "#9c179e"
             ],
             [
              0.4444444444444444,
              "#bd3786"
             ],
             [
              0.5555555555555556,
              "#d8576b"
             ],
             [
              0.6666666666666666,
              "#ed7953"
             ],
             [
              0.7777777777777778,
              "#fb9f3a"
             ],
             [
              0.8888888888888888,
              "#fdca26"
             ],
             [
              1,
              "#f0f921"
             ]
            ],
            "type": "heatmapgl"
           }
          ],
          "histogram": [
           {
            "marker": {
             "pattern": {
              "fillmode": "overlay",
              "size": 10,
              "solidity": 0.2
             }
            },
            "type": "histogram"
           }
          ],
          "histogram2d": [
           {
            "colorbar": {
             "outlinewidth": 0,
             "ticks": ""
            },
            "colorscale": [
             [
              0,
              "#0d0887"
             ],
             [
              0.1111111111111111,
              "#46039f"
             ],
             [
              0.2222222222222222,
              "#7201a8"
             ],
             [
              0.3333333333333333,
              "#9c179e"
             ],
             [
              0.4444444444444444,
              "#bd3786"
             ],
             [
              0.5555555555555556,
              "#d8576b"
             ],
             [
              0.6666666666666666,
              "#ed7953"
             ],
             [
              0.7777777777777778,
              "#fb9f3a"
             ],
             [
              0.8888888888888888,
              "#fdca26"
             ],
             [
              1,
              "#f0f921"
             ]
            ],
            "type": "histogram2d"
           }
          ],
          "histogram2dcontour": [
           {
            "colorbar": {
             "outlinewidth": 0,
             "ticks": ""
            },
            "colorscale": [
             [
              0,
              "#0d0887"
             ],
             [
              0.1111111111111111,
              "#46039f"
             ],
             [
              0.2222222222222222,
              "#7201a8"
             ],
             [
              0.3333333333333333,
              "#9c179e"
             ],
             [
              0.4444444444444444,
              "#bd3786"
             ],
             [
              0.5555555555555556,
              "#d8576b"
             ],
             [
              0.6666666666666666,
              "#ed7953"
             ],
             [
              0.7777777777777778,
              "#fb9f3a"
             ],
             [
              0.8888888888888888,
              "#fdca26"
             ],
             [
              1,
              "#f0f921"
             ]
            ],
            "type": "histogram2dcontour"
           }
          ],
          "mesh3d": [
           {
            "colorbar": {
             "outlinewidth": 0,
             "ticks": ""
            },
            "type": "mesh3d"
           }
          ],
          "parcoords": [
           {
            "line": {
             "colorbar": {
              "outlinewidth": 0,
              "ticks": ""
             }
            },
            "type": "parcoords"
           }
          ],
          "pie": [
           {
            "automargin": true,
            "type": "pie"
           }
          ],
          "scatter": [
           {
            "fillpattern": {
             "fillmode": "overlay",
             "size": 10,
             "solidity": 0.2
            },
            "type": "scatter"
           }
          ],
          "scatter3d": [
           {
            "line": {
             "colorbar": {
              "outlinewidth": 0,
              "ticks": ""
             }
            },
            "marker": {
             "colorbar": {
              "outlinewidth": 0,
              "ticks": ""
             }
            },
            "type": "scatter3d"
           }
          ],
          "scattercarpet": [
           {
            "marker": {
             "colorbar": {
              "outlinewidth": 0,
              "ticks": ""
             }
            },
            "type": "scattercarpet"
           }
          ],
          "scattergeo": [
           {
            "marker": {
             "colorbar": {
              "outlinewidth": 0,
              "ticks": ""
             }
            },
            "type": "scattergeo"
           }
          ],
          "scattergl": [
           {
            "marker": {
             "colorbar": {
              "outlinewidth": 0,
              "ticks": ""
             }
            },
            "type": "scattergl"
           }
          ],
          "scattermapbox": [
           {
            "marker": {
             "colorbar": {
              "outlinewidth": 0,
              "ticks": ""
             }
            },
            "type": "scattermapbox"
           }
          ],
          "scatterpolar": [
           {
            "marker": {
             "colorbar": {
              "outlinewidth": 0,
              "ticks": ""
             }
            },
            "type": "scatterpolar"
           }
          ],
          "scatterpolargl": [
           {
            "marker": {
             "colorbar": {
              "outlinewidth": 0,
              "ticks": ""
             }
            },
            "type": "scatterpolargl"
           }
          ],
          "scatterternary": [
           {
            "marker": {
             "colorbar": {
              "outlinewidth": 0,
              "ticks": ""
             }
            },
            "type": "scatterternary"
           }
          ],
          "surface": [
           {
            "colorbar": {
             "outlinewidth": 0,
             "ticks": ""
            },
            "colorscale": [
             [
              0,
              "#0d0887"
             ],
             [
              0.1111111111111111,
              "#46039f"
             ],
             [
              0.2222222222222222,
              "#7201a8"
             ],
             [
              0.3333333333333333,
              "#9c179e"
             ],
             [
              0.4444444444444444,
              "#bd3786"
             ],
             [
              0.5555555555555556,
              "#d8576b"
             ],
             [
              0.6666666666666666,
              "#ed7953"
             ],
             [
              0.7777777777777778,
              "#fb9f3a"
             ],
             [
              0.8888888888888888,
              "#fdca26"
             ],
             [
              1,
              "#f0f921"
             ]
            ],
            "type": "surface"
           }
          ],
          "table": [
           {
            "cells": {
             "fill": {
              "color": "#EBF0F8"
             },
             "line": {
              "color": "white"
             }
            },
            "header": {
             "fill": {
              "color": "#C8D4E3"
             },
             "line": {
              "color": "white"
             }
            },
            "type": "table"
           }
          ]
         },
         "layout": {
          "annotationdefaults": {
           "arrowcolor": "#2a3f5f",
           "arrowhead": 0,
           "arrowwidth": 1
          },
          "autotypenumbers": "strict",
          "coloraxis": {
           "colorbar": {
            "outlinewidth": 0,
            "ticks": ""
           }
          },
          "colorscale": {
           "diverging": [
            [
             0,
             "#8e0152"
            ],
            [
             0.1,
             "#c51b7d"
            ],
            [
             0.2,
             "#de77ae"
            ],
            [
             0.3,
             "#f1b6da"
            ],
            [
             0.4,
             "#fde0ef"
            ],
            [
             0.5,
             "#f7f7f7"
            ],
            [
             0.6,
             "#e6f5d0"
            ],
            [
             0.7,
             "#b8e186"
            ],
            [
             0.8,
             "#7fbc41"
            ],
            [
             0.9,
             "#4d9221"
            ],
            [
             1,
             "#276419"
            ]
           ],
           "sequential": [
            [
             0,
             "#0d0887"
            ],
            [
             0.1111111111111111,
             "#46039f"
            ],
            [
             0.2222222222222222,
             "#7201a8"
            ],
            [
             0.3333333333333333,
             "#9c179e"
            ],
            [
             0.4444444444444444,
             "#bd3786"
            ],
            [
             0.5555555555555556,
             "#d8576b"
            ],
            [
             0.6666666666666666,
             "#ed7953"
            ],
            [
             0.7777777777777778,
             "#fb9f3a"
            ],
            [
             0.8888888888888888,
             "#fdca26"
            ],
            [
             1,
             "#f0f921"
            ]
           ],
           "sequentialminus": [
            [
             0,
             "#0d0887"
            ],
            [
             0.1111111111111111,
             "#46039f"
            ],
            [
             0.2222222222222222,
             "#7201a8"
            ],
            [
             0.3333333333333333,
             "#9c179e"
            ],
            [
             0.4444444444444444,
             "#bd3786"
            ],
            [
             0.5555555555555556,
             "#d8576b"
            ],
            [
             0.6666666666666666,
             "#ed7953"
            ],
            [
             0.7777777777777778,
             "#fb9f3a"
            ],
            [
             0.8888888888888888,
             "#fdca26"
            ],
            [
             1,
             "#f0f921"
            ]
           ]
          },
          "colorway": [
           "#636efa",
           "#EF553B",
           "#00cc96",
           "#ab63fa",
           "#FFA15A",
           "#19d3f3",
           "#FF6692",
           "#B6E880",
           "#FF97FF",
           "#FECB52"
          ],
          "font": {
           "color": "#2a3f5f"
          },
          "geo": {
           "bgcolor": "white",
           "lakecolor": "white",
           "landcolor": "#E5ECF6",
           "showlakes": true,
           "showland": true,
           "subunitcolor": "white"
          },
          "hoverlabel": {
           "align": "left"
          },
          "hovermode": "closest",
          "mapbox": {
           "style": "light"
          },
          "paper_bgcolor": "white",
          "plot_bgcolor": "#E5ECF6",
          "polar": {
           "angularaxis": {
            "gridcolor": "white",
            "linecolor": "white",
            "ticks": ""
           },
           "bgcolor": "#E5ECF6",
           "radialaxis": {
            "gridcolor": "white",
            "linecolor": "white",
            "ticks": ""
           }
          },
          "scene": {
           "xaxis": {
            "backgroundcolor": "#E5ECF6",
            "gridcolor": "white",
            "gridwidth": 2,
            "linecolor": "white",
            "showbackground": true,
            "ticks": "",
            "zerolinecolor": "white"
           },
           "yaxis": {
            "backgroundcolor": "#E5ECF6",
            "gridcolor": "white",
            "gridwidth": 2,
            "linecolor": "white",
            "showbackground": true,
            "ticks": "",
            "zerolinecolor": "white"
           },
           "zaxis": {
            "backgroundcolor": "#E5ECF6",
            "gridcolor": "white",
            "gridwidth": 2,
            "linecolor": "white",
            "showbackground": true,
            "ticks": "",
            "zerolinecolor": "white"
           }
          },
          "shapedefaults": {
           "line": {
            "color": "#2a3f5f"
           }
          },
          "ternary": {
           "aaxis": {
            "gridcolor": "white",
            "linecolor": "white",
            "ticks": ""
           },
           "baxis": {
            "gridcolor": "white",
            "linecolor": "white",
            "ticks": ""
           },
           "bgcolor": "#E5ECF6",
           "caxis": {
            "gridcolor": "white",
            "linecolor": "white",
            "ticks": ""
           }
          },
          "title": {
           "x": 0.05
          },
          "xaxis": {
           "automargin": true,
           "gridcolor": "white",
           "linecolor": "white",
           "ticks": "",
           "title": {
            "standoff": 15
           },
           "zerolinecolor": "white",
           "zerolinewidth": 2
          },
          "yaxis": {
           "automargin": true,
           "gridcolor": "white",
           "linecolor": "white",
           "ticks": "",
           "title": {
            "standoff": 15
           },
           "zerolinecolor": "white",
           "zerolinewidth": 2
          }
         }
        },
        "title": {
         "font": {
          "color": "black",
          "family": "Arial",
          "size": 20
         },
         "text": "Scores por Editora: Avaliação dos Leitores"
        },
        "width": 800,
        "xaxis": {
         "tickfont": {
          "size": 12
         },
         "title": {
          "font": {
           "color": "black",
           "family": "Arial",
           "size": 16
          },
          "text": "Score"
         }
        },
        "yaxis": {
         "tickfont": {
          "size": 12
         },
         "title": {
          "font": {
           "color": "black",
           "family": "Arial",
           "size": 16
          },
          "text": "Editora"
         }
        }
       }
      }
     },
     "metadata": {},
     "output_type": "display_data"
    }
   ],
   "source": [
    "# Dados para o gráfico de barras com a variável 'publisher' no eixo y\n",
    "categorias_editora = bd['publisher'].unique()\n",
    "valores_editora = bd.groupby('publisher')['score'].mean()\n",
    "\n",
    "# Ordenar os dados de scores médios por editora do maior para o menor\n",
    "valores_editora_sorted = valores_editora.sort_values(ascending=False)\n",
    "\n",
    "# Criação do gráfico de barras horizontal com a variável 'publisher' no eixo y\n",
    "fig2 = go.Figure(data=[\n",
    "    go.Bar(\n",
    "        name='Valores', \n",
    "        y=valores_editora_sorted.index, \n",
    "        x=valores_editora_sorted, \n",
    "        orientation='h',\n",
    "        marker=dict(\n",
    "            color='#1f77b4'  # Cor das barras\n",
    "        ),\n",
    "        text=valores_editora_sorted.round(2),  # Adiciona os valores como rótulos arredondados\n",
    "        textposition='outside',  # Posição dos rótulos\n",
    "        hoverinfo='y+x'  # Informação exibida ao passar o mouse\n",
    "    )\n",
    "])\n",
    "\n",
    "# Personalização do layout do gráfico com a variável 'publisher' no eixo y\n",
    "fig2.update_layout(\n",
    "    title='Scores por Editora: Avaliação dos Leitores',\n",
    "    title_font=dict(size=20, family='Arial', color='black'),\n",
    "    xaxis_title='Score',\n",
    "    yaxis_title='Editora',\n",
    "    xaxis=dict(\n",
    "        title_font=dict(size=16, family='Arial', color='black'),\n",
    "        tickfont=dict(size=12)\n",
    "    ),\n",
    "    yaxis=dict(\n",
    "        title_font=dict(size=16, family='Arial', color='black'),\n",
    "        tickfont=dict(size=12)\n",
    "    ),\n",
    "    height=700,  # Aumentar a altura do gráfico\n",
    "    width=800,   # Ajustar a largura do gráfico\n",
    "    plot_bgcolor='white',  # Fundo do gráfico branco\n",
    "    paper_bgcolor='white',  # Fundo do papel branco\n",
    "    margin=dict(l=150, r=50, t=50, b=50)  # Margens\n",
    ")\n",
    "\n",
    "fig2.show()"
   ]
  },
  {
   "cell_type": "code",
   "execution_count": 54,
   "metadata": {},
   "outputs": [
    {
     "data": {
      "text/html": [
       "<div>\n",
       "<style scoped>\n",
       "    .dataframe tbody tr th:only-of-type {\n",
       "        vertical-align: middle;\n",
       "    }\n",
       "\n",
       "    .dataframe tbody tr th {\n",
       "        vertical-align: top;\n",
       "    }\n",
       "\n",
       "    .dataframe thead th {\n",
       "        text-align: right;\n",
       "    }\n",
       "</style>\n",
       "<table border=\"1\" class=\"dataframe\">\n",
       "  <thead>\n",
       "    <tr style=\"text-align: right;\">\n",
       "      <th></th>\n",
       "      <th>publisher</th>\n",
       "      <th>score</th>\n",
       "    </tr>\n",
       "  </thead>\n",
       "  <tbody>\n",
       "    <tr>\n",
       "      <th>0</th>\n",
       "      <td>Bethany House</td>\n",
       "      <td>4.80</td>\n",
       "    </tr>\n",
       "    <tr>\n",
       "      <th>1</th>\n",
       "      <td>Zondervan</td>\n",
       "      <td>4.68</td>\n",
       "    </tr>\n",
       "    <tr>\n",
       "      <th>2</th>\n",
       "      <td>Harper Perennial</td>\n",
       "      <td>4.62</td>\n",
       "    </tr>\n",
       "    <tr>\n",
       "      <th>3</th>\n",
       "      <td>Aspen Publishers</td>\n",
       "      <td>4.62</td>\n",
       "    </tr>\n",
       "    <tr>\n",
       "      <th>4</th>\n",
       "      <td>Simon &amp; Schuster</td>\n",
       "      <td>4.57</td>\n",
       "    </tr>\n",
       "  </tbody>\n",
       "</table>\n",
       "</div>"
      ],
      "text/plain": [
       "          publisher  score\n",
       "0     Bethany House   4.80\n",
       "1         Zondervan   4.68\n",
       "2  Harper Perennial   4.62\n",
       "3  Aspen Publishers   4.62\n",
       "4  Simon & Schuster   4.57"
      ]
     },
     "execution_count": 54,
     "metadata": {},
     "output_type": "execute_result"
    }
   ],
   "source": [
    "valores_editora_sorted[:5].reset_index()"
   ]
  },
  {
   "cell_type": "code",
   "execution_count": 63,
   "metadata": {},
   "outputs": [],
   "source": [
    "valores_editora_sorted[:5].reset_index().to_parquet(r'..\\\\..\\\\Desafio_A3Data\\\\Databases\\\\top_publishers_maio.parquet', engine='pyarrow')"
   ]
  },
  {
   "cell_type": "code",
   "execution_count": 55,
   "metadata": {},
   "outputs": [
    {
     "data": {
      "application/vnd.plotly.v1+json": {
       "config": {
        "plotlyServerURL": "https://plot.ly"
       },
       "data": [
        {
         "hoverinfo": "y+x",
         "marker": {
          "color": "#1f77b4"
         },
         "name": "Valores",
         "orientation": "h",
         "text": [
          4.66,
          4.62,
          4.62,
          4.57,
          4.56,
          4.56,
          4.54,
          4.51,
          4.5,
          4.49,
          4.42,
          4.41,
          4.24,
          4.07,
          4,
          3.96,
          3.89,
          3.88,
          3.57,
          3.5,
          3.02
         ],
         "textposition": "outside",
         "type": "bar",
         "x": [
          4.66,
          4.62,
          4.62,
          4.57,
          4.5600000000000005,
          4.56,
          4.54,
          4.51,
          4.5,
          4.485,
          4.42,
          4.41,
          4.24,
          4.074285714285714,
          4,
          3.96,
          3.89,
          3.88,
          3.57,
          3.5,
          3.02
         ],
         "y": [
          "Christianity",
          "Law",
          "Travel",
          "Finance, Personal",
          "Biography & Autobiography",
          "Computers",
          "Young Adult Nonfiction",
          "Religion",
          "Motivation (Psychology)",
          "Juvenile Fiction",
          "Brothers and sisters",
          "Cooking",
          "Cookery.",
          "Fiction",
          "Health & Fitness",
          "Literary Criticism",
          "History",
          "Self-Help",
          "Australia",
          "Science fiction",
          "Mathematics"
         ]
        }
       ],
       "layout": {
        "height": 600,
        "margin": {
         "b": 50,
         "l": 150,
         "r": 50,
         "t": 50
        },
        "paper_bgcolor": "white",
        "plot_bgcolor": "white",
        "template": {
         "data": {
          "bar": [
           {
            "error_x": {
             "color": "#2a3f5f"
            },
            "error_y": {
             "color": "#2a3f5f"
            },
            "marker": {
             "line": {
              "color": "#E5ECF6",
              "width": 0.5
             },
             "pattern": {
              "fillmode": "overlay",
              "size": 10,
              "solidity": 0.2
             }
            },
            "type": "bar"
           }
          ],
          "barpolar": [
           {
            "marker": {
             "line": {
              "color": "#E5ECF6",
              "width": 0.5
             },
             "pattern": {
              "fillmode": "overlay",
              "size": 10,
              "solidity": 0.2
             }
            },
            "type": "barpolar"
           }
          ],
          "carpet": [
           {
            "aaxis": {
             "endlinecolor": "#2a3f5f",
             "gridcolor": "white",
             "linecolor": "white",
             "minorgridcolor": "white",
             "startlinecolor": "#2a3f5f"
            },
            "baxis": {
             "endlinecolor": "#2a3f5f",
             "gridcolor": "white",
             "linecolor": "white",
             "minorgridcolor": "white",
             "startlinecolor": "#2a3f5f"
            },
            "type": "carpet"
           }
          ],
          "choropleth": [
           {
            "colorbar": {
             "outlinewidth": 0,
             "ticks": ""
            },
            "type": "choropleth"
           }
          ],
          "contour": [
           {
            "colorbar": {
             "outlinewidth": 0,
             "ticks": ""
            },
            "colorscale": [
             [
              0,
              "#0d0887"
             ],
             [
              0.1111111111111111,
              "#46039f"
             ],
             [
              0.2222222222222222,
              "#7201a8"
             ],
             [
              0.3333333333333333,
              "#9c179e"
             ],
             [
              0.4444444444444444,
              "#bd3786"
             ],
             [
              0.5555555555555556,
              "#d8576b"
             ],
             [
              0.6666666666666666,
              "#ed7953"
             ],
             [
              0.7777777777777778,
              "#fb9f3a"
             ],
             [
              0.8888888888888888,
              "#fdca26"
             ],
             [
              1,
              "#f0f921"
             ]
            ],
            "type": "contour"
           }
          ],
          "contourcarpet": [
           {
            "colorbar": {
             "outlinewidth": 0,
             "ticks": ""
            },
            "type": "contourcarpet"
           }
          ],
          "heatmap": [
           {
            "colorbar": {
             "outlinewidth": 0,
             "ticks": ""
            },
            "colorscale": [
             [
              0,
              "#0d0887"
             ],
             [
              0.1111111111111111,
              "#46039f"
             ],
             [
              0.2222222222222222,
              "#7201a8"
             ],
             [
              0.3333333333333333,
              "#9c179e"
             ],
             [
              0.4444444444444444,
              "#bd3786"
             ],
             [
              0.5555555555555556,
              "#d8576b"
             ],
             [
              0.6666666666666666,
              "#ed7953"
             ],
             [
              0.7777777777777778,
              "#fb9f3a"
             ],
             [
              0.8888888888888888,
              "#fdca26"
             ],
             [
              1,
              "#f0f921"
             ]
            ],
            "type": "heatmap"
           }
          ],
          "heatmapgl": [
           {
            "colorbar": {
             "outlinewidth": 0,
             "ticks": ""
            },
            "colorscale": [
             [
              0,
              "#0d0887"
             ],
             [
              0.1111111111111111,
              "#46039f"
             ],
             [
              0.2222222222222222,
              "#7201a8"
             ],
             [
              0.3333333333333333,
              "#9c179e"
             ],
             [
              0.4444444444444444,
              "#bd3786"
             ],
             [
              0.5555555555555556,
              "#d8576b"
             ],
             [
              0.6666666666666666,
              "#ed7953"
             ],
             [
              0.7777777777777778,
              "#fb9f3a"
             ],
             [
              0.8888888888888888,
              "#fdca26"
             ],
             [
              1,
              "#f0f921"
             ]
            ],
            "type": "heatmapgl"
           }
          ],
          "histogram": [
           {
            "marker": {
             "pattern": {
              "fillmode": "overlay",
              "size": 10,
              "solidity": 0.2
             }
            },
            "type": "histogram"
           }
          ],
          "histogram2d": [
           {
            "colorbar": {
             "outlinewidth": 0,
             "ticks": ""
            },
            "colorscale": [
             [
              0,
              "#0d0887"
             ],
             [
              0.1111111111111111,
              "#46039f"
             ],
             [
              0.2222222222222222,
              "#7201a8"
             ],
             [
              0.3333333333333333,
              "#9c179e"
             ],
             [
              0.4444444444444444,
              "#bd3786"
             ],
             [
              0.5555555555555556,
              "#d8576b"
             ],
             [
              0.6666666666666666,
              "#ed7953"
             ],
             [
              0.7777777777777778,
              "#fb9f3a"
             ],
             [
              0.8888888888888888,
              "#fdca26"
             ],
             [
              1,
              "#f0f921"
             ]
            ],
            "type": "histogram2d"
           }
          ],
          "histogram2dcontour": [
           {
            "colorbar": {
             "outlinewidth": 0,
             "ticks": ""
            },
            "colorscale": [
             [
              0,
              "#0d0887"
             ],
             [
              0.1111111111111111,
              "#46039f"
             ],
             [
              0.2222222222222222,
              "#7201a8"
             ],
             [
              0.3333333333333333,
              "#9c179e"
             ],
             [
              0.4444444444444444,
              "#bd3786"
             ],
             [
              0.5555555555555556,
              "#d8576b"
             ],
             [
              0.6666666666666666,
              "#ed7953"
             ],
             [
              0.7777777777777778,
              "#fb9f3a"
             ],
             [
              0.8888888888888888,
              "#fdca26"
             ],
             [
              1,
              "#f0f921"
             ]
            ],
            "type": "histogram2dcontour"
           }
          ],
          "mesh3d": [
           {
            "colorbar": {
             "outlinewidth": 0,
             "ticks": ""
            },
            "type": "mesh3d"
           }
          ],
          "parcoords": [
           {
            "line": {
             "colorbar": {
              "outlinewidth": 0,
              "ticks": ""
             }
            },
            "type": "parcoords"
           }
          ],
          "pie": [
           {
            "automargin": true,
            "type": "pie"
           }
          ],
          "scatter": [
           {
            "fillpattern": {
             "fillmode": "overlay",
             "size": 10,
             "solidity": 0.2
            },
            "type": "scatter"
           }
          ],
          "scatter3d": [
           {
            "line": {
             "colorbar": {
              "outlinewidth": 0,
              "ticks": ""
             }
            },
            "marker": {
             "colorbar": {
              "outlinewidth": 0,
              "ticks": ""
             }
            },
            "type": "scatter3d"
           }
          ],
          "scattercarpet": [
           {
            "marker": {
             "colorbar": {
              "outlinewidth": 0,
              "ticks": ""
             }
            },
            "type": "scattercarpet"
           }
          ],
          "scattergeo": [
           {
            "marker": {
             "colorbar": {
              "outlinewidth": 0,
              "ticks": ""
             }
            },
            "type": "scattergeo"
           }
          ],
          "scattergl": [
           {
            "marker": {
             "colorbar": {
              "outlinewidth": 0,
              "ticks": ""
             }
            },
            "type": "scattergl"
           }
          ],
          "scattermapbox": [
           {
            "marker": {
             "colorbar": {
              "outlinewidth": 0,
              "ticks": ""
             }
            },
            "type": "scattermapbox"
           }
          ],
          "scatterpolar": [
           {
            "marker": {
             "colorbar": {
              "outlinewidth": 0,
              "ticks": ""
             }
            },
            "type": "scatterpolar"
           }
          ],
          "scatterpolargl": [
           {
            "marker": {
             "colorbar": {
              "outlinewidth": 0,
              "ticks": ""
             }
            },
            "type": "scatterpolargl"
           }
          ],
          "scatterternary": [
           {
            "marker": {
             "colorbar": {
              "outlinewidth": 0,
              "ticks": ""
             }
            },
            "type": "scatterternary"
           }
          ],
          "surface": [
           {
            "colorbar": {
             "outlinewidth": 0,
             "ticks": ""
            },
            "colorscale": [
             [
              0,
              "#0d0887"
             ],
             [
              0.1111111111111111,
              "#46039f"
             ],
             [
              0.2222222222222222,
              "#7201a8"
             ],
             [
              0.3333333333333333,
              "#9c179e"
             ],
             [
              0.4444444444444444,
              "#bd3786"
             ],
             [
              0.5555555555555556,
              "#d8576b"
             ],
             [
              0.6666666666666666,
              "#ed7953"
             ],
             [
              0.7777777777777778,
              "#fb9f3a"
             ],
             [
              0.8888888888888888,
              "#fdca26"
             ],
             [
              1,
              "#f0f921"
             ]
            ],
            "type": "surface"
           }
          ],
          "table": [
           {
            "cells": {
             "fill": {
              "color": "#EBF0F8"
             },
             "line": {
              "color": "white"
             }
            },
            "header": {
             "fill": {
              "color": "#C8D4E3"
             },
             "line": {
              "color": "white"
             }
            },
            "type": "table"
           }
          ]
         },
         "layout": {
          "annotationdefaults": {
           "arrowcolor": "#2a3f5f",
           "arrowhead": 0,
           "arrowwidth": 1
          },
          "autotypenumbers": "strict",
          "coloraxis": {
           "colorbar": {
            "outlinewidth": 0,
            "ticks": ""
           }
          },
          "colorscale": {
           "diverging": [
            [
             0,
             "#8e0152"
            ],
            [
             0.1,
             "#c51b7d"
            ],
            [
             0.2,
             "#de77ae"
            ],
            [
             0.3,
             "#f1b6da"
            ],
            [
             0.4,
             "#fde0ef"
            ],
            [
             0.5,
             "#f7f7f7"
            ],
            [
             0.6,
             "#e6f5d0"
            ],
            [
             0.7,
             "#b8e186"
            ],
            [
             0.8,
             "#7fbc41"
            ],
            [
             0.9,
             "#4d9221"
            ],
            [
             1,
             "#276419"
            ]
           ],
           "sequential": [
            [
             0,
             "#0d0887"
            ],
            [
             0.1111111111111111,
             "#46039f"
            ],
            [
             0.2222222222222222,
             "#7201a8"
            ],
            [
             0.3333333333333333,
             "#9c179e"
            ],
            [
             0.4444444444444444,
             "#bd3786"
            ],
            [
             0.5555555555555556,
             "#d8576b"
            ],
            [
             0.6666666666666666,
             "#ed7953"
            ],
            [
             0.7777777777777778,
             "#fb9f3a"
            ],
            [
             0.8888888888888888,
             "#fdca26"
            ],
            [
             1,
             "#f0f921"
            ]
           ],
           "sequentialminus": [
            [
             0,
             "#0d0887"
            ],
            [
             0.1111111111111111,
             "#46039f"
            ],
            [
             0.2222222222222222,
             "#7201a8"
            ],
            [
             0.3333333333333333,
             "#9c179e"
            ],
            [
             0.4444444444444444,
             "#bd3786"
            ],
            [
             0.5555555555555556,
             "#d8576b"
            ],
            [
             0.6666666666666666,
             "#ed7953"
            ],
            [
             0.7777777777777778,
             "#fb9f3a"
            ],
            [
             0.8888888888888888,
             "#fdca26"
            ],
            [
             1,
             "#f0f921"
            ]
           ]
          },
          "colorway": [
           "#636efa",
           "#EF553B",
           "#00cc96",
           "#ab63fa",
           "#FFA15A",
           "#19d3f3",
           "#FF6692",
           "#B6E880",
           "#FF97FF",
           "#FECB52"
          ],
          "font": {
           "color": "#2a3f5f"
          },
          "geo": {
           "bgcolor": "white",
           "lakecolor": "white",
           "landcolor": "#E5ECF6",
           "showlakes": true,
           "showland": true,
           "subunitcolor": "white"
          },
          "hoverlabel": {
           "align": "left"
          },
          "hovermode": "closest",
          "mapbox": {
           "style": "light"
          },
          "paper_bgcolor": "white",
          "plot_bgcolor": "#E5ECF6",
          "polar": {
           "angularaxis": {
            "gridcolor": "white",
            "linecolor": "white",
            "ticks": ""
           },
           "bgcolor": "#E5ECF6",
           "radialaxis": {
            "gridcolor": "white",
            "linecolor": "white",
            "ticks": ""
           }
          },
          "scene": {
           "xaxis": {
            "backgroundcolor": "#E5ECF6",
            "gridcolor": "white",
            "gridwidth": 2,
            "linecolor": "white",
            "showbackground": true,
            "ticks": "",
            "zerolinecolor": "white"
           },
           "yaxis": {
            "backgroundcolor": "#E5ECF6",
            "gridcolor": "white",
            "gridwidth": 2,
            "linecolor": "white",
            "showbackground": true,
            "ticks": "",
            "zerolinecolor": "white"
           },
           "zaxis": {
            "backgroundcolor": "#E5ECF6",
            "gridcolor": "white",
            "gridwidth": 2,
            "linecolor": "white",
            "showbackground": true,
            "ticks": "",
            "zerolinecolor": "white"
           }
          },
          "shapedefaults": {
           "line": {
            "color": "#2a3f5f"
           }
          },
          "ternary": {
           "aaxis": {
            "gridcolor": "white",
            "linecolor": "white",
            "ticks": ""
           },
           "baxis": {
            "gridcolor": "white",
            "linecolor": "white",
            "ticks": ""
           },
           "bgcolor": "#E5ECF6",
           "caxis": {
            "gridcolor": "white",
            "linecolor": "white",
            "ticks": ""
           }
          },
          "title": {
           "x": 0.05
          },
          "xaxis": {
           "automargin": true,
           "gridcolor": "white",
           "linecolor": "white",
           "ticks": "",
           "title": {
            "standoff": 15
           },
           "zerolinecolor": "white",
           "zerolinewidth": 2
          },
          "yaxis": {
           "automargin": true,
           "gridcolor": "white",
           "linecolor": "white",
           "ticks": "",
           "title": {
            "standoff": 15
           },
           "zerolinecolor": "white",
           "zerolinewidth": 2
          }
         }
        },
        "title": {
         "font": {
          "color": "black",
          "family": "Arial",
          "size": 20
         },
         "text": "Scores por Categoria: Avaliação dos Leitores"
        },
        "width": 1000,
        "xaxis": {
         "dtick": 1,
         "range": [
          0,
          5
         ],
         "tickfont": {
          "size": 12
         },
         "title": {
          "font": {
           "color": "black",
           "family": "Arial",
           "size": 16
          },
          "text": "Score"
         }
        },
        "yaxis": {
         "tickfont": {
          "size": 12
         },
         "title": {
          "font": {
           "color": "black",
           "family": "Arial",
           "size": 16
          },
          "text": "Categoria"
         }
        }
       }
      }
     },
     "metadata": {},
     "output_type": "display_data"
    }
   ],
   "source": [
    "# Dados para o gráfico de barras com a variável 'categories' no eixo y\n",
    "categorias_segmento = bd['categories'].unique()\n",
    "valores_segmento = bd.groupby('categories')['score'].mean()\n",
    "\n",
    "# Ordenar os dados de scores médios por segmento do maior para o menor\n",
    "valores_segmento_sorted = valores_segmento.sort_values(ascending=False)\n",
    "\n",
    "# Criação do gráfico de barras horizontal com a variável 'categories' no eixo y\n",
    "fig3 = go.Figure(data=[\n",
    "    go.Bar(\n",
    "        name='Valores', \n",
    "        y=valores_segmento_sorted.index, \n",
    "        x=valores_segmento_sorted, \n",
    "        orientation='h',\n",
    "        marker=dict(\n",
    "            color='#1f77b4'  # Cor das barras\n",
    "        ),\n",
    "        text=valores_segmento_sorted.round(2),  # Adiciona os valores como rótulos arredondados\n",
    "        textposition='outside',  # Posição dos rótulos\n",
    "        hoverinfo='y+x'  # Informação exibida ao passar o mouse\n",
    "    )\n",
    "])\n",
    "\n",
    "# Personalização do layout do gráfico com a variável 'categories' no eixo y\n",
    "fig3.update_layout(\n",
    "    title='Scores por Categoria: Avaliação dos Leitores',\n",
    "    title_font=dict(size=20, family='Arial', color='black'),\n",
    "    xaxis_title='Score',\n",
    "    yaxis_title='Categoria',\n",
    "    xaxis=dict(\n",
    "        title_font=dict(size=16, family='Arial', color='black'),\n",
    "        tickfont=dict(size=12),\n",
    "        range=[0, 5],  # Definir a faixa do eixo x\n",
    "        dtick=1  # Definir o espaçamento entre os ticks do eixo x\n",
    "    ),\n",
    "    yaxis=dict(\n",
    "        title_font=dict(size=16, family='Arial', color='black'),\n",
    "        tickfont=dict(size=12)\n",
    "    ),\n",
    "    height=600,  # Ajustar a altura do gráfico\n",
    "    width=1000,   # Ajustar a largura do gráfico\n",
    "    plot_bgcolor='white',  # Fundo do gráfico branco\n",
    "    paper_bgcolor='white',  # Fundo do papel branco\n",
    "    margin=dict(l=150, r=50, t=50, b=50)  # Margens\n",
    ")\n",
    "\n",
    "# Exibir o gráfico com a variável 'categories' no eixo y\n",
    "fig3.show()"
   ]
  },
  {
   "cell_type": "code",
   "execution_count": 56,
   "metadata": {},
   "outputs": [
    {
     "data": {
      "text/html": [
       "<div>\n",
       "<style scoped>\n",
       "    .dataframe tbody tr th:only-of-type {\n",
       "        vertical-align: middle;\n",
       "    }\n",
       "\n",
       "    .dataframe tbody tr th {\n",
       "        vertical-align: top;\n",
       "    }\n",
       "\n",
       "    .dataframe thead th {\n",
       "        text-align: right;\n",
       "    }\n",
       "</style>\n",
       "<table border=\"1\" class=\"dataframe\">\n",
       "  <thead>\n",
       "    <tr style=\"text-align: right;\">\n",
       "      <th></th>\n",
       "      <th>categories</th>\n",
       "      <th>score</th>\n",
       "    </tr>\n",
       "  </thead>\n",
       "  <tbody>\n",
       "    <tr>\n",
       "      <th>0</th>\n",
       "      <td>Christianity</td>\n",
       "      <td>4.66</td>\n",
       "    </tr>\n",
       "    <tr>\n",
       "      <th>1</th>\n",
       "      <td>Law</td>\n",
       "      <td>4.62</td>\n",
       "    </tr>\n",
       "    <tr>\n",
       "      <th>2</th>\n",
       "      <td>Travel</td>\n",
       "      <td>4.62</td>\n",
       "    </tr>\n",
       "    <tr>\n",
       "      <th>3</th>\n",
       "      <td>Finance, Personal</td>\n",
       "      <td>4.57</td>\n",
       "    </tr>\n",
       "    <tr>\n",
       "      <th>4</th>\n",
       "      <td>Biography &amp; Autobiography</td>\n",
       "      <td>4.56</td>\n",
       "    </tr>\n",
       "  </tbody>\n",
       "</table>\n",
       "</div>"
      ],
      "text/plain": [
       "                  categories  score\n",
       "0               Christianity   4.66\n",
       "1                        Law   4.62\n",
       "2                     Travel   4.62\n",
       "3          Finance, Personal   4.57\n",
       "4  Biography & Autobiography   4.56"
      ]
     },
     "execution_count": 56,
     "metadata": {},
     "output_type": "execute_result"
    }
   ],
   "source": [
    "valores_segmento_sorted[:5].reset_index()"
   ]
  },
  {
   "cell_type": "code",
   "execution_count": 65,
   "metadata": {},
   "outputs": [],
   "source": [
    "valores_segmento_sorted[:5].reset_index().to_parquet(r'..\\\\..\\\\Desafio_A3Data\\\\Databases\\\\top_categories_maio.parquet', engine='pyarrow')"
   ]
  },
  {
   "cell_type": "code",
   "execution_count": 57,
   "metadata": {},
   "outputs": [
    {
     "data": {
      "application/vnd.plotly.v1+json": {
       "config": {
        "plotlyServerURL": "https://plot.ly"
       },
       "data": [
        {
         "hoverinfo": "y+x",
         "marker": {
          "color": "#1f77b4"
         },
         "name": "Valores",
         "orientation": "h",
         "text": [
          4.8,
          4.68,
          4.66,
          4.62,
          4.62,
          4.61,
          4.58,
          4.57,
          4.56,
          4.54,
          4.51,
          4.5,
          4.44,
          4.42,
          4.42,
          4.42,
          4.41,
          4.38,
          4.36,
          4.24,
          4.21,
          4.2,
          4.17,
          4.11,
          4.1,
          4.08,
          4,
          3.96,
          3.9,
          3.88,
          3.79,
          3.75,
          3.67,
          3.57,
          3.5,
          3.28,
          3.06,
          3.02
         ],
         "textposition": "outside",
         "type": "bar",
         "x": [
          4.8,
          4.68,
          4.66,
          4.62,
          4.62,
          4.61,
          4.58,
          4.57,
          4.56,
          4.54,
          4.51,
          4.5,
          4.44,
          4.42,
          4.42,
          4.42,
          4.41,
          4.38,
          4.36,
          4.24,
          4.21,
          4.2,
          4.17,
          4.11,
          4.1,
          4.08,
          4,
          3.96,
          3.9,
          3.88,
          3.79,
          3.75,
          3.67,
          3.57,
          3.5,
          3.28,
          3.06,
          3.02
         ],
         "y": [
          "Janette Oke",
          "Joni Eareckson Tada",
          "John Gresham Machen",
          "Erwin Chemerinsky",
          "Michael Perry",
          "Beverly Cleary",
          "Carol OConnell",
          "Charles J. Givens",
          "Deke McClelland",
          "Arthur Bochner, Rose Bochner, Adriane G. Berg",
          "Dalai Lama",
          "Napoleon Hill",
          "Judy Sheindlin",
          "Kristin Hannah",
          "Margaret Sidney",
          "Neal Stephenson",
          "Better Homes & Gardens",
          "Zane Grey",
          "Jacqueline Woodson",
          "James Talmage Stevens",
          "Sandra Brown",
          "Tess Gerritsen",
          "Sue Grafton",
          "John Kelly",
          "Tessa Wegert",
          "Mo Hayder",
          "Biggest Loser Experts and Cast, Maggie Greenwood-Robinson",
          "Ernest Hemingway",
          "Thomas Wolfe, General Press",
          "Stephen R. Covey",
          "Michael Curtis Ford",
          "John Cheever",
          "Jon Entine",
          "Frank Haddon",
          "Alan Dean Foster",
          "Carson McCullers",
          "Jon Fasman",
          "William E. Boyce, Richard C. DiPrima, Douglas B. Meade"
         ]
        }
       ],
       "layout": {
        "height": 800,
        "margin": {
         "b": 50,
         "l": 150,
         "r": 50,
         "t": 50
        },
        "paper_bgcolor": "white",
        "plot_bgcolor": "white",
        "template": {
         "data": {
          "bar": [
           {
            "error_x": {
             "color": "#2a3f5f"
            },
            "error_y": {
             "color": "#2a3f5f"
            },
            "marker": {
             "line": {
              "color": "#E5ECF6",
              "width": 0.5
             },
             "pattern": {
              "fillmode": "overlay",
              "size": 10,
              "solidity": 0.2
             }
            },
            "type": "bar"
           }
          ],
          "barpolar": [
           {
            "marker": {
             "line": {
              "color": "#E5ECF6",
              "width": 0.5
             },
             "pattern": {
              "fillmode": "overlay",
              "size": 10,
              "solidity": 0.2
             }
            },
            "type": "barpolar"
           }
          ],
          "carpet": [
           {
            "aaxis": {
             "endlinecolor": "#2a3f5f",
             "gridcolor": "white",
             "linecolor": "white",
             "minorgridcolor": "white",
             "startlinecolor": "#2a3f5f"
            },
            "baxis": {
             "endlinecolor": "#2a3f5f",
             "gridcolor": "white",
             "linecolor": "white",
             "minorgridcolor": "white",
             "startlinecolor": "#2a3f5f"
            },
            "type": "carpet"
           }
          ],
          "choropleth": [
           {
            "colorbar": {
             "outlinewidth": 0,
             "ticks": ""
            },
            "type": "choropleth"
           }
          ],
          "contour": [
           {
            "colorbar": {
             "outlinewidth": 0,
             "ticks": ""
            },
            "colorscale": [
             [
              0,
              "#0d0887"
             ],
             [
              0.1111111111111111,
              "#46039f"
             ],
             [
              0.2222222222222222,
              "#7201a8"
             ],
             [
              0.3333333333333333,
              "#9c179e"
             ],
             [
              0.4444444444444444,
              "#bd3786"
             ],
             [
              0.5555555555555556,
              "#d8576b"
             ],
             [
              0.6666666666666666,
              "#ed7953"
             ],
             [
              0.7777777777777778,
              "#fb9f3a"
             ],
             [
              0.8888888888888888,
              "#fdca26"
             ],
             [
              1,
              "#f0f921"
             ]
            ],
            "type": "contour"
           }
          ],
          "contourcarpet": [
           {
            "colorbar": {
             "outlinewidth": 0,
             "ticks": ""
            },
            "type": "contourcarpet"
           }
          ],
          "heatmap": [
           {
            "colorbar": {
             "outlinewidth": 0,
             "ticks": ""
            },
            "colorscale": [
             [
              0,
              "#0d0887"
             ],
             [
              0.1111111111111111,
              "#46039f"
             ],
             [
              0.2222222222222222,
              "#7201a8"
             ],
             [
              0.3333333333333333,
              "#9c179e"
             ],
             [
              0.4444444444444444,
              "#bd3786"
             ],
             [
              0.5555555555555556,
              "#d8576b"
             ],
             [
              0.6666666666666666,
              "#ed7953"
             ],
             [
              0.7777777777777778,
              "#fb9f3a"
             ],
             [
              0.8888888888888888,
              "#fdca26"
             ],
             [
              1,
              "#f0f921"
             ]
            ],
            "type": "heatmap"
           }
          ],
          "heatmapgl": [
           {
            "colorbar": {
             "outlinewidth": 0,
             "ticks": ""
            },
            "colorscale": [
             [
              0,
              "#0d0887"
             ],
             [
              0.1111111111111111,
              "#46039f"
             ],
             [
              0.2222222222222222,
              "#7201a8"
             ],
             [
              0.3333333333333333,
              "#9c179e"
             ],
             [
              0.4444444444444444,
              "#bd3786"
             ],
             [
              0.5555555555555556,
              "#d8576b"
             ],
             [
              0.6666666666666666,
              "#ed7953"
             ],
             [
              0.7777777777777778,
              "#fb9f3a"
             ],
             [
              0.8888888888888888,
              "#fdca26"
             ],
             [
              1,
              "#f0f921"
             ]
            ],
            "type": "heatmapgl"
           }
          ],
          "histogram": [
           {
            "marker": {
             "pattern": {
              "fillmode": "overlay",
              "size": 10,
              "solidity": 0.2
             }
            },
            "type": "histogram"
           }
          ],
          "histogram2d": [
           {
            "colorbar": {
             "outlinewidth": 0,
             "ticks": ""
            },
            "colorscale": [
             [
              0,
              "#0d0887"
             ],
             [
              0.1111111111111111,
              "#46039f"
             ],
             [
              0.2222222222222222,
              "#7201a8"
             ],
             [
              0.3333333333333333,
              "#9c179e"
             ],
             [
              0.4444444444444444,
              "#bd3786"
             ],
             [
              0.5555555555555556,
              "#d8576b"
             ],
             [
              0.6666666666666666,
              "#ed7953"
             ],
             [
              0.7777777777777778,
              "#fb9f3a"
             ],
             [
              0.8888888888888888,
              "#fdca26"
             ],
             [
              1,
              "#f0f921"
             ]
            ],
            "type": "histogram2d"
           }
          ],
          "histogram2dcontour": [
           {
            "colorbar": {
             "outlinewidth": 0,
             "ticks": ""
            },
            "colorscale": [
             [
              0,
              "#0d0887"
             ],
             [
              0.1111111111111111,
              "#46039f"
             ],
             [
              0.2222222222222222,
              "#7201a8"
             ],
             [
              0.3333333333333333,
              "#9c179e"
             ],
             [
              0.4444444444444444,
              "#bd3786"
             ],
             [
              0.5555555555555556,
              "#d8576b"
             ],
             [
              0.6666666666666666,
              "#ed7953"
             ],
             [
              0.7777777777777778,
              "#fb9f3a"
             ],
             [
              0.8888888888888888,
              "#fdca26"
             ],
             [
              1,
              "#f0f921"
             ]
            ],
            "type": "histogram2dcontour"
           }
          ],
          "mesh3d": [
           {
            "colorbar": {
             "outlinewidth": 0,
             "ticks": ""
            },
            "type": "mesh3d"
           }
          ],
          "parcoords": [
           {
            "line": {
             "colorbar": {
              "outlinewidth": 0,
              "ticks": ""
             }
            },
            "type": "parcoords"
           }
          ],
          "pie": [
           {
            "automargin": true,
            "type": "pie"
           }
          ],
          "scatter": [
           {
            "fillpattern": {
             "fillmode": "overlay",
             "size": 10,
             "solidity": 0.2
            },
            "type": "scatter"
           }
          ],
          "scatter3d": [
           {
            "line": {
             "colorbar": {
              "outlinewidth": 0,
              "ticks": ""
             }
            },
            "marker": {
             "colorbar": {
              "outlinewidth": 0,
              "ticks": ""
             }
            },
            "type": "scatter3d"
           }
          ],
          "scattercarpet": [
           {
            "marker": {
             "colorbar": {
              "outlinewidth": 0,
              "ticks": ""
             }
            },
            "type": "scattercarpet"
           }
          ],
          "scattergeo": [
           {
            "marker": {
             "colorbar": {
              "outlinewidth": 0,
              "ticks": ""
             }
            },
            "type": "scattergeo"
           }
          ],
          "scattergl": [
           {
            "marker": {
             "colorbar": {
              "outlinewidth": 0,
              "ticks": ""
             }
            },
            "type": "scattergl"
           }
          ],
          "scattermapbox": [
           {
            "marker": {
             "colorbar": {
              "outlinewidth": 0,
              "ticks": ""
             }
            },
            "type": "scattermapbox"
           }
          ],
          "scatterpolar": [
           {
            "marker": {
             "colorbar": {
              "outlinewidth": 0,
              "ticks": ""
             }
            },
            "type": "scatterpolar"
           }
          ],
          "scatterpolargl": [
           {
            "marker": {
             "colorbar": {
              "outlinewidth": 0,
              "ticks": ""
             }
            },
            "type": "scatterpolargl"
           }
          ],
          "scatterternary": [
           {
            "marker": {
             "colorbar": {
              "outlinewidth": 0,
              "ticks": ""
             }
            },
            "type": "scatterternary"
           }
          ],
          "surface": [
           {
            "colorbar": {
             "outlinewidth": 0,
             "ticks": ""
            },
            "colorscale": [
             [
              0,
              "#0d0887"
             ],
             [
              0.1111111111111111,
              "#46039f"
             ],
             [
              0.2222222222222222,
              "#7201a8"
             ],
             [
              0.3333333333333333,
              "#9c179e"
             ],
             [
              0.4444444444444444,
              "#bd3786"
             ],
             [
              0.5555555555555556,
              "#d8576b"
             ],
             [
              0.6666666666666666,
              "#ed7953"
             ],
             [
              0.7777777777777778,
              "#fb9f3a"
             ],
             [
              0.8888888888888888,
              "#fdca26"
             ],
             [
              1,
              "#f0f921"
             ]
            ],
            "type": "surface"
           }
          ],
          "table": [
           {
            "cells": {
             "fill": {
              "color": "#EBF0F8"
             },
             "line": {
              "color": "white"
             }
            },
            "header": {
             "fill": {
              "color": "#C8D4E3"
             },
             "line": {
              "color": "white"
             }
            },
            "type": "table"
           }
          ]
         },
         "layout": {
          "annotationdefaults": {
           "arrowcolor": "#2a3f5f",
           "arrowhead": 0,
           "arrowwidth": 1
          },
          "autotypenumbers": "strict",
          "coloraxis": {
           "colorbar": {
            "outlinewidth": 0,
            "ticks": ""
           }
          },
          "colorscale": {
           "diverging": [
            [
             0,
             "#8e0152"
            ],
            [
             0.1,
             "#c51b7d"
            ],
            [
             0.2,
             "#de77ae"
            ],
            [
             0.3,
             "#f1b6da"
            ],
            [
             0.4,
             "#fde0ef"
            ],
            [
             0.5,
             "#f7f7f7"
            ],
            [
             0.6,
             "#e6f5d0"
            ],
            [
             0.7,
             "#b8e186"
            ],
            [
             0.8,
             "#7fbc41"
            ],
            [
             0.9,
             "#4d9221"
            ],
            [
             1,
             "#276419"
            ]
           ],
           "sequential": [
            [
             0,
             "#0d0887"
            ],
            [
             0.1111111111111111,
             "#46039f"
            ],
            [
             0.2222222222222222,
             "#7201a8"
            ],
            [
             0.3333333333333333,
             "#9c179e"
            ],
            [
             0.4444444444444444,
             "#bd3786"
            ],
            [
             0.5555555555555556,
             "#d8576b"
            ],
            [
             0.6666666666666666,
             "#ed7953"
            ],
            [
             0.7777777777777778,
             "#fb9f3a"
            ],
            [
             0.8888888888888888,
             "#fdca26"
            ],
            [
             1,
             "#f0f921"
            ]
           ],
           "sequentialminus": [
            [
             0,
             "#0d0887"
            ],
            [
             0.1111111111111111,
             "#46039f"
            ],
            [
             0.2222222222222222,
             "#7201a8"
            ],
            [
             0.3333333333333333,
             "#9c179e"
            ],
            [
             0.4444444444444444,
             "#bd3786"
            ],
            [
             0.5555555555555556,
             "#d8576b"
            ],
            [
             0.6666666666666666,
             "#ed7953"
            ],
            [
             0.7777777777777778,
             "#fb9f3a"
            ],
            [
             0.8888888888888888,
             "#fdca26"
            ],
            [
             1,
             "#f0f921"
            ]
           ]
          },
          "colorway": [
           "#636efa",
           "#EF553B",
           "#00cc96",
           "#ab63fa",
           "#FFA15A",
           "#19d3f3",
           "#FF6692",
           "#B6E880",
           "#FF97FF",
           "#FECB52"
          ],
          "font": {
           "color": "#2a3f5f"
          },
          "geo": {
           "bgcolor": "white",
           "lakecolor": "white",
           "landcolor": "#E5ECF6",
           "showlakes": true,
           "showland": true,
           "subunitcolor": "white"
          },
          "hoverlabel": {
           "align": "left"
          },
          "hovermode": "closest",
          "mapbox": {
           "style": "light"
          },
          "paper_bgcolor": "white",
          "plot_bgcolor": "#E5ECF6",
          "polar": {
           "angularaxis": {
            "gridcolor": "white",
            "linecolor": "white",
            "ticks": ""
           },
           "bgcolor": "#E5ECF6",
           "radialaxis": {
            "gridcolor": "white",
            "linecolor": "white",
            "ticks": ""
           }
          },
          "scene": {
           "xaxis": {
            "backgroundcolor": "#E5ECF6",
            "gridcolor": "white",
            "gridwidth": 2,
            "linecolor": "white",
            "showbackground": true,
            "ticks": "",
            "zerolinecolor": "white"
           },
           "yaxis": {
            "backgroundcolor": "#E5ECF6",
            "gridcolor": "white",
            "gridwidth": 2,
            "linecolor": "white",
            "showbackground": true,
            "ticks": "",
            "zerolinecolor": "white"
           },
           "zaxis": {
            "backgroundcolor": "#E5ECF6",
            "gridcolor": "white",
            "gridwidth": 2,
            "linecolor": "white",
            "showbackground": true,
            "ticks": "",
            "zerolinecolor": "white"
           }
          },
          "shapedefaults": {
           "line": {
            "color": "#2a3f5f"
           }
          },
          "ternary": {
           "aaxis": {
            "gridcolor": "white",
            "linecolor": "white",
            "ticks": ""
           },
           "baxis": {
            "gridcolor": "white",
            "linecolor": "white",
            "ticks": ""
           },
           "bgcolor": "#E5ECF6",
           "caxis": {
            "gridcolor": "white",
            "linecolor": "white",
            "ticks": ""
           }
          },
          "title": {
           "x": 0.05
          },
          "xaxis": {
           "automargin": true,
           "gridcolor": "white",
           "linecolor": "white",
           "ticks": "",
           "title": {
            "standoff": 15
           },
           "zerolinecolor": "white",
           "zerolinewidth": 2
          },
          "yaxis": {
           "automargin": true,
           "gridcolor": "white",
           "linecolor": "white",
           "ticks": "",
           "title": {
            "standoff": 15
           },
           "zerolinecolor": "white",
           "zerolinewidth": 2
          }
         }
        },
        "title": {
         "font": {
          "color": "black",
          "family": "Arial",
          "size": 20
         },
         "text": "Scores por Autor(a): Avaliação dos Leitores"
        },
        "width": 1000,
        "xaxis": {
         "dtick": 0.5,
         "range": [
          0,
          5
         ],
         "tickfont": {
          "size": 12
         },
         "title": {
          "font": {
           "color": "black",
           "family": "Arial",
           "size": 16
          },
          "text": "Score"
         }
        },
        "yaxis": {
         "tickfont": {
          "size": 12
         },
         "title": {
          "font": {
           "color": "black",
           "family": "Arial",
           "size": 16
          },
          "text": "Autor(a)"
         }
        }
       }
      }
     },
     "metadata": {},
     "output_type": "display_data"
    }
   ],
   "source": [
    "# Dados para o gráfico de barras com a variável 'authors' no eixo y\n",
    "categorias_autor = bd['authors'].unique()\n",
    "valores_autor = bd.groupby('authors')['score'].mean()\n",
    "\n",
    "# Ordenar os dados de scores médios por autor do maior para o menor\n",
    "valores_autor_sorted = valores_autor.sort_values(ascending=False)\n",
    "\n",
    "# Criação do gráfico de barras horizontal com a variável 'authors' no eixo y\n",
    "fig4 = go.Figure(data=[\n",
    "    go.Bar(\n",
    "        name='Valores', \n",
    "        y=valores_autor_sorted.index, \n",
    "        x=valores_autor_sorted, \n",
    "        orientation='h',\n",
    "        marker=dict(\n",
    "            color='#1f77b4'  # Cor das barras\n",
    "        ),\n",
    "        text=valores_autor_sorted.round(2),  # Adiciona os valores como rótulos arredondados\n",
    "        textposition='outside',  # Posição dos rótulos\n",
    "        hoverinfo='y+x'  # Informação exibida ao passar o mouse\n",
    "    )\n",
    "])\n",
    "\n",
    "# Personalização do layout do gráfico com a variável 'authors' no eixo y\n",
    "fig4.update_layout(\n",
    "    title='Scores por Autor(a): Avaliação dos Leitores',\n",
    "    title_font=dict(size=20, family='Arial', color='black'),\n",
    "    xaxis_title='Score',\n",
    "    yaxis_title='Autor(a)',\n",
    "    xaxis=dict(\n",
    "        title_font=dict(size=16, family='Arial', color='black'),\n",
    "        tickfont=dict(size=12),\n",
    "        range=[0, 5],  # Definir a faixa do eixo x\n",
    "        dtick=0.5  # Definir o espaçamento entre os ticks do eixo x\n",
    "    ),\n",
    "    yaxis=dict(\n",
    "        title_font=dict(size=16, family='Arial', color='black'),\n",
    "        tickfont=dict(size=12)\n",
    "    ),\n",
    "    height=800,  # Ajustar a altura do gráfico\n",
    "    width=1000,   # Ajustar a largura do gráfico\n",
    "    plot_bgcolor='white',  # Fundo do gráfico branco\n",
    "    paper_bgcolor='white',  # Fundo do papel branco\n",
    "    margin=dict(l=150, r=50, t=50, b=50)  # Margens\n",
    ")\n",
    "\n",
    "# Exibir o gráfico com a variável 'authors' no eixo y\n",
    "fig4.show()"
   ]
  },
  {
   "cell_type": "code",
   "execution_count": 58,
   "metadata": {},
   "outputs": [
    {
     "data": {
      "text/html": [
       "<div>\n",
       "<style scoped>\n",
       "    .dataframe tbody tr th:only-of-type {\n",
       "        vertical-align: middle;\n",
       "    }\n",
       "\n",
       "    .dataframe tbody tr th {\n",
       "        vertical-align: top;\n",
       "    }\n",
       "\n",
       "    .dataframe thead th {\n",
       "        text-align: right;\n",
       "    }\n",
       "</style>\n",
       "<table border=\"1\" class=\"dataframe\">\n",
       "  <thead>\n",
       "    <tr style=\"text-align: right;\">\n",
       "      <th></th>\n",
       "      <th>authors</th>\n",
       "      <th>score</th>\n",
       "    </tr>\n",
       "  </thead>\n",
       "  <tbody>\n",
       "    <tr>\n",
       "      <th>0</th>\n",
       "      <td>Janette Oke</td>\n",
       "      <td>4.80</td>\n",
       "    </tr>\n",
       "    <tr>\n",
       "      <th>1</th>\n",
       "      <td>Joni Eareckson Tada</td>\n",
       "      <td>4.68</td>\n",
       "    </tr>\n",
       "    <tr>\n",
       "      <th>2</th>\n",
       "      <td>John Gresham Machen</td>\n",
       "      <td>4.66</td>\n",
       "    </tr>\n",
       "    <tr>\n",
       "      <th>3</th>\n",
       "      <td>Erwin Chemerinsky</td>\n",
       "      <td>4.62</td>\n",
       "    </tr>\n",
       "    <tr>\n",
       "      <th>4</th>\n",
       "      <td>Michael Perry</td>\n",
       "      <td>4.62</td>\n",
       "    </tr>\n",
       "  </tbody>\n",
       "</table>\n",
       "</div>"
      ],
      "text/plain": [
       "               authors  score\n",
       "0          Janette Oke   4.80\n",
       "1  Joni Eareckson Tada   4.68\n",
       "2  John Gresham Machen   4.66\n",
       "3    Erwin Chemerinsky   4.62\n",
       "4        Michael Perry   4.62"
      ]
     },
     "execution_count": 58,
     "metadata": {},
     "output_type": "execute_result"
    }
   ],
   "source": [
    "valores_autor_sorted[:5].reset_index()"
   ]
  },
  {
   "cell_type": "code",
   "execution_count": 66,
   "metadata": {},
   "outputs": [],
   "source": [
    "valores_autor_sorted[:5].reset_index().to_parquet(r'..\\\\..\\\\Desafio_A3Data\\\\Databases\\\\top_authors_maio.parquet', engine='pyarrow')"
   ]
  },
  {
   "cell_type": "markdown",
   "metadata": {},
   "source": [
    "#### Hipóteses: Autor mais bem avaliado é o mais lido\n"
   ]
  },
  {
   "cell_type": "code",
   "execution_count": 11,
   "metadata": {},
   "outputs": [
    {
     "data": {
      "text/plain": [
       "38"
      ]
     },
     "execution_count": 11,
     "metadata": {},
     "output_type": "execute_result"
    }
   ],
   "source": [
    "bd['authors'].nunique()"
   ]
  },
  {
   "cell_type": "code",
   "execution_count": 9,
   "metadata": {},
   "outputs": [
    {
     "data": {
      "text/html": [
       "<div>\n",
       "<style scoped>\n",
       "    .dataframe tbody tr th:only-of-type {\n",
       "        vertical-align: middle;\n",
       "    }\n",
       "\n",
       "    .dataframe tbody tr th {\n",
       "        vertical-align: top;\n",
       "    }\n",
       "\n",
       "    .dataframe thead th {\n",
       "        text-align: right;\n",
       "    }\n",
       "</style>\n",
       "<table border=\"1\" class=\"dataframe\">\n",
       "  <thead>\n",
       "    <tr style=\"text-align: right;\">\n",
       "      <th></th>\n",
       "      <th>authors</th>\n",
       "      <th>mean_score</th>\n",
       "      <th>count</th>\n",
       "    </tr>\n",
       "  </thead>\n",
       "  <tbody>\n",
       "    <tr>\n",
       "      <th>15</th>\n",
       "      <td>Janette Oke</td>\n",
       "      <td>4.80</td>\n",
       "      <td>1</td>\n",
       "    </tr>\n",
       "    <tr>\n",
       "      <th>21</th>\n",
       "      <td>Joni Eareckson Tada</td>\n",
       "      <td>4.68</td>\n",
       "      <td>1</td>\n",
       "    </tr>\n",
       "    <tr>\n",
       "      <th>17</th>\n",
       "      <td>John Gresham Machen</td>\n",
       "      <td>4.66</td>\n",
       "      <td>1</td>\n",
       "    </tr>\n",
       "    <tr>\n",
       "      <th>11</th>\n",
       "      <td>Erwin Chemerinsky</td>\n",
       "      <td>4.62</td>\n",
       "      <td>1</td>\n",
       "    </tr>\n",
       "    <tr>\n",
       "      <th>26</th>\n",
       "      <td>Michael Perry</td>\n",
       "      <td>4.62</td>\n",
       "      <td>1</td>\n",
       "    </tr>\n",
       "    <tr>\n",
       "      <th>3</th>\n",
       "      <td>Beverly Cleary</td>\n",
       "      <td>4.61</td>\n",
       "      <td>1</td>\n",
       "    </tr>\n",
       "    <tr>\n",
       "      <th>5</th>\n",
       "      <td>Carol OConnell</td>\n",
       "      <td>4.58</td>\n",
       "      <td>1</td>\n",
       "    </tr>\n",
       "    <tr>\n",
       "      <th>7</th>\n",
       "      <td>Charles J. Givens</td>\n",
       "      <td>4.57</td>\n",
       "      <td>1</td>\n",
       "    </tr>\n",
       "    <tr>\n",
       "      <th>9</th>\n",
       "      <td>Deke McClelland</td>\n",
       "      <td>4.56</td>\n",
       "      <td>1</td>\n",
       "    </tr>\n",
       "    <tr>\n",
       "      <th>1</th>\n",
       "      <td>Arthur Bochner, Rose Bochner, Adriane G. Berg</td>\n",
       "      <td>4.54</td>\n",
       "      <td>1</td>\n",
       "    </tr>\n",
       "    <tr>\n",
       "      <th>8</th>\n",
       "      <td>Dalai Lama</td>\n",
       "      <td>4.51</td>\n",
       "      <td>1</td>\n",
       "    </tr>\n",
       "    <tr>\n",
       "      <th>28</th>\n",
       "      <td>Napoleon Hill</td>\n",
       "      <td>4.50</td>\n",
       "      <td>1</td>\n",
       "    </tr>\n",
       "    <tr>\n",
       "      <th>22</th>\n",
       "      <td>Judy Sheindlin</td>\n",
       "      <td>4.44</td>\n",
       "      <td>1</td>\n",
       "    </tr>\n",
       "    <tr>\n",
       "      <th>23</th>\n",
       "      <td>Kristin Hannah</td>\n",
       "      <td>4.42</td>\n",
       "      <td>1</td>\n",
       "    </tr>\n",
       "    <tr>\n",
       "      <th>24</th>\n",
       "      <td>Margaret Sidney</td>\n",
       "      <td>4.42</td>\n",
       "      <td>1</td>\n",
       "    </tr>\n",
       "    <tr>\n",
       "      <th>29</th>\n",
       "      <td>Neal Stephenson</td>\n",
       "      <td>4.42</td>\n",
       "      <td>1</td>\n",
       "    </tr>\n",
       "    <tr>\n",
       "      <th>2</th>\n",
       "      <td>Better Homes &amp; Gardens</td>\n",
       "      <td>4.41</td>\n",
       "      <td>1</td>\n",
       "    </tr>\n",
       "    <tr>\n",
       "      <th>37</th>\n",
       "      <td>Zane Grey</td>\n",
       "      <td>4.38</td>\n",
       "      <td>1</td>\n",
       "    </tr>\n",
       "    <tr>\n",
       "      <th>13</th>\n",
       "      <td>Jacqueline Woodson</td>\n",
       "      <td>4.36</td>\n",
       "      <td>1</td>\n",
       "    </tr>\n",
       "    <tr>\n",
       "      <th>14</th>\n",
       "      <td>James Talmage Stevens</td>\n",
       "      <td>4.24</td>\n",
       "      <td>1</td>\n",
       "    </tr>\n",
       "    <tr>\n",
       "      <th>30</th>\n",
       "      <td>Sandra Brown</td>\n",
       "      <td>4.21</td>\n",
       "      <td>1</td>\n",
       "    </tr>\n",
       "    <tr>\n",
       "      <th>33</th>\n",
       "      <td>Tess Gerritsen</td>\n",
       "      <td>4.20</td>\n",
       "      <td>1</td>\n",
       "    </tr>\n",
       "    <tr>\n",
       "      <th>32</th>\n",
       "      <td>Sue Grafton</td>\n",
       "      <td>4.17</td>\n",
       "      <td>1</td>\n",
       "    </tr>\n",
       "    <tr>\n",
       "      <th>18</th>\n",
       "      <td>John Kelly</td>\n",
       "      <td>4.11</td>\n",
       "      <td>1</td>\n",
       "    </tr>\n",
       "    <tr>\n",
       "      <th>34</th>\n",
       "      <td>Tessa Wegert</td>\n",
       "      <td>4.10</td>\n",
       "      <td>1</td>\n",
       "    </tr>\n",
       "    <tr>\n",
       "      <th>27</th>\n",
       "      <td>Mo Hayder</td>\n",
       "      <td>4.08</td>\n",
       "      <td>1</td>\n",
       "    </tr>\n",
       "    <tr>\n",
       "      <th>4</th>\n",
       "      <td>Biggest Loser Experts and Cast, Maggie Greenwo...</td>\n",
       "      <td>4.00</td>\n",
       "      <td>1</td>\n",
       "    </tr>\n",
       "    <tr>\n",
       "      <th>10</th>\n",
       "      <td>Ernest Hemingway</td>\n",
       "      <td>3.96</td>\n",
       "      <td>1</td>\n",
       "    </tr>\n",
       "    <tr>\n",
       "      <th>35</th>\n",
       "      <td>Thomas Wolfe, General Press</td>\n",
       "      <td>3.90</td>\n",
       "      <td>1</td>\n",
       "    </tr>\n",
       "    <tr>\n",
       "      <th>31</th>\n",
       "      <td>Stephen R. Covey</td>\n",
       "      <td>3.88</td>\n",
       "      <td>1</td>\n",
       "    </tr>\n",
       "    <tr>\n",
       "      <th>25</th>\n",
       "      <td>Michael Curtis Ford</td>\n",
       "      <td>3.79</td>\n",
       "      <td>1</td>\n",
       "    </tr>\n",
       "    <tr>\n",
       "      <th>16</th>\n",
       "      <td>John Cheever</td>\n",
       "      <td>3.75</td>\n",
       "      <td>1</td>\n",
       "    </tr>\n",
       "    <tr>\n",
       "      <th>19</th>\n",
       "      <td>Jon Entine</td>\n",
       "      <td>3.67</td>\n",
       "      <td>1</td>\n",
       "    </tr>\n",
       "    <tr>\n",
       "      <th>12</th>\n",
       "      <td>Frank Haddon</td>\n",
       "      <td>3.57</td>\n",
       "      <td>1</td>\n",
       "    </tr>\n",
       "    <tr>\n",
       "      <th>0</th>\n",
       "      <td>Alan Dean Foster</td>\n",
       "      <td>3.50</td>\n",
       "      <td>1</td>\n",
       "    </tr>\n",
       "    <tr>\n",
       "      <th>6</th>\n",
       "      <td>Carson McCullers</td>\n",
       "      <td>3.28</td>\n",
       "      <td>1</td>\n",
       "    </tr>\n",
       "    <tr>\n",
       "      <th>20</th>\n",
       "      <td>Jon Fasman</td>\n",
       "      <td>3.06</td>\n",
       "      <td>1</td>\n",
       "    </tr>\n",
       "    <tr>\n",
       "      <th>36</th>\n",
       "      <td>William E. Boyce, Richard C. DiPrima, Douglas ...</td>\n",
       "      <td>3.02</td>\n",
       "      <td>1</td>\n",
       "    </tr>\n",
       "  </tbody>\n",
       "</table>\n",
       "</div>"
      ],
      "text/plain": [
       "                                              authors  mean_score  count\n",
       "15                                        Janette Oke        4.80      1\n",
       "21                                Joni Eareckson Tada        4.68      1\n",
       "17                                John Gresham Machen        4.66      1\n",
       "11                                  Erwin Chemerinsky        4.62      1\n",
       "26                                      Michael Perry        4.62      1\n",
       "3                                      Beverly Cleary        4.61      1\n",
       "5                                      Carol OConnell        4.58      1\n",
       "7                                   Charles J. Givens        4.57      1\n",
       "9                                     Deke McClelland        4.56      1\n",
       "1       Arthur Bochner, Rose Bochner, Adriane G. Berg        4.54      1\n",
       "8                                          Dalai Lama        4.51      1\n",
       "28                                      Napoleon Hill        4.50      1\n",
       "22                                     Judy Sheindlin        4.44      1\n",
       "23                                     Kristin Hannah        4.42      1\n",
       "24                                    Margaret Sidney        4.42      1\n",
       "29                                    Neal Stephenson        4.42      1\n",
       "2                              Better Homes & Gardens        4.41      1\n",
       "37                                          Zane Grey        4.38      1\n",
       "13                                 Jacqueline Woodson        4.36      1\n",
       "14                              James Talmage Stevens        4.24      1\n",
       "30                                       Sandra Brown        4.21      1\n",
       "33                                     Tess Gerritsen        4.20      1\n",
       "32                                        Sue Grafton        4.17      1\n",
       "18                                         John Kelly        4.11      1\n",
       "34                                       Tessa Wegert        4.10      1\n",
       "27                                          Mo Hayder        4.08      1\n",
       "4   Biggest Loser Experts and Cast, Maggie Greenwo...        4.00      1\n",
       "10                                   Ernest Hemingway        3.96      1\n",
       "35                        Thomas Wolfe, General Press        3.90      1\n",
       "31                                   Stephen R. Covey        3.88      1\n",
       "25                                Michael Curtis Ford        3.79      1\n",
       "16                                       John Cheever        3.75      1\n",
       "19                                         Jon Entine        3.67      1\n",
       "12                                       Frank Haddon        3.57      1\n",
       "0                                    Alan Dean Foster        3.50      1\n",
       "6                                    Carson McCullers        3.28      1\n",
       "20                                         Jon Fasman        3.06      1\n",
       "36  William E. Boyce, Richard C. DiPrima, Douglas ...        3.02      1"
      ]
     },
     "execution_count": 9,
     "metadata": {},
     "output_type": "execute_result"
    }
   ],
   "source": [
    "result = bd[['authors', 'score']].groupby('authors').agg(\n",
    "    mean_score=('score', 'mean'),\n",
    "    count=('authors', 'size')\n",
    ").reset_index()\n",
    "\n",
    "result = result.sort_values(by='mean_score', ascending=False)\n",
    "result"
   ]
  },
  {
   "cell_type": "markdown",
   "metadata": {},
   "source": [
    "#### Hipótese: Existem leitores problemáticos "
   ]
  },
  {
   "cell_type": "code",
   "execution_count": 48,
   "metadata": {},
   "outputs": [
    {
     "data": {
      "text/html": [
       "<div>\n",
       "<style scoped>\n",
       "    .dataframe tbody tr th:only-of-type {\n",
       "        vertical-align: middle;\n",
       "    }\n",
       "\n",
       "    .dataframe tbody tr th {\n",
       "        vertical-align: top;\n",
       "    }\n",
       "\n",
       "    .dataframe thead th {\n",
       "        text-align: right;\n",
       "    }\n",
       "</style>\n",
       "<table border=\"1\" class=\"dataframe\">\n",
       "  <thead>\n",
       "    <tr style=\"text-align: right;\">\n",
       "      <th></th>\n",
       "      <th>User_id</th>\n",
       "      <th>mean_score</th>\n",
       "      <th>count</th>\n",
       "    </tr>\n",
       "  </thead>\n",
       "  <tbody>\n",
       "    <tr>\n",
       "      <th>141</th>\n",
       "      <td>A172AW5IS4Z79Y</td>\n",
       "      <td>1.0</td>\n",
       "      <td>4</td>\n",
       "    </tr>\n",
       "    <tr>\n",
       "      <th>1041</th>\n",
       "      <td>A2F0ETLPN3JFLO</td>\n",
       "      <td>1.0</td>\n",
       "      <td>4</td>\n",
       "    </tr>\n",
       "    <tr>\n",
       "      <th>696</th>\n",
       "      <td>A1Y87XPULGDR37</td>\n",
       "      <td>1.0</td>\n",
       "      <td>3</td>\n",
       "    </tr>\n",
       "    <tr>\n",
       "      <th>1295</th>\n",
       "      <td>A2RJ1N332RBDDJ</td>\n",
       "      <td>1.0</td>\n",
       "      <td>3</td>\n",
       "    </tr>\n",
       "    <tr>\n",
       "      <th>110</th>\n",
       "      <td>A15W834OW4GEFW</td>\n",
       "      <td>1.0</td>\n",
       "      <td>2</td>\n",
       "    </tr>\n",
       "    <tr>\n",
       "      <th>394</th>\n",
       "      <td>A1K18REXZ9TRAW</td>\n",
       "      <td>1.0</td>\n",
       "      <td>2</td>\n",
       "    </tr>\n",
       "    <tr>\n",
       "      <th>407</th>\n",
       "      <td>A1KNTHDRNK3DCX</td>\n",
       "      <td>1.0</td>\n",
       "      <td>2</td>\n",
       "    </tr>\n",
       "    <tr>\n",
       "      <th>511</th>\n",
       "      <td>A1PE9PCGRBGB37</td>\n",
       "      <td>1.0</td>\n",
       "      <td>2</td>\n",
       "    </tr>\n",
       "    <tr>\n",
       "      <th>516</th>\n",
       "      <td>A1PN8PSFV99Q41</td>\n",
       "      <td>1.0</td>\n",
       "      <td>2</td>\n",
       "    </tr>\n",
       "    <tr>\n",
       "      <th>1380</th>\n",
       "      <td>A2W1T6WAAVEZRC</td>\n",
       "      <td>1.0</td>\n",
       "      <td>2</td>\n",
       "    </tr>\n",
       "  </tbody>\n",
       "</table>\n",
       "</div>"
      ],
      "text/plain": [
       "             User_id  mean_score  count\n",
       "141   A172AW5IS4Z79Y         1.0      4\n",
       "1041  A2F0ETLPN3JFLO         1.0      4\n",
       "696   A1Y87XPULGDR37         1.0      3\n",
       "1295  A2RJ1N332RBDDJ         1.0      3\n",
       "110   A15W834OW4GEFW         1.0      2\n",
       "394   A1K18REXZ9TRAW         1.0      2\n",
       "407   A1KNTHDRNK3DCX         1.0      2\n",
       "511   A1PE9PCGRBGB37         1.0      2\n",
       "516   A1PN8PSFV99Q41         1.0      2\n",
       "1380  A2W1T6WAAVEZRC         1.0      2"
      ]
     },
     "execution_count": 48,
     "metadata": {},
     "output_type": "execute_result"
    }
   ],
   "source": [
    "result1 = br[['User_id', 'score']].groupby('User_id').agg(\n",
    "    mean_score=('score', 'mean'),\n",
    "    count=('User_id', 'size')\n",
    ").reset_index()\n",
    "\n",
    "result1 = result1.sort_values(by=['mean_score', 'count'], ascending=[True, False])\n",
    "result1.head(10)"
   ]
  },
  {
   "cell_type": "code",
   "execution_count": 21,
   "metadata": {},
   "outputs": [
    {
     "data": {
      "text/plain": [
       "array(['Spaniardx', 'Shawn M. Owen \"solocolo\"'], dtype=object)"
      ]
     },
     "execution_count": 21,
     "metadata": {},
     "output_type": "execute_result"
    }
   ],
   "source": [
    "br[(br['User_id'] == 'A172AW5IS4Z79Y') | (br['User_id'] == 'A2F0ETLPN3JFLO')]['profileName'].unique()"
   ]
  },
  {
   "cell_type": "markdown",
   "metadata": {},
   "source": [
    "#### Hipótese: Existem leitores ecléticos"
   ]
  },
  {
   "cell_type": "code",
   "execution_count": 47,
   "metadata": {},
   "outputs": [
    {
     "data": {
      "text/html": [
       "<div>\n",
       "<style scoped>\n",
       "    .dataframe tbody tr th:only-of-type {\n",
       "        vertical-align: middle;\n",
       "    }\n",
       "\n",
       "    .dataframe tbody tr th {\n",
       "        vertical-align: top;\n",
       "    }\n",
       "\n",
       "    .dataframe thead th {\n",
       "        text-align: right;\n",
       "    }\n",
       "</style>\n",
       "<table border=\"1\" class=\"dataframe\">\n",
       "  <thead>\n",
       "    <tr style=\"text-align: right;\">\n",
       "      <th></th>\n",
       "      <th>User_id</th>\n",
       "      <th>count</th>\n",
       "    </tr>\n",
       "  </thead>\n",
       "  <tbody>\n",
       "    <tr>\n",
       "      <th>415</th>\n",
       "      <td>A1L43KWWR05PCS</td>\n",
       "      <td>7</td>\n",
       "    </tr>\n",
       "    <tr>\n",
       "      <th>2156</th>\n",
       "      <td>AA0BB36HOBYLC</td>\n",
       "      <td>6</td>\n",
       "    </tr>\n",
       "    <tr>\n",
       "      <th>952</th>\n",
       "      <td>A2AYSFGUP5VTY3</td>\n",
       "      <td>5</td>\n",
       "    </tr>\n",
       "    <tr>\n",
       "      <th>15</th>\n",
       "      <td>A114YQ7ZT9Y1W5</td>\n",
       "      <td>5</td>\n",
       "    </tr>\n",
       "    <tr>\n",
       "      <th>395</th>\n",
       "      <td>A1K1JW1C5CUSUZ</td>\n",
       "      <td>5</td>\n",
       "    </tr>\n",
       "    <tr>\n",
       "      <th>2543</th>\n",
       "      <td>ATTLUK81FJVJ3</td>\n",
       "      <td>5</td>\n",
       "    </tr>\n",
       "    <tr>\n",
       "      <th>1917</th>\n",
       "      <td>A3PM7CTXMNLMBC</td>\n",
       "      <td>4</td>\n",
       "    </tr>\n",
       "    <tr>\n",
       "      <th>362</th>\n",
       "      <td>A1I78HZLE3O1SD</td>\n",
       "      <td>4</td>\n",
       "    </tr>\n",
       "    <tr>\n",
       "      <th>1509</th>\n",
       "      <td>A32GGHNOVN6ASX</td>\n",
       "      <td>4</td>\n",
       "    </tr>\n",
       "    <tr>\n",
       "      <th>1428</th>\n",
       "      <td>A2YIUQF3LKRU7F</td>\n",
       "      <td>4</td>\n",
       "    </tr>\n",
       "  </tbody>\n",
       "</table>\n",
       "</div>"
      ],
      "text/plain": [
       "             User_id  count\n",
       "415   A1L43KWWR05PCS      7\n",
       "2156   AA0BB36HOBYLC      6\n",
       "952   A2AYSFGUP5VTY3      5\n",
       "15    A114YQ7ZT9Y1W5      5\n",
       "395   A1K1JW1C5CUSUZ      5\n",
       "2543   ATTLUK81FJVJ3      5\n",
       "1917  A3PM7CTXMNLMBC      4\n",
       "362   A1I78HZLE3O1SD      4\n",
       "1509  A32GGHNOVN6ASX      4\n",
       "1428  A2YIUQF3LKRU7F      4"
      ]
     },
     "execution_count": 47,
     "metadata": {},
     "output_type": "execute_result"
    }
   ],
   "source": [
    "result2 = br[['User_id', 'score']].groupby('User_id').agg(\n",
    "    count=('User_id', 'size')\n",
    ").reset_index()\n",
    "\n",
    "result2 = result2.sort_values(by=['count'], ascending=[False])\n",
    "result2[['User_id', 'count']].head(10)"
   ]
  },
  {
   "cell_type": "code",
   "execution_count": 36,
   "metadata": {},
   "outputs": [],
   "source": [
    "cutup = br[(br['User_id'] == 'A1L43KWWR05PCS') | (br['User_id'] == 'AA0BB36HOBYLC')][['profileName', 'Title']]\n",
    "list1 = cutup[cutup['profileName'] == 'Lawyeraau']['Title'].unique()\n",
    "list2 = cutup[cutup['profileName'] == 'Deborah Dieleman \"Jen D\"']['Title'].unique()"
   ]
  },
  {
   "cell_type": "code",
   "execution_count": 40,
   "metadata": {},
   "outputs": [
    {
     "data": {
      "text/html": [
       "<div>\n",
       "<style scoped>\n",
       "    .dataframe tbody tr th:only-of-type {\n",
       "        vertical-align: middle;\n",
       "    }\n",
       "\n",
       "    .dataframe tbody tr th {\n",
       "        vertical-align: top;\n",
       "    }\n",
       "\n",
       "    .dataframe thead th {\n",
       "        text-align: right;\n",
       "    }\n",
       "</style>\n",
       "<table border=\"1\" class=\"dataframe\">\n",
       "  <thead>\n",
       "    <tr style=\"text-align: right;\">\n",
       "      <th></th>\n",
       "      <th>Title</th>\n",
       "      <th>categories</th>\n",
       "    </tr>\n",
       "  </thead>\n",
       "  <tbody>\n",
       "    <tr>\n",
       "      <th>34985</th>\n",
       "      <td>Judas Child</td>\n",
       "      <td>Fiction</td>\n",
       "    </tr>\n",
       "    <tr>\n",
       "      <th>130675</th>\n",
       "      <td>Don't Pee on My Leg and Tell Me It's Raining: ...</td>\n",
       "      <td>Biography &amp; Autobiography</td>\n",
       "    </tr>\n",
       "    <tr>\n",
       "      <th>158148</th>\n",
       "      <td>Member of the Wedding</td>\n",
       "      <td>Fiction</td>\n",
       "    </tr>\n",
       "  </tbody>\n",
       "</table>\n",
       "</div>"
      ],
      "text/plain": [
       "                                                    Title  \\\n",
       "34985                                         Judas Child   \n",
       "130675  Don't Pee on My Leg and Tell Me It's Raining: ...   \n",
       "158148                              Member of the Wedding   \n",
       "\n",
       "                       categories  \n",
       "34985                     Fiction  \n",
       "130675  Biography & Autobiography  \n",
       "158148                    Fiction  "
      ]
     },
     "execution_count": 40,
     "metadata": {},
     "output_type": "execute_result"
    }
   ],
   "source": [
    "#Lawyeraau\n",
    "bd[bd['Title'].isin(list1)][['Title', 'categories']]"
   ]
  },
  {
   "cell_type": "code",
   "execution_count": 41,
   "metadata": {},
   "outputs": [
    {
     "data": {
      "text/html": [
       "<div>\n",
       "<style scoped>\n",
       "    .dataframe tbody tr th:only-of-type {\n",
       "        vertical-align: middle;\n",
       "    }\n",
       "\n",
       "    .dataframe tbody tr th {\n",
       "        vertical-align: top;\n",
       "    }\n",
       "\n",
       "    .dataframe thead th {\n",
       "        text-align: right;\n",
       "    }\n",
       "</style>\n",
       "<table border=\"1\" class=\"dataframe\">\n",
       "  <thead>\n",
       "    <tr style=\"text-align: right;\">\n",
       "      <th></th>\n",
       "      <th>Title</th>\n",
       "      <th>categories</th>\n",
       "    </tr>\n",
       "  </thead>\n",
       "  <tbody>\n",
       "    <tr>\n",
       "      <th>61163</th>\n",
       "      <td>A Searching Heart (Prairie Legacy Series #2)</td>\n",
       "      <td>Fiction</td>\n",
       "    </tr>\n",
       "    <tr>\n",
       "      <th>117711</th>\n",
       "      <td>Five Little Peppers and How They Grew</td>\n",
       "      <td>Brothers and sisters</td>\n",
       "    </tr>\n",
       "  </tbody>\n",
       "</table>\n",
       "</div>"
      ],
      "text/plain": [
       "                                               Title            categories\n",
       "61163   A Searching Heart (Prairie Legacy Series #2)               Fiction\n",
       "117711         Five Little Peppers and How They Grew  Brothers and sisters"
      ]
     },
     "execution_count": 41,
     "metadata": {},
     "output_type": "execute_result"
    }
   ],
   "source": [
    "#Deborah Dieleman \"Jen D\"\n",
    "bd[bd['Title'].isin(list2)][['Title', 'categories']]"
   ]
  },
  {
   "cell_type": "markdown",
   "metadata": {},
   "source": [
    "#### Hipóteses: Livros populares com baixa avaliação; Livro mais bem avaliado é o mais lido"
   ]
  },
  {
   "cell_type": "code",
   "execution_count": 46,
   "metadata": {},
   "outputs": [
    {
     "data": {
      "text/html": [
       "<div>\n",
       "<style scoped>\n",
       "    .dataframe tbody tr th:only-of-type {\n",
       "        vertical-align: middle;\n",
       "    }\n",
       "\n",
       "    .dataframe tbody tr th {\n",
       "        vertical-align: top;\n",
       "    }\n",
       "\n",
       "    .dataframe thead th {\n",
       "        text-align: right;\n",
       "    }\n",
       "</style>\n",
       "<table border=\"1\" class=\"dataframe\">\n",
       "  <thead>\n",
       "    <tr style=\"text-align: right;\">\n",
       "      <th></th>\n",
       "      <th>Title</th>\n",
       "      <th>mean_score</th>\n",
       "      <th>count</th>\n",
       "    </tr>\n",
       "  </thead>\n",
       "  <tbody>\n",
       "    <tr>\n",
       "      <th>10</th>\n",
       "      <td>Elementary Differential Equations and Boundary...</td>\n",
       "      <td>3.02</td>\n",
       "      <td>1</td>\n",
       "    </tr>\n",
       "    <tr>\n",
       "      <th>31</th>\n",
       "      <td>The Geographer's Library</td>\n",
       "      <td>3.06</td>\n",
       "      <td>1</td>\n",
       "    </tr>\n",
       "    <tr>\n",
       "      <th>21</th>\n",
       "      <td>Member of the Wedding</td>\n",
       "      <td>3.28</td>\n",
       "      <td>1</td>\n",
       "    </tr>\n",
       "    <tr>\n",
       "      <th>26</th>\n",
       "      <td>Splinter of the Mind's Eye</td>\n",
       "      <td>3.50</td>\n",
       "      <td>1</td>\n",
       "    </tr>\n",
       "    <tr>\n",
       "      <th>14</th>\n",
       "      <td>Haunts of the Bushrangers</td>\n",
       "      <td>3.57</td>\n",
       "      <td>1</td>\n",
       "    </tr>\n",
       "    <tr>\n",
       "      <th>3</th>\n",
       "      <td>Abraham</td>\n",
       "      <td>3.67</td>\n",
       "      <td>1</td>\n",
       "    </tr>\n",
       "    <tr>\n",
       "      <th>37</th>\n",
       "      <td>The Wapshot Chronicle</td>\n",
       "      <td>3.75</td>\n",
       "      <td>1</td>\n",
       "    </tr>\n",
       "    <tr>\n",
       "      <th>35</th>\n",
       "      <td>The Ten Thousand: A Novel of Ancient Greece</td>\n",
       "      <td>3.79</td>\n",
       "      <td>1</td>\n",
       "    </tr>\n",
       "    <tr>\n",
       "      <th>12</th>\n",
       "      <td>Everyday Greatness: Inspiration for a Meaningf...</td>\n",
       "      <td>3.88</td>\n",
       "      <td>1</td>\n",
       "    </tr>\n",
       "    <tr>\n",
       "      <th>19</th>\n",
       "      <td>Look Homeward, Angel</td>\n",
       "      <td>3.90</td>\n",
       "      <td>1</td>\n",
       "    </tr>\n",
       "  </tbody>\n",
       "</table>\n",
       "</div>"
      ],
      "text/plain": [
       "                                                Title  mean_score  count\n",
       "10  Elementary Differential Equations and Boundary...        3.02      1\n",
       "31                           The Geographer's Library        3.06      1\n",
       "21                              Member of the Wedding        3.28      1\n",
       "26                         Splinter of the Mind's Eye        3.50      1\n",
       "14                          Haunts of the Bushrangers        3.57      1\n",
       "3                                             Abraham        3.67      1\n",
       "37                              The Wapshot Chronicle        3.75      1\n",
       "35        The Ten Thousand: A Novel of Ancient Greece        3.79      1\n",
       "12  Everyday Greatness: Inspiration for a Meaningf...        3.88      1\n",
       "19                               Look Homeward, Angel        3.90      1"
      ]
     },
     "execution_count": 46,
     "metadata": {},
     "output_type": "execute_result"
    }
   ],
   "source": [
    "result3 = bd[['Title', 'score']].groupby('Title').agg(\n",
    "    mean_score=('score', 'mean'),\n",
    "    count=('Title', 'size')\n",
    ").reset_index()\n",
    "\n",
    "result3 = result3.sort_values(by=['mean_score', 'count'], ascending=[True, False])\n",
    "result3.head(10)"
   ]
  },
  {
   "cell_type": "code",
   "execution_count": 50,
   "metadata": {},
   "outputs": [
    {
     "data": {
      "text/html": [
       "<div>\n",
       "<style scoped>\n",
       "    .dataframe tbody tr th:only-of-type {\n",
       "        vertical-align: middle;\n",
       "    }\n",
       "\n",
       "    .dataframe tbody tr th {\n",
       "        vertical-align: top;\n",
       "    }\n",
       "\n",
       "    .dataframe thead th {\n",
       "        text-align: right;\n",
       "    }\n",
       "</style>\n",
       "<table border=\"1\" class=\"dataframe\">\n",
       "  <thead>\n",
       "    <tr style=\"text-align: right;\">\n",
       "      <th></th>\n",
       "      <th>Title</th>\n",
       "      <th>mean_score</th>\n",
       "      <th>count</th>\n",
       "    </tr>\n",
       "  </thead>\n",
       "  <tbody>\n",
       "    <tr>\n",
       "      <th>2</th>\n",
       "      <td>A Searching Heart (Prairie Legacy Series #2)</td>\n",
       "      <td>4.80</td>\n",
       "      <td>1</td>\n",
       "    </tr>\n",
       "    <tr>\n",
       "      <th>16</th>\n",
       "      <td>Joni</td>\n",
       "      <td>4.68</td>\n",
       "      <td>1</td>\n",
       "    </tr>\n",
       "    <tr>\n",
       "      <th>6</th>\n",
       "      <td>Christianity and liberalism</td>\n",
       "      <td>4.66</td>\n",
       "      <td>1</td>\n",
       "    </tr>\n",
       "    <tr>\n",
       "      <th>7</th>\n",
       "      <td>Constitutional Law: Principles and Policies (A...</td>\n",
       "      <td>4.62</td>\n",
       "      <td>1</td>\n",
       "    </tr>\n",
       "    <tr>\n",
       "      <th>24</th>\n",
       "      <td>Population: 485 : Meeting Your Neighbors One S...</td>\n",
       "      <td>4.62</td>\n",
       "      <td>1</td>\n",
       "    </tr>\n",
       "    <tr>\n",
       "      <th>25</th>\n",
       "      <td>Ramona the pest</td>\n",
       "      <td>4.61</td>\n",
       "      <td>1</td>\n",
       "    </tr>\n",
       "    <tr>\n",
       "      <th>17</th>\n",
       "      <td>Judas Child</td>\n",
       "      <td>4.58</td>\n",
       "      <td>1</td>\n",
       "    </tr>\n",
       "    <tr>\n",
       "      <th>22</th>\n",
       "      <td>More Wealth Without Risk</td>\n",
       "      <td>4.57</td>\n",
       "      <td>1</td>\n",
       "    </tr>\n",
       "    <tr>\n",
       "      <th>4</th>\n",
       "      <td>Adobe Photoshop CS2 One-On-One</td>\n",
       "      <td>4.56</td>\n",
       "      <td>1</td>\n",
       "    </tr>\n",
       "    <tr>\n",
       "      <th>5</th>\n",
       "      <td>Alaska (Turtleback School &amp; Library Binding Ed...</td>\n",
       "      <td>4.54</td>\n",
       "      <td>1</td>\n",
       "    </tr>\n",
       "  </tbody>\n",
       "</table>\n",
       "</div>"
      ],
      "text/plain": [
       "                                                Title  mean_score  count\n",
       "2        A Searching Heart (Prairie Legacy Series #2)        4.80      1\n",
       "16                                               Joni        4.68      1\n",
       "6                         Christianity and liberalism        4.66      1\n",
       "7   Constitutional Law: Principles and Policies (A...        4.62      1\n",
       "24  Population: 485 : Meeting Your Neighbors One S...        4.62      1\n",
       "25                                    Ramona the pest        4.61      1\n",
       "17                                        Judas Child        4.58      1\n",
       "22                           More Wealth Without Risk        4.57      1\n",
       "4                      Adobe Photoshop CS2 One-On-One        4.56      1\n",
       "5   Alaska (Turtleback School & Library Binding Ed...        4.54      1"
      ]
     },
     "execution_count": 50,
     "metadata": {},
     "output_type": "execute_result"
    }
   ],
   "source": [
    "result4 = bd[['Title', 'score']].groupby('Title').agg(\n",
    "    mean_score=('score', 'mean'),\n",
    "    count=('Title', 'size')\n",
    ").reset_index()\n",
    "\n",
    "result4 = result4.sort_values(by=['mean_score', 'count'], ascending=[False, False])\n",
    "result4.head(10)"
   ]
  }
 ],
 "metadata": {
  "kernelspec": {
   "display_name": "Python310",
   "language": "python",
   "name": "python3"
  },
  "language_info": {
   "codemirror_mode": {
    "name": "ipython",
    "version": 3
   },
   "file_extension": ".py",
   "mimetype": "text/x-python",
   "name": "python",
   "nbconvert_exporter": "python",
   "pygments_lexer": "ipython3",
   "version": "3.10.4"
  },
  "orig_nbformat": 4
 },
 "nbformat": 4,
 "nbformat_minor": 2
}
