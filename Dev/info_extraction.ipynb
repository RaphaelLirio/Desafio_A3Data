{
 "cells": [
  {
   "cell_type": "markdown",
   "metadata": {},
   "source": [
    "## <span style=\"color:yellow; font-weight:bold; font-family:Times, sans-serif\">Library Seekers</span>\n",
    "\n",
    "#### <span style=\"color:yellow; font-weight:bold; font-family:Times, sans-serif\">Introdução</span>\n",
    "\n",
    "Neste Jupyter Notebook, o objetivo foi extrair informações das bases tratadas anteriormente, elencando os leitores mais significativos para as regras de negócio escolhidas. Aqui fica livre para explorar diferentes perfis de leitores, aqueles mais rápidos na leitura, os que mais constroem comentários, e assim por diante. Para que a empresa, caso queira, identifique os mais relevantes, podendo estabelecer parcerias ou algo que possa ser usado para o marketing de determinado livro, por exemplo.\n",
    "\n",
    "#### <span style=\"color:yellow; font-weight:bold; font-family:Times, sans-serif\">Instalação</span>\n",
    "Para executar este notebook, você precisará das seguintes bibliotecas e dependências:\n",
    "\n",
    "```python\n",
    "!pip install pandas\n",
    "!pip install txtai"
   ]
  },
  {
   "cell_type": "markdown",
   "metadata": {},
   "source": [
    "### 1.0 - Importações e configurações"
   ]
  },
  {
   "cell_type": "code",
   "execution_count": 7,
   "metadata": {},
   "outputs": [],
   "source": [
    "import pandas as pd\n",
    "from txtai.embeddings import Embeddings\n",
    "from txtai.pipeline import Extractor"
   ]
  },
  {
   "cell_type": "code",
   "execution_count": 8,
   "metadata": {},
   "outputs": [],
   "source": [
    "pd.set_option('display.max_rows', None)\n",
    "pd.set_option('display.max_columns', None)"
   ]
  },
  {
   "cell_type": "markdown",
   "metadata": {},
   "source": [
    "### 2.0 - Bases"
   ]
  },
  {
   "cell_type": "code",
   "execution_count": 9,
   "metadata": {},
   "outputs": [],
   "source": [
    "bd = pd.read_parquet(r'..\\\\..\\\\Desafio_A3Data\\\\Databases\\\\work_books_data.parquet', engine='pyarrow')\n",
    "br = pd.read_parquet(r'..\\\\..\\\\Desafio_A3Data\\\\Databases\\\\work_books_rating.parquet', engine='pyarrow')"
   ]
  },
  {
   "cell_type": "code",
   "execution_count": 18,
   "metadata": {},
   "outputs": [
    {
     "name": "stdout",
     "output_type": "stream",
     "text": [
      "(38, 17)\n"
     ]
    },
    {
     "data": {
      "text/html": [
       "<div>\n",
       "<style scoped>\n",
       "    .dataframe tbody tr th:only-of-type {\n",
       "        vertical-align: middle;\n",
       "    }\n",
       "\n",
       "    .dataframe tbody tr th {\n",
       "        vertical-align: top;\n",
       "    }\n",
       "\n",
       "    .dataframe thead th {\n",
       "        text-align: right;\n",
       "    }\n",
       "</style>\n",
       "<table border=\"1\" class=\"dataframe\">\n",
       "  <thead>\n",
       "    <tr style=\"text-align: right;\">\n",
       "      <th></th>\n",
       "      <th>Title</th>\n",
       "      <th>description</th>\n",
       "      <th>authors</th>\n",
       "      <th>image</th>\n",
       "      <th>previewLink</th>\n",
       "      <th>publisher</th>\n",
       "      <th>publishedDate</th>\n",
       "      <th>infoLink</th>\n",
       "      <th>categories</th>\n",
       "      <th>ratingsCount</th>\n",
       "      <th>Price</th>\n",
       "      <th>score</th>\n",
       "      <th>time</th>\n",
       "      <th>readersRatings</th>\n",
       "      <th>totalRatings</th>\n",
       "      <th>summaryDescription</th>\n",
       "      <th>combined</th>\n",
       "    </tr>\n",
       "  </thead>\n",
       "  <tbody>\n",
       "    <tr>\n",
       "      <th>4553</th>\n",
       "      <td>Death in the Afternoon</td>\n",
       "      <td>Still considered one of the best books ever wr...</td>\n",
       "      <td>Ernest Hemingway</td>\n",
       "      <td>http://books.google.com/books/content?id=AdFQA...</td>\n",
       "      <td>http://books.google.nl/books?id=AdFQAQAAQBAJ&amp;p...</td>\n",
       "      <td>Simon and Schuster</td>\n",
       "      <td>2014</td>\n",
       "      <td>https://play.google.com/store/books/details?id...</td>\n",
       "      <td>Literary Criticism</td>\n",
       "      <td>9.0</td>\n",
       "      <td>NaN</td>\n",
       "      <td>3.96</td>\n",
       "      <td>308.96400</td>\n",
       "      <td>100</td>\n",
       "      <td>109.0</td>\n",
       "      <td>Death in the Afternoon is an impassioned look ...</td>\n",
       "      <td>Death in the Afternoon; Still considered one o...</td>\n",
       "    </tr>\n",
       "    <tr>\n",
       "      <th>9230</th>\n",
       "      <td>The Geographer's Library</td>\n",
       "      <td>Item 1: An alembic is the top part of an appar...</td>\n",
       "      <td>Jon Fasman</td>\n",
       "      <td>http://books.google.com/books/content?id=H5ogA...</td>\n",
       "      <td>http://books.google.nl/books?id=H5ogAQAAIAAJ&amp;q...</td>\n",
       "      <td>Penguin Press HC</td>\n",
       "      <td>2005</td>\n",
       "      <td>http://books.google.nl/books?id=H5ogAQAAIAAJ&amp;d...</td>\n",
       "      <td>Fiction</td>\n",
       "      <td>33.0</td>\n",
       "      <td>NaN</td>\n",
       "      <td>3.06</td>\n",
       "      <td>324.26232</td>\n",
       "      <td>100</td>\n",
       "      <td>133.0</td>\n",
       "      <td>Item 1: An alembic is the top part of an appar...</td>\n",
       "      <td>The Geographer's Library; Item 1: An alembic i...</td>\n",
       "    </tr>\n",
       "  </tbody>\n",
       "</table>\n",
       "</div>"
      ],
      "text/plain": [
       "                         Title  \\\n",
       "4553    Death in the Afternoon   \n",
       "9230  The Geographer's Library   \n",
       "\n",
       "                                            description           authors  \\\n",
       "4553  Still considered one of the best books ever wr...  Ernest Hemingway   \n",
       "9230  Item 1: An alembic is the top part of an appar...        Jon Fasman   \n",
       "\n",
       "                                                  image  \\\n",
       "4553  http://books.google.com/books/content?id=AdFQA...   \n",
       "9230  http://books.google.com/books/content?id=H5ogA...   \n",
       "\n",
       "                                            previewLink           publisher  \\\n",
       "4553  http://books.google.nl/books?id=AdFQAQAAQBAJ&p...  Simon and Schuster   \n",
       "9230  http://books.google.nl/books?id=H5ogAQAAIAAJ&q...    Penguin Press HC   \n",
       "\n",
       "     publishedDate                                           infoLink  \\\n",
       "4553          2014  https://play.google.com/store/books/details?id...   \n",
       "9230          2005  http://books.google.nl/books?id=H5ogAQAAIAAJ&d...   \n",
       "\n",
       "              categories  ratingsCount  Price  score       time  \\\n",
       "4553  Literary Criticism           9.0    NaN   3.96  308.96400   \n",
       "9230             Fiction          33.0    NaN   3.06  324.26232   \n",
       "\n",
       "      readersRatings  totalRatings  \\\n",
       "4553             100         109.0   \n",
       "9230             100         133.0   \n",
       "\n",
       "                                     summaryDescription  \\\n",
       "4553  Death in the Afternoon is an impassioned look ...   \n",
       "9230  Item 1: An alembic is the top part of an appar...   \n",
       "\n",
       "                                               combined  \n",
       "4553  Death in the Afternoon; Still considered one o...  \n",
       "9230  The Geographer's Library; Item 1: An alembic i...  "
      ]
     },
     "execution_count": 18,
     "metadata": {},
     "output_type": "execute_result"
    }
   ],
   "source": [
    "print(bd.shape)\n",
    "bd.head(2)"
   ]
  },
  {
   "cell_type": "code",
   "execution_count": 11,
   "metadata": {},
   "outputs": [
    {
     "name": "stdout",
     "output_type": "stream",
     "text": [
      "(3800, 13)\n"
     ]
    },
    {
     "data": {
      "text/html": [
       "<div>\n",
       "<style scoped>\n",
       "    .dataframe tbody tr th:only-of-type {\n",
       "        vertical-align: middle;\n",
       "    }\n",
       "\n",
       "    .dataframe tbody tr th {\n",
       "        vertical-align: top;\n",
       "    }\n",
       "\n",
       "    .dataframe thead th {\n",
       "        text-align: right;\n",
       "    }\n",
       "</style>\n",
       "<table border=\"1\" class=\"dataframe\">\n",
       "  <thead>\n",
       "    <tr style=\"text-align: right;\">\n",
       "      <th></th>\n",
       "      <th>Id</th>\n",
       "      <th>Title</th>\n",
       "      <th>Price</th>\n",
       "      <th>User_id</th>\n",
       "      <th>profileName</th>\n",
       "      <th>score</th>\n",
       "      <th>time</th>\n",
       "      <th>summary</th>\n",
       "      <th>text</th>\n",
       "      <th>summary_posit_score</th>\n",
       "      <th>summary_neut_score</th>\n",
       "      <th>summary_neg_score</th>\n",
       "      <th>summary_score</th>\n",
       "    </tr>\n",
       "  </thead>\n",
       "  <tbody>\n",
       "    <tr>\n",
       "      <th>66533</th>\n",
       "      <td>B000JWW1UG</td>\n",
       "      <td>Death in the Afternoon</td>\n",
       "      <td>NaN</td>\n",
       "      <td>A1ZA12IECEKIY</td>\n",
       "      <td>Mark Cohen</td>\n",
       "      <td>4.0</td>\n",
       "      <td>376.68</td>\n",
       "      <td>Man vs Beast and the Birth of Civilization</td>\n",
       "      <td>Bullfighting was born in Spain many centuries ...</td>\n",
       "      <td>0.531892</td>\n",
       "      <td>0.185069</td>\n",
       "      <td>0.283039</td>\n",
       "      <td>positivo</td>\n",
       "    </tr>\n",
       "    <tr>\n",
       "      <th>66534</th>\n",
       "      <td>B000JWW1UG</td>\n",
       "      <td>Death in the Afternoon</td>\n",
       "      <td>NaN</td>\n",
       "      <td>A2UO3C0HLKCZ4F</td>\n",
       "      <td>R. Huitron</td>\n",
       "      <td>4.0</td>\n",
       "      <td>376.32</td>\n",
       "      <td>if one is born outside of bullfighting culture...</td>\n",
       "      <td>A lot of times people end up hating something ...</td>\n",
       "      <td>0.190422</td>\n",
       "      <td>0.166635</td>\n",
       "      <td>0.642942</td>\n",
       "      <td>negativo</td>\n",
       "    </tr>\n",
       "  </tbody>\n",
       "</table>\n",
       "</div>"
      ],
      "text/plain": [
       "               Id                   Title  Price         User_id profileName  \\\n",
       "66533  B000JWW1UG  Death in the Afternoon    NaN   A1ZA12IECEKIY  Mark Cohen   \n",
       "66534  B000JWW1UG  Death in the Afternoon    NaN  A2UO3C0HLKCZ4F  R. Huitron   \n",
       "\n",
       "       score    time                                            summary  \\\n",
       "66533    4.0  376.68         Man vs Beast and the Birth of Civilization   \n",
       "66534    4.0  376.32  if one is born outside of bullfighting culture...   \n",
       "\n",
       "                                                    text  summary_posit_score  \\\n",
       "66533  Bullfighting was born in Spain many centuries ...             0.531892   \n",
       "66534  A lot of times people end up hating something ...             0.190422   \n",
       "\n",
       "       summary_neut_score  summary_neg_score summary_score  \n",
       "66533            0.185069           0.283039      positivo  \n",
       "66534            0.166635           0.642942      negativo  "
      ]
     },
     "execution_count": 11,
     "metadata": {},
     "output_type": "execute_result"
    }
   ],
   "source": [
    "print(br.shape)\n",
    "br.head(2)"
   ]
  },
  {
   "cell_type": "markdown",
   "metadata": {},
   "source": [
    "### 3.0 - Desenvolvimento"
   ]
  },
  {
   "cell_type": "code",
   "execution_count": 46,
   "metadata": {},
   "outputs": [],
   "source": [
    "#Variável criada para ser usada como \"database\" do Q&A\n",
    "bd['combined'] = bd[['Title', 'description', 'categories']].agg(lambda x: '; '.join(filter(None, x)), axis=1)"
   ]
  },
  {
   "cell_type": "code",
   "execution_count": 59,
   "metadata": {},
   "outputs": [
    {
     "data": {
      "text/html": [
       "<div>\n",
       "<style scoped>\n",
       "    .dataframe tbody tr th:only-of-type {\n",
       "        vertical-align: middle;\n",
       "    }\n",
       "\n",
       "    .dataframe tbody tr th {\n",
       "        vertical-align: top;\n",
       "    }\n",
       "\n",
       "    .dataframe thead th {\n",
       "        text-align: right;\n",
       "    }\n",
       "</style>\n",
       "<table border=\"1\" class=\"dataframe\">\n",
       "  <thead>\n",
       "    <tr style=\"text-align: right;\">\n",
       "      <th></th>\n",
       "      <th>User_id</th>\n",
       "      <th>score</th>\n",
       "      <th>time</th>\n",
       "      <th>negative_count</th>\n",
       "      <th>positive_count</th>\n",
       "      <th>total_count</th>\n",
       "    </tr>\n",
       "  </thead>\n",
       "  <tbody>\n",
       "    <tr>\n",
       "      <th>0</th>\n",
       "      <td>A08561391R9ZTNTDI35MO</td>\n",
       "      <td>5.0</td>\n",
       "      <td>377.040</td>\n",
       "      <td>0</td>\n",
       "      <td>1</td>\n",
       "      <td>1</td>\n",
       "    </tr>\n",
       "    <tr>\n",
       "      <th>1</th>\n",
       "      <td>A103U0Q3IKSXHE</td>\n",
       "      <td>4.0</td>\n",
       "      <td>263.640</td>\n",
       "      <td>0</td>\n",
       "      <td>1</td>\n",
       "      <td>1</td>\n",
       "    </tr>\n",
       "    <tr>\n",
       "      <th>2</th>\n",
       "      <td>A107C4RVRF0OP</td>\n",
       "      <td>4.0</td>\n",
       "      <td>264.288</td>\n",
       "      <td>0</td>\n",
       "      <td>1</td>\n",
       "      <td>1</td>\n",
       "    </tr>\n",
       "    <tr>\n",
       "      <th>3</th>\n",
       "      <td>A10ALALG39VWNJ</td>\n",
       "      <td>5.0</td>\n",
       "      <td>254.376</td>\n",
       "      <td>0</td>\n",
       "      <td>1</td>\n",
       "      <td>1</td>\n",
       "    </tr>\n",
       "    <tr>\n",
       "      <th>4</th>\n",
       "      <td>A10BG7HG8422UK</td>\n",
       "      <td>5.0</td>\n",
       "      <td>367.344</td>\n",
       "      <td>0</td>\n",
       "      <td>2</td>\n",
       "      <td>2</td>\n",
       "    </tr>\n",
       "  </tbody>\n",
       "</table>\n",
       "</div>"
      ],
      "text/plain": [
       "                 User_id  score     time  negative_count  positive_count  \\\n",
       "0  A08561391R9ZTNTDI35MO    5.0  377.040               0               1   \n",
       "1         A103U0Q3IKSXHE    4.0  263.640               0               1   \n",
       "2          A107C4RVRF0OP    4.0  264.288               0               1   \n",
       "3         A10ALALG39VWNJ    5.0  254.376               0               1   \n",
       "4         A10BG7HG8422UK    5.0  367.344               0               2   \n",
       "\n",
       "   total_count  \n",
       "0            1  \n",
       "1            1  \n",
       "2            1  \n",
       "3            1  \n",
       "4            2  "
      ]
     },
     "execution_count": 59,
     "metadata": {},
     "output_type": "execute_result"
    }
   ],
   "source": [
    "# Cálculo das médias de 'score' e 'time'\n",
    "mean_br = br.groupby('User_id').agg({'score': 'mean', 'time': 'mean'}).reset_index()\n",
    "\n",
    "# Contagem de 'positivo' e 'negativo' em 'summary_score'\n",
    "count_br = br.groupby(['User_id', 'summary_score']).size().unstack(fill_value=0).reset_index()\n",
    "\n",
    "# Renomeando as colunas para uma leitura mais fácil\n",
    "count_br.columns.name = None\n",
    "count_br = count_br.rename(columns={'positivo': 'positive_count', 'negativo': 'negative_count'})\n",
    "\n",
    "# Juntando os dois DataFrames\n",
    "result_br = pd.merge(mean_br, count_br, on='User_id')\n",
    "\n",
    "#Obtendo quantidade total de avaliações por leitor\n",
    "result_br['total_count'] = result_br['negative_count'] + result_br['positive_count'] \n",
    "\n",
    "result_br.head()"
   ]
  },
  {
   "cell_type": "code",
   "execution_count": 13,
   "metadata": {},
   "outputs": [],
   "source": [
    "#Esses dataframes foram criados para as célular abaixo, trazendo os leitores mais significativos de acordo com as regras escolhidas\n",
    "sortByEvaluations = result_br.sort_values(by='total_count', ascending=False)\n",
    "sortByReadingTime = result_br.sort_values(by='time', ascending=True)\n",
    "sortByScore = result_br.sort_values(by='score', ascending=False)"
   ]
  },
  {
   "cell_type": "code",
   "execution_count": 14,
   "metadata": {},
   "outputs": [],
   "source": [
    "#Função usada para obter os nomes dos leitores e os respectivos livros lidos por eles\n",
    "def get_readers(selected_dataset):\n",
    "    readers = selected_dataset.merge(br[['User_id', 'profileName', 'Title']], on='User_id', how='inner')\n",
    "    grouped_readers = readers[['User_id', 'profileName', 'Title']].groupby(['User_id', 'profileName'])['Title'].apply(lambda x: '; '.join(set(x))).reset_index()\n",
    "    \n",
    "    return grouped_readers\n"
   ]
  },
  {
   "cell_type": "code",
   "execution_count": 242,
   "metadata": {},
   "outputs": [
    {
     "data": {
      "text/html": [
       "<div>\n",
       "<style scoped>\n",
       "    .dataframe tbody tr th:only-of-type {\n",
       "        vertical-align: middle;\n",
       "    }\n",
       "\n",
       "    .dataframe tbody tr th {\n",
       "        vertical-align: top;\n",
       "    }\n",
       "\n",
       "    .dataframe thead th {\n",
       "        text-align: right;\n",
       "    }\n",
       "</style>\n",
       "<table border=\"1\" class=\"dataframe\">\n",
       "  <thead>\n",
       "    <tr style=\"text-align: right;\">\n",
       "      <th></th>\n",
       "      <th>User_id</th>\n",
       "      <th>profileName</th>\n",
       "      <th>Title</th>\n",
       "    </tr>\n",
       "  </thead>\n",
       "  <tbody>\n",
       "    <tr>\n",
       "      <th>0</th>\n",
       "      <td>A114YQ7ZT9Y1W5</td>\n",
       "      <td>Steiner</td>\n",
       "      <td>Death in the Afternoon; The Wapshot Chronicle</td>\n",
       "    </tr>\n",
       "    <tr>\n",
       "      <th>1</th>\n",
       "      <td>A1K1JW1C5CUSUZ</td>\n",
       "      <td>Donald Mitchell \"Jesus Loves You!\"</td>\n",
       "      <td>Death in the Afternoon; The Wapshot Chronicle</td>\n",
       "    </tr>\n",
       "    <tr>\n",
       "      <th>2</th>\n",
       "      <td>A1L43KWWR05PCS</td>\n",
       "      <td>Lawyeraau</td>\n",
       "      <td>Don't Pee on My Leg and Tell Me It's Raining: ...</td>\n",
       "    </tr>\n",
       "    <tr>\n",
       "      <th>3</th>\n",
       "      <td>A2AYSFGUP5VTY3</td>\n",
       "      <td>J. Smallridge</td>\n",
       "      <td>The Wapshot Chronicle; Member of the Wedding; ...</td>\n",
       "    </tr>\n",
       "    <tr>\n",
       "      <th>4</th>\n",
       "      <td>AA0BB36HOBYLC</td>\n",
       "      <td>Deborah Dieleman \"Jen D\"</td>\n",
       "      <td>A Searching Heart (Prairie Legacy Series #2); ...</td>\n",
       "    </tr>\n",
       "    <tr>\n",
       "      <th>5</th>\n",
       "      <td>ATTLUK81FJVJ3</td>\n",
       "      <td>Tom Bruce</td>\n",
       "      <td>Look Homeward, Angel; The Wapshot Chronicle; M...</td>\n",
       "    </tr>\n",
       "  </tbody>\n",
       "</table>\n",
       "</div>"
      ],
      "text/plain": [
       "          User_id                         profileName  \\\n",
       "0  A114YQ7ZT9Y1W5                             Steiner   \n",
       "1  A1K1JW1C5CUSUZ  Donald Mitchell \"Jesus Loves You!\"   \n",
       "2  A1L43KWWR05PCS                           Lawyeraau   \n",
       "3  A2AYSFGUP5VTY3                       J. Smallridge   \n",
       "4   AA0BB36HOBYLC            Deborah Dieleman \"Jen D\"   \n",
       "5   ATTLUK81FJVJ3                           Tom Bruce   \n",
       "\n",
       "                                               Title  \n",
       "0      Death in the Afternoon; The Wapshot Chronicle  \n",
       "1      Death in the Afternoon; The Wapshot Chronicle  \n",
       "2  Don't Pee on My Leg and Tell Me It's Raining: ...  \n",
       "3  The Wapshot Chronicle; Member of the Wedding; ...  \n",
       "4  A Searching Heart (Prairie Legacy Series #2); ...  \n",
       "5  Look Homeward, Angel; The Wapshot Chronicle; M...  "
      ]
     },
     "execution_count": 242,
     "metadata": {},
     "output_type": "execute_result"
    }
   ],
   "source": [
    "#Leitores que mais avaliam\n",
    "trashold = 5\n",
    "selected = sortByEvaluations[sortByEvaluations['total_count'] >= trashold][:10]\n",
    "readers = get_readers(selected)\n",
    "readers"
   ]
  },
  {
   "cell_type": "code",
   "execution_count": 243,
   "metadata": {},
   "outputs": [],
   "source": [
    "readers.to_parquet(r'..\\\\..\\\\Desafio_A3Data\\\\Databases\\\\top_avaliadores_maio.parquet', engine='pyarrow')"
   ]
  },
  {
   "cell_type": "code",
   "execution_count": 244,
   "metadata": {},
   "outputs": [
    {
     "data": {
      "text/html": [
       "<div>\n",
       "<style scoped>\n",
       "    .dataframe tbody tr th:only-of-type {\n",
       "        vertical-align: middle;\n",
       "    }\n",
       "\n",
       "    .dataframe tbody tr th {\n",
       "        vertical-align: top;\n",
       "    }\n",
       "\n",
       "    .dataframe thead th {\n",
       "        text-align: right;\n",
       "    }\n",
       "</style>\n",
       "<table border=\"1\" class=\"dataframe\">\n",
       "  <thead>\n",
       "    <tr style=\"text-align: right;\">\n",
       "      <th></th>\n",
       "      <th>User_id</th>\n",
       "      <th>profileName</th>\n",
       "      <th>Title</th>\n",
       "    </tr>\n",
       "  </thead>\n",
       "  <tbody>\n",
       "    <tr>\n",
       "      <th>0</th>\n",
       "      <td>A13O378B1DOMAT</td>\n",
       "      <td>vida@sat.net</td>\n",
       "      <td>LifeSupport</td>\n",
       "    </tr>\n",
       "    <tr>\n",
       "      <th>1</th>\n",
       "      <td>A1PS66N855AO4D</td>\n",
       "      <td>cdunigan@hotmail.com</td>\n",
       "      <td>Joni</td>\n",
       "    </tr>\n",
       "    <tr>\n",
       "      <th>2</th>\n",
       "      <td>A1XORYSYC1UFVS</td>\n",
       "      <td>JackRyan82@aol.com</td>\n",
       "      <td>Don't Pee on My Leg and Tell Me It's Raining: ...</td>\n",
       "    </tr>\n",
       "    <tr>\n",
       "      <th>3</th>\n",
       "      <td>A1Y8AZD329JVMX</td>\n",
       "      <td>ttaylor@truman.edu</td>\n",
       "      <td>Look Homeward, Angel</td>\n",
       "    </tr>\n",
       "    <tr>\n",
       "      <th>4</th>\n",
       "      <td>A207HBXLAPVVOV</td>\n",
       "      <td>grace1965@webtv.net</td>\n",
       "      <td>Ramona the pest</td>\n",
       "    </tr>\n",
       "    <tr>\n",
       "      <th>5</th>\n",
       "      <td>A2GAC1FNBTWELF</td>\n",
       "      <td>a_patton@rocketmail.com</td>\n",
       "      <td>LifeSupport</td>\n",
       "    </tr>\n",
       "    <tr>\n",
       "      <th>6</th>\n",
       "      <td>A2LYQ67O4B01QD</td>\n",
       "      <td>Kathleen T. Choi</td>\n",
       "      <td>LifeSupport</td>\n",
       "    </tr>\n",
       "    <tr>\n",
       "      <th>7</th>\n",
       "      <td>A2S7H7Y07NOPE2</td>\n",
       "      <td>kk@interport.net</td>\n",
       "      <td>A Death In The Family</td>\n",
       "    </tr>\n",
       "    <tr>\n",
       "      <th>8</th>\n",
       "      <td>A35BFOXTB2D1E6</td>\n",
       "      <td>cuiry@bigfoot.com</td>\n",
       "      <td>Don't Pee on My Leg and Tell Me It's Raining: ...</td>\n",
       "    </tr>\n",
       "    <tr>\n",
       "      <th>9</th>\n",
       "      <td>A35T17R6UPKHQ8</td>\n",
       "      <td>jonath38@wharton.upenn.edu</td>\n",
       "      <td>Don't Pee on My Leg and Tell Me It's Raining: ...</td>\n",
       "    </tr>\n",
       "  </tbody>\n",
       "</table>\n",
       "</div>"
      ],
      "text/plain": [
       "          User_id                 profileName  \\\n",
       "0  A13O378B1DOMAT                vida@sat.net   \n",
       "1  A1PS66N855AO4D        cdunigan@hotmail.com   \n",
       "2  A1XORYSYC1UFVS          JackRyan82@aol.com   \n",
       "3  A1Y8AZD329JVMX          ttaylor@truman.edu   \n",
       "4  A207HBXLAPVVOV         grace1965@webtv.net   \n",
       "5  A2GAC1FNBTWELF     a_patton@rocketmail.com   \n",
       "6  A2LYQ67O4B01QD            Kathleen T. Choi   \n",
       "7  A2S7H7Y07NOPE2            kk@interport.net   \n",
       "8  A35BFOXTB2D1E6           cuiry@bigfoot.com   \n",
       "9  A35T17R6UPKHQ8  jonath38@wharton.upenn.edu   \n",
       "\n",
       "                                               Title  \n",
       "0                                        LifeSupport  \n",
       "1                                               Joni  \n",
       "2  Don't Pee on My Leg and Tell Me It's Raining: ...  \n",
       "3                               Look Homeward, Angel  \n",
       "4                                    Ramona the pest  \n",
       "5                                        LifeSupport  \n",
       "6                                        LifeSupport  \n",
       "7                              A Death In The Family  \n",
       "8  Don't Pee on My Leg and Tell Me It's Raining: ...  \n",
       "9  Don't Pee on My Leg and Tell Me It's Raining: ...  "
      ]
     },
     "execution_count": 244,
     "metadata": {},
     "output_type": "execute_result"
    }
   ],
   "source": [
    "#Leitores mais rápidos na leitura\n",
    "trashold = 250\n",
    "selected = sortByReadingTime[sortByReadingTime['time'] <= trashold][:10]\n",
    "readers = get_readers(selected)\n",
    "readers"
   ]
  },
  {
   "cell_type": "code",
   "execution_count": 245,
   "metadata": {},
   "outputs": [],
   "source": [
    "readers.to_parquet(r'..\\\\..\\\\Desafio_A3Data\\\\Databases\\\\top_velozes_maio.parquet', engine='pyarrow')"
   ]
  },
  {
   "cell_type": "code",
   "execution_count": 246,
   "metadata": {},
   "outputs": [
    {
     "data": {
      "text/html": [
       "<div>\n",
       "<style scoped>\n",
       "    .dataframe tbody tr th:only-of-type {\n",
       "        vertical-align: middle;\n",
       "    }\n",
       "\n",
       "    .dataframe tbody tr th {\n",
       "        vertical-align: top;\n",
       "    }\n",
       "\n",
       "    .dataframe thead th {\n",
       "        text-align: right;\n",
       "    }\n",
       "</style>\n",
       "<table border=\"1\" class=\"dataframe\">\n",
       "  <thead>\n",
       "    <tr style=\"text-align: right;\">\n",
       "      <th></th>\n",
       "      <th>User_id</th>\n",
       "      <th>profileName</th>\n",
       "      <th>Title</th>\n",
       "    </tr>\n",
       "  </thead>\n",
       "  <tbody>\n",
       "    <tr>\n",
       "      <th>0</th>\n",
       "      <td>AA0BB36HOBYLC</td>\n",
       "      <td>Deborah Dieleman \"Jen D\"</td>\n",
       "      <td>A Searching Heart (Prairie Legacy Series #2); ...</td>\n",
       "    </tr>\n",
       "    <tr>\n",
       "      <th>1</th>\n",
       "      <td>ATTLUK81FJVJ3</td>\n",
       "      <td>Tom Bruce</td>\n",
       "      <td>Look Homeward, Angel; The Wapshot Chronicle; M...</td>\n",
       "    </tr>\n",
       "  </tbody>\n",
       "</table>\n",
       "</div>"
      ],
      "text/plain": [
       "         User_id               profileName  \\\n",
       "0  AA0BB36HOBYLC  Deborah Dieleman \"Jen D\"   \n",
       "1  ATTLUK81FJVJ3                 Tom Bruce   \n",
       "\n",
       "                                               Title  \n",
       "0  A Searching Heart (Prairie Legacy Series #2); ...  \n",
       "1  Look Homeward, Angel; The Wapshot Chronicle; M...  "
      ]
     },
     "execution_count": 246,
     "metadata": {},
     "output_type": "execute_result"
    }
   ],
   "source": [
    "#Leitores positivos com mais propriedade \n",
    "score_trashold = 5\n",
    "count_trashold = 5\n",
    "selected = sortByScore[(sortByScore['score'] >= score_trashold) & (sortByScore['total_count'] >= count_trashold)][:10]\n",
    "readers = get_readers(selected)\n",
    "readers"
   ]
  },
  {
   "cell_type": "code",
   "execution_count": 247,
   "metadata": {},
   "outputs": [],
   "source": [
    "readers.to_parquet(r'..\\\\..\\\\Desafio_A3Data\\\\Databases\\\\top_entendedores_maio.parquet', engine='pyarrow')"
   ]
  },
  {
   "cell_type": "code",
   "execution_count": 248,
   "metadata": {},
   "outputs": [
    {
     "name": "stdout",
     "output_type": "stream",
     "text": [
      "It is Wolfe's first novel, and is considered a highly autobiographical American coming-of-age story . The character of Eugene Gant is generally believed to be a depiction of Wolfe himself .\n"
     ]
    }
   ],
   "source": [
    "#Esse print traz a variável summaryDescription, que tem o objetivo de mostrar uma espécie de atrativo \n",
    "#para o leitor, a ideia aqui é usar o texto gerado para servir de input numa página web, por exemplo\n",
    "#mostrando que determinado livro aborda, em suma a informação \"x\"\n",
    "booktitle = 'Look Homeward, Angel'\n",
    "print(bd[bd['Title'] == booktitle]['summaryDescription'].iloc[0])"
   ]
  },
  {
   "cell_type": "markdown",
   "metadata": {},
   "source": [
    "### 4.0 - Q&A"
   ]
  },
  {
   "cell_type": "code",
   "execution_count": null,
   "metadata": {},
   "outputs": [],
   "source": [
    "#Modelo de embedding usado para vetorizar o texto e indexar, a fim de disponibilizá-lo para consulta\n",
    "embeddings = Embeddings({'path':'sentence-transformers/all-MiniLM-L6-v2'})\n",
    "\n",
    "#usado para extrair a informação indexada\n",
    "extractor = Extractor(embeddings, 'distilbert-base-cased-distilled-squad')"
   ]
  },
  {
   "cell_type": "code",
   "execution_count": 48,
   "metadata": {},
   "outputs": [],
   "source": [
    "ques_data = list(bd['combined'])"
   ]
  },
  {
   "cell_type": "code",
   "execution_count": 57,
   "metadata": {},
   "outputs": [
    {
     "data": {
      "text/plain": [
       "[\"Death in the Afternoon; Still considered one of the best books ever written about bullfighting, Death in the Afternoon is an impassioned look at the sport by one of its true aficionados. It reflects Hemingway's conviction that bullfighting was more than mere sport and reveals a rich source of inspiration for his art. The unrivaled drama of bullfighting, with its rigorous combination of athleticism and artistry, and its requisite display of grace under pressure, ignited Hemingway's imagination. Here he describes and explains the technical aspects of this dangerous ritual and “the emotional and spiritual intensity and pure classic beauty that can be produced by a man, an animal, and a piece of scarlet serge draped on a stick.” Seen through his eyes, bullfighting becomes a richly choreographed ballet, with performers who range from awkward amateurs to masters of great elegance and cunning. A fascinating look at the history and grandeur of bullfighting, Death in the Afternoon is also a deeper contemplation of the nature of cowardice and bravery, sport and tragedy, and is enlivened throughout by Hemingway's sharp commentary on life and literature.; Literary Criticism\",\n",
       " 'The Geographer\\'s Library; Item 1: An alembic is the top part of an apparatus used for distilling. This one is made of sturdy green glass, thirty-six centimeters tall, eighteen centimeters around at the widest point of its base. The top part of the vessel is narrow and fluted and turns sharply to the right; alembics are set over a still to collect and carry vapors to another vessel. The vessel\\'s inside bears a crust of gray material that seems to be a mixture of lead, iron, and antimony, as well as some organic matter, canine and human bones. Scorch marks are visible on the outside bottom, extending five centimeters up. No discernible odor. Date of manufacture: unknown. Estimates range from 100 b.c. to a.d. 300 Place of origin: Hellenistic Egypt. \"Alembic\" comes from the Arabic \"al-anbiq,\" which comes from the Greek \"ambix,\" meaning cup or beaker Last known owner: Woldemar LÃ¶wendahl, Danish-Estonian governor general of Tallinn. The alembic was unearthed during the construction of Kassari chapel on Kassari Island in April 1723 and brought to LÃ¶wendahl\\'s office that June. The governor general placed it on the top shelf of an unfilled bookcase in the back corner of his office and never noticed when it went missing two years, six months, and seventeen days later... When a twelfth-century Sicilian cat burglar snatches a sack of artifacts from the king\\'s geographer\\'s library, the tools and talismans of transmutation-and eternal life-are soon scattered all over the world. Nine hundred years later, a young Connecticut reporter finds evidence that someone is collecting them again. In the process of investigating the suspicious death of a local professor, Paul Tomm finds the dead man\\'s heavily fortified office stuffed with books on alchemy. The Geographer\\'s Library entwines his contemporary reporting with a chain of ancient stories-within-the-story, tracking the last time each of the geographer\\'s tools changed hands-some bought, some stolen, some killed for. The Geographer\\'s Library is an extraordinary debut, smart, stylishly written, and full of suspense. It tempts with the glitter of antiquities and hooks with a chilling plot. In this brilliant debut, competing visions of an obscure professor\\'s life take a young reporter from a sleepy New England town to the heart of an international smuggling ring that may hold the secret to eternal life.; Fiction',\n",
       " \"LifeSupport; From New York Times bestselling author Tess Gerritsen, a terrifying novel of deadly proportions as an ER doctor tries to determine the cause and cure of a fatal and mysterious virus before it becomes an epidemic. The quiet overnight shift at Springer Hospital ER suits Dr. Toby Harper just fine—until she admits a man in critical condition from a possible viral infection of the brain. The delirious man barely responds to treatment—and then disappears without a trace. Before Toby can find him, a second case occurs, revealing a terrifying fact: the virus can only be spread through direct tissue exchange. Following a trail of death that winds from a pregnant sixteen-year-old prostitute to her own home, Toby discovers the unthinkable: the epidemic didn't just happen—someone let it loose....; Fiction\",\n",
       " \"Population: 485 : Meeting Your Neighbors One Siren at a Time; Welcome to New Auburn, Wisconsin, where the local vigilante is a farmer's wife armed with a pistol and a Bible, the most senior member of the volunteer fire department is a cross-eyed butcher with one kidney and two ex-wives (both of whom work at the only gas station in town), and the back roads are haunted by the ghosts of children and farmers. Against a backdrop of fires and tangled wrecks, bar fights and smelt feeds, Population: 485 is a comic and sometimes heartbreaking true tale leavened with quieter meditations on an overlooked America.; Travel\",\n",
       " 'The Light of Western Stars; This eBook features the unabridged text of ‘The Light of Western Stars by Zane Grey - Delphi Classics (Illustrated)’ from the bestselling edition of ‘The Collected Works of Zane Grey’. Having established their name as the leading publisher of classic literature and art, Delphi Classics produce publications that are individually crafted with superior formatting, while introducing many rare texts for the first time in digital print. The Delphi Classics edition of Grey includes original annotations and illustrations relating to the life and works of the author, as well as individual tables of contents, allowing you to navigate eBooks quickly and easily. eBook features: * The complete unabridged text of ‘The Light of Western Stars by Zane Grey - Delphi Classics (Illustrated)’ * Beautifully illustrated with images related to Grey’s works * Individual contents table, allowing easy navigation around the eBook * Excellent formatting of the textPlease visit www.delphiclassics.com to learn more about our wide range of titles; Fiction',\n",
       " 'Christianity and liberalism; Presents the issue of Christianity and Liberalism in such as way that the reader may be aided in deciding it for himself. The principal concern is to show that the liberal attempt at reconciling Christianity with modern science has really relinquished everything distinctive of Christianity, so that what remains in in essentials only that same indefinite type of religious aspiration which was in the world before Christianity came upon the scene.; Christianity',\n",
       " 'Everyday Greatness: Inspiration for a Meaningful Life; Inspiring stories and practical insights challenge readers to live a life of everyday greatness. Best-selling author Stephen Covey and Reader’s Digest have joined forces to produce an extraordinary volume of inspiration, insight, and motivation to live a life of character and contribution. The timeless principles and practical wisdom along with a \"Go-Forward Plan\" challenge readers to make three important choices every day: The Choice to Act - your energy The Choice of Purpose - your destination The Choice for Principles - the means for attaining your goals Topics include: Searching for Meaning Taking Charge Starting Within Creating the Dream Teaming with Others Overcoming Adversity Blending the Pieces With stories from some of the world\\'s best known and loved writers, leaders, and celebrities, such as Maya Angelou, Jack Benny, and Henry David Thoreau, and insights and commentary from Stephen Covey, the Wrap Up and Reflections at the end of each chapter help create a project that can be used for group or personal study.; Self-Help',\n",
       " \"The Confusion (The Baroque Cycle, Vol. 2); In the year 1689, a cabal of Barbary galley slaves -- including one Jack Shaftoe, aka King of the Vagabonds, aka Half-Cocked Jack -- devises a daring plan to win freedom and fortune. A great adventure ensues -- a perilous race for an enormous prize of silver ... nay, gold ... nay, legendary gold. In Europe, the exquisite and resourceful Eliza, Countess de la Zeur, is stripped of her immense personal fortune by France's most dashing privateer. Penniless and at risk from those who desire either her or her head (or both), she is caught up in a web of international intrigue, even as she desperately seeks the return of her most precious possession. Meanwhile, Newton and Leibniz continue to propound their grand theories as their infamous rivalry intensifies, stubborn alchemy does battle with the natural sciences, dastardly plots are set in motion ... and Daniel Waterhouse seeks passage to the Massachusetts colony in hopes of escaping the madness into which his world has descended. This P.S. edition features an extra 16 pages of insights into the book, including author interviews, recommended reading, and more.; Fiction\",\n",
       " 'Judas Child; It is three days before Christmas, and two young girls have disappeared from the local academy. This hasn’t happened for fifteen years, since Rouge Kendall’s twin sister was murdered. The killer was found, but now Rouge, twenty-five and a policeman, is forced to wonder: Was he really the one? Also wondering is a former classmate named Ali Cray, a forensic psychologist with scars of her own. The pattern is the same, she says: a child called out to meet a friend. The friend is the bait, the Judas child, and is quickly killed. But the primary victim lives longer...until Christmas Day. Rouge doesn’t want to hear this. He’s spent the last fifteen years trying to avoid the memories: drinking alone, lying low, washing out of school and a promising first career. Now he might abandon law enforcement too—but something won’t let him, not yet. A little girl has haunted his dreams all these years—and he has three days finally to put her to rest.; Fiction',\n",
       " \"The Law of Success, in Sixteen Lessons; The Law of Success was a precursor to Napoleon Hill's Think and Grow Rich. Hill was well known for researching what made millionaires different from the common man. The sixteen lessons in this book perfectly crystallize everything you will need to know to succeed during these hard economic times. Many of today's best known self help books take there core concepts form this book. The Secret, the Power of Positive Thinking, the Millionaire next door, and The Law of Attraction all take their basic premises from this landmark work. Now you can get it from the source. Once you've read this book you will understand what gives certain people an edge over everyone else. By following the advice laid out clearly herein you'll be the one with an edge. It's time to stop wondering what it's like to be rich and start knowing. This book has changed countless lives and it can change yours! Unlike many of the other editions on the market today, this edition is complete and unabridged! Wilder Publications is a green publisher. All of our books are printed to order. This reduces waste and helps us keep prices low while greatly reducing our impact on the environment.; Motivation (Psychology)\",\n",
       " \"Joni; One of the most beloved Christian autobiographies of modern times, Joni highlights the unforgettable story of a young woman's courageous struggle to find hope after a broken neck left her completely paralyzed. On a hot July afternoon, Joni Eareckson Tada's life was dramatically altered in a split second. A reckless dive into shallow water took an athletic young woman from health and success to life as a quadriplegic in a wheelchair. In the forty-five years since the release of this book--which has more than five million copies in print in over forty languages--Joni's earnest struggle to find hope has resonated with millions of readers around the world. The hard-earned truths she shares in this special edition reveal the power of God's love to transform, as well as the triumph of faith over pain and suffering. Joni's message has inspired people facing all types of challenges, helping them overcome their own limitations with a determined smile. In this updated edition, you will discover how to stay satisfied in God through disappointment and affliction. Filled with practical insights, Joni will help you find hope in every hardship. This commemorative 45th anniversary edition features updated photos, as well as an all-new afterword in which Joni describes her current battle against two different cancers, her daily struggle with chronic pain, and the joys of leading a global outreach to people living with disability.; Biography & Autobiography\",\n",
       " \"The Wapshot Chronicle; NATIONAL BOOK AWARD WINNER • Pulitzer Prize winner John Cheever’s classic novel about one eccentric New England family, inspired by the author's own adolescence. The Wapshots have called the quintessential Massachusetts fishing village of St. Botolphs home for eons, but now it is time for the next generation—brothers Moses and Coverly—to go out and see the world. Moses heads to New York City and, eventually, a remote island in the South Pacific, while his brother travels south to Washington, D.C., and a job “so secret that it can’t be discussed here.” Meanwhile, back in St. Botolphs, their father, Captain Leander, clashes with his fearsome Cousin Honora, who controls the family purse strings. By turns tragic and deeply funny, The Wapshot Chronicle is a “richly inventive and vividly told” (The New York Times Magazine) work of fiction about one very odd family.; Fiction\",\n",
       " \"Splinter of the Mind's Eye; The further adventures of Luke Skywalker as he fights for right and justice against the evil Imperial forces on the planet Mimbran.; Science fiction\",\n",
       " 'Abraham; Could our sense of who we are really turn on a sliver of DNA? In our multiethnic world, questions of individual identity are becoming increasingly unclear. Now in ABRAHAM\\'S CHILDREN bestselling author Jon Entine vividly brings to life the profound human implications of the Age of Genetics while illuminating one of today\\'s most controversial topics: the connection between genetics and who we are, and specifically the question \"Who is a Jew?\" Entine weaves a fascinating narrative, using breakthroughs in genetic genealogy to reconstruct the Jewish biblical tradition of the chosen people and the hereditary Israelite priestly caste of Cohanim. Synagogues in the mountains of India and China and Catholic churches with a Jewish identity in New Mexico and Colorado provide different patterns of connection within the tangled history of the Jewish diaspora. Legendary accounts of the Hebrew lineage of Ethiopian tribesmen, the building of Africa\\'s Great Zimbabwe fortress, and even the so-called Lost Tribes are reexamined in light of advanced DNA technology. Entine also reveals the shared ancestry of Israelites and Christians. As people from across the world discover their Israelite roots, their riveting stories unveil exciting new approaches to defining one\\'s identity. Not least, Entine addresses possible connections between DNA and Jewish intelligence and the controversial notion that Jews are a \"race apart.\" ABRAHAM\\'S CHILDREN is a compelling reinterpretation of biblical history and a challenging and exciting illustration of the promise and power of genetic research.; History',\n",
       " 'The Things We Do for Love (Brilliance Audio on Compact Disc); Returning to her hometown to care for her aging mother and run the family restaurant, Angie Malone hires job-seeking teen Lauren Ribaldo, with whom she shares an emotional journey that helps both women realize the meaning of family.; Fiction',\n",
       " \"The Biggest Loser: The Weight Loss Program to Transform Your Body, Health, and Life--Adapted from NBC's Hit Show!; The book fans have been clamoring for—the diet and exercise plan that enabled contestants to transform their bodies and their lives on TV's smash hit reality show The Biggest Loser was NBC's surprise hit of the Fall 2004 television season, drawing a passionate audience and prompting people nationwide to start their own Biggest Loser competitions. This unscripted weight-loss drama was based on overweight contestants competing to lose weight and win a quarter of a million dollars with the help of a team of doctors, dietitians, and trainers Bob Harper and Jillian Michaels. On the evening that the first season's finale aired, legions of fans went to the NBC website to look for the diet and fitness plan that the contestants used. It wasn't available to the public—until now. With this book, people looking for change can accomplish the same type of radical makeover of their bodies, their health, and their lives that they saw on The Biggest Loser. The book features the food and fitness plans from Maggie Greenwood-Robinson, Cheryl Forberg, Michael Dansinger, and Biggest Loser Experts and Cast Staff, and motivational tips from the contestants themselves. The contestants' compelling stories and reasons for losing weight, dramatic before-and-after photos, and real-life advice provide the inspiration and upbeat attitude that made this show a smash hit.; Health & Fitness\",\n",
       " 'A Searching Heart (Prairie Legacy Series #2); In this best-selling novel, Virginia must learn the priorities that God has in mind for her as she makes plans for college. Prairie Legacy book 2.; Fiction',\n",
       " \"Ethics for the New Millennium; Don't miss His Holiness the Dalai Lama's classic book, The Art of Happiness, or his newest, The Book of Joy, named one of Oprah's Favorite Things. In a difficult, uncertain time, it takes a person of great courage, such as the Dalai Lama, to give us hope. Regardless of the violence and cynicism we see on television and read about in the news, there is an argument to be made for basic human goodness. The number of people who spend their lives engaged in violence and dishonesty is tiny compared to the vast majority who would wish others only well. According to the Dalai Lama, our survival has depended and will continue to depend on our basic goodness. Ethics for the New Millennium presents a moral system based on universal rather than religious principles. Its ultimate goal is happiness for every individual, irrespective of religious beliefs. Though he himself a practicing Buddhist, the Dalai Lama's teachings and the moral compass that guides him can lead each and every one of us—Muslim, Christian, Jew, Buddhist, or atheist—to a happier, more fulfilling life.; Religion\",\n",
       " 'Making the best of basics: Family preparedness handbook; This book, long a standard on in-home food storage and family preparedness, has been expanded, revised, and updated. With almost 100 additional pages of charts, tables, and recipes, plus a new 80-page \"yellow pages\" section listing suppliers of preparedness resources in the U.S. and Canada, the Family preparedness handbook is the most comprehensive single volume ever compiled on in-home storage.; Cookery.',\n",
       " 'Haunts of the Bushrangers; Valete 1991 - Simon Lenehan Valete 1991 - Jason Abrahams.; Australia',\n",
       " \"New Junior Cookbook; An all-new edition of the perfect kids' cookbook—now more fun than ever! Written and designed to appeal to kids ages 5 to 12, this all-new edition of the Better Homes and Gardens New Junior CookBook features 65 brand-new recipes that are simple to make and a blast to eat. Each recipe includes a photo of the dish and unique and lively illustrations of characters that tell a story to complement the dish. All the recipes here are easy-to-follow and packed with helpful hints and fun ways for kids to put their own spin on them. With lots of easy-to-understand nutrition information, it's a great way to teach kids about healthy eating while getting them interested in cooking. 65 recipes include hearty breakfasts, lunches, and dinners as well as healthy snacks and treats Fun, engaging, full-color illustrations bring each recipe to life and grab kids' attention Special features cover cooking basics, kitchen safety, menu planning, basic nutrition information, and guidance on reading and understanding food labels Teach your kids how to eat right and help out in the kitchen with the Better Homes and Gardens New Junior CookBook. It's the perfect way to make it rewarding for the whole family.; Cooking\",\n",
       " \"Constitutional Law: Principles and Policies (Aspen's Introduction to Law Series); Renowned legal scholar Erwin Chemerinsky presents this thorough revision of his incomparably clear introduction to constitutional law doctrine. Constitutional Law: Principles and Policies, Second Edition, offers: thorough coverage of all areas of Constitutional Law, including federal, judicial, legislative, and executive power; state power; civil rights and civil liberties; economic liberties; equal protection; due process; and First Amendment, all suitable for both beginning and advanced courses an unmatched clarity of presentation a neutral approach that examines all sides of the issues equal attention to the doctrine and the underlying policy issues of the law You will find a wealth of material in the Second Edition: a complete updating of cases and materials through the end of the 2000-2001 U.S. Supreme Court termnew cases, including: Bush v. Gore, U.S. v. Morrison, City of Boerne v. Flores, Jones v. Clinton, Brentwood Academy v. Tennessee Athletic Association, Troxel v. Granville, Stenberg v. Carhart, Washington v. Glucksberg, Reno v. ACLU, Lorillard Tobacco v. Riley, and Mitchell v. Helms material on sovereign immunity a structure that allows the book to be used alongside the author's constitutional law casebook and all major constitutional law casebooks To give students a deep and meaningful understanding of constitutional doctrine and decisions, use the most accessible introductory treatise - Erwin Chemeinsky's Constitutional Law: Principles and Policies, Second Edition.; Law\",\n",
       " \"The Best-Kept Secret; In this steamy thriller from #1 New York Times bestselling author Sandra Brown, a savvy attorney in small-town Texas will stop at nothing to catch the man who murdered her mother. Alexandra Gaither is a beautiful lawyer who finally has the power to get what she's always wanted: justice. Armed with new evidence that could lead to an arrest and a conviction, Alex revisits the remote Texas town where her mother died twenty-five years ago. There she confronts the three powerful men who were with her mother the night she died: her former lover, his best friend, and the father figure to them both. Each is charming, each is a suspect, and each has secrets to hide. But none of them can stop Alex's determined search for the truth. Alex's relentless investigation creates controversy and excitement in this small community. And as she uncovers decades-old intrigues, someone capable of clever lies and remorseless acts decides she must be stopped. Now, with a one-month deadline from the attorney general to either wrap up the case or drop it for good, Alex must work diligently to catch her mother's killer . . . and find a way to stay alive.; Fiction\",\n",
       " \"Five Little Peppers and How They Grew; The five little Peppers are an adorable family being raised by their widowed mother. Her seamstress' wages are barely enough to sustain them, and yet they are happy. The smallest pleasure causes great delight and merriment in the little house.; Brothers and sisters\",\n",
       " \"Look Homeward, Angel; Look Homeward, Angel by Thomas Wolfe is about a young man’s burning desire to leave his small town and tumultuous family in search of a better life, in 1929. It is Wolfe's first novel, and is considered a highly autobiographical American coming-of-age story. The character of Eugene Gant is generally believed to be a depiction of Wolfe himself. The novel covers the span of time from Eugene's birth to the age of 19. The setting is the fictional town and state of Altamont, Catawba, a fictionalization of his home town, Asheville, North Carolina. Rich with lyrical prose and vivid characterizations, this twentieth-century American classic will capture the hearts and imaginations of every reader.; Fiction\",\n",
       " 'More Wealth Without Risk; Presents over 250 accessible money strategies with plans for accumulating wealth through personal finance, tax reduction, and investment.; Finance, Personal',\n",
       " 'The Great Mortality : An Intimate History of the Black Death, the Most Devastating Plague of All Time; “Powerful, rich with details, moving, humane, and full of important lessons for an age when weapons of mass destruction are loose among us.” — Richard Rhodes, Pulitzer Prize-winning author of The Making of the Atomic Bomb The Great Plague is one of the most compelling events in human history—even more so now, when the notion of plague has never loomed larger as a contemporary public concern. The plague that devastated Asia and Europe in the 14th century has been of never-ending interest to both scholarly and general readers. Many books on the plague rely on statistics to tell the story: how many people died; how farm output and trade declined. But statistics can’t convey what it was like to sit in Siena or Avignon and hear that a thousand people a day are dying two towns away. Or to have to chose between your own life and your duty to a mortally ill child or spouse. Or to live in a society where the bonds of blood and sentiment and law have lost all meaning, where anyone can murder or rape or plunder anyone else without fear of consequence. In The Great Mortality, author John Kelly lends an air of immediacy and intimacy to his telling of the journey of the plague as it traveled from the steppes of Russia, across Europe, and into England, killing 75 million people—one third of the known population—before it vanished.; History',\n",
       " \"A Death In The Family; A year ago, former NYPD detective Shana barely survived being abducted by a serial killer. Hoping to leave grisly murder cases behind, she's taken a job in a sleepy town. But as a storm bears down on her new territory, Shana and fellow investigator Tim receive a call about a missing man and travel to an isolated island owned by a rich family to investigate. Trapped on the island by the raging storm and surrounded by dark secrets, Shana has a theory. If she's right, a killer is in their midst and as the pressure mounts, so do the odds that they'll strike again.\",\n",
       " 'Don\\'t Pee on My Leg and Tell Me It\\'s Raining: America\\'s Toughest Family Court Judge Speaks Out; font COLOR=\"#000000\" FACE=\"MS Sans Serif\" SIZE=\"1\" ¡n we get some reality in here?ߡsks Judy Sheindlin, former supervising judge for Manhattan Family Court. For twenty–four years she has laid down the law as she understands it: ● If you want to eat, you have to work. ● If you have children, you\\'d better support them. If you break the law, you have to pay. If you tap the public purse, you\\'d better be accountable. Now she abandons all judicial restraint in a scathing critique of the system – filled with realistic hard–nosed alternatives to our bloated welfare bureaucracy and our soft–on–crime laws.; Biography & Autobiography',\n",
       " 'Adobe Photoshop CS2 One-On-One; Presents step-by-step lessons on the digital image editing software with two hours of video instruction on the companion DVD-ROM.; Computers',\n",
       " \"Ramona the pest; Newbery Medal-winning author Beverly Cleary expertly depicts the trials and triumphs of growing up through a relatable heroine who isn't afraid to be exactly who she is. Ramona Quimby is excited to start kindergarten. No longer does she have to watch her older sister, Beezus, ride the bus to school with all the big kids. She's finally old enough to take the bus too! Then she gets into trouble for pulling her classmate's boingy curls during recess. Even worse, her crush rejects her in front of everyone. Beezus says Ramona needs to quit being a pest, but how can she stop if she never was trying to be one in the first place? The classic Ramona books continue to make young readers laugh in recognition and pleasure. They're perfect for independent and shared reading, at home or in the classroom.; Juvenile Fiction\",\n",
       " \"The Devil of Nanking; Obsessed by the past, a young Englishwoman arrives in Tokyo to seek a long-lost piece of film footage dating back to the 1937 Nanking Massacre, journeying from the decadent hostess bars and palatial apartments of yakuza kingpins in Tokyo to deep inside the secret history of the massacre in her pursuit of the truth. Reader's Guide available. 50,000 first printing. $50,000 ad/promo.; Fiction\",\n",
       " 'Member of the Wedding; The novel that became an award-winning play and a major motion picture and that has charmed generations of readers, Carson McCullers’s classic The Member of the Wedding is now available in small- format trade paperback for the &ﬁrst time. Here is the story of the inimitable twelve-year-old Frankie, who is utterly, hopelessly bored with life until she hears about her older brother’s wedding. Bolstered by lively conversations with her house servant, Berenice, and her six-year-old male cousin — not to mention her own unbridled imagination — Frankie takes on an overly active role in the wedding, hoping even to go, uninvited, on the honeymoon, so deep is her desire to be the member of something larger, more accepting than herself. “A marvelous study of the agony of adolescence” (Detroit Free Press), The Member of the Wedding showcases Carson McCullers at her most sensitive, astute, and lasting best.; Fiction',\n",
       " \"The Ten Thousand: A Novel of Ancient Greece; After decades of war, mighty Athens has been ravaged-- its navy destroyed, its city walls toppled, its army disbanded. The fierce military state of Sparta has triumphed, but passions and hate linger on. Thousands of battle-hardened veterans from both sides in the conflict remain scattered across the Greek islands, restless and dangerous-- until the young Persian prince Cyrus issues a call to arms from his base in Asia Minor. The rogue nobleman is raising an enormous mercenary army to wrest control of all of Persia, the most powerful empire on earth, from his half-brother the king. The young philosopher-warrior Xenophon, scion of a noble Athenian family and follower of Socrates, risks his father's wrath and embarks on the adventure with high hopes for glory. Joining his cousin Proxenus, the war-maddened Spartan general Clearchus, and a huge body of Cyrus' native troops, he and ten thousand Greek mercenaries depart on an astounding march of a thousand miles, across the searing desert. Their near-deadly journey culminated in a massive, bloody battle at the very threshold of Babylon-- a battle that proves disastrous for them. Their leaders are betrayed and murdered, their supply lines cut, and their route home across the desert blocked by the furious Persian king, bent on revenge. The Fates call on Xenophon to lead the devastated Greek soldiers in their escape, though he has little experience in commanding men. As the army flees toward the snowy north, its situation appears desperate. Months later, ten thousand battered, half-starved soldiers stagger out of the frozen mountains of Armenia into a small Greek trading post on the Black Sea. Their true tale of survival, and of the heroic expedition Xenophon led through the heart of an enemy empire, astonished the incredulous natives and has been the stuff of legend ever since. Michael Curtis Ford combines his expertise on fifth-century B.C. Greek warfare with explosive page-turning action to give us an epic novel of struggle and survival. Not since Steven Pressfield's Gates of Fire has any book so vividly captured the glory, beauty, and savage bloodshed that was ancient Greece.; Fiction\",\n",
       " \"If You Come Softly; After meeting at their private school in New York, fifteen-year-old Jeremiah, who is black and whose parents are separated, and Ellie, who is white and whose mother has twice abandoned her, fall in love and then try to cope with people's reactions.; Juvenile Fiction\",\n",
       " 'Alaska (Turtleback School & Library Binding Edition); Jam-packed with up-to-date, easy-to-understand information on every area of money, this smart, useful book—just right for kids age 8–14—makes learning about money fun. A savvy brother and sister team, Arthur and Rose explain a lot about money matters, including: Budgets and savings (great ways to get the stuff you really want!) The basics of stocks, bonds, and other ways of investing Credit cards (“The Plastic Flash”) and borrowing Updated information on the Internet with useful Web links Online investing, Web safety precautions Saving and paying for college And much more; Young Adult Nonfiction',\n",
       " '\"C\" is for Corpse (A Kinsey Millhone mystery, Book 3); You haven\\'t read a thriller until you read #1 New York Times bestselling author Sue Grafton\\'s novels with her unforgettable P.I. Kinsey Millhone... \"C\" is for Corpse He was young-maybe twenty or so-and he must once have been a good-looking kid. Kinsey could see that. But now his body was covered in scars, his face half-collapsed. It saddened Kinsey and made her curious. She could see he was in a lot of pain. But for three weeks, as Kinsey\\'d watched him doggedly working out at the local gym, putting himself through a grueling exercise routine, he never spoke. Then one Monday morning when there was no one else in the gym, Bobby Callahan approached her. His story was hard to credit: a murderous assault by a tailgating car on a lonely rural road, a roadside smash into a canyon 400 feet below, his Porsche a bare ruin, his best friend dead. The doctors had managed to put his body back together again-sort of. His mother\\'s money had seen to that. What they couldn\\'t fix was his mind, couldn\\'t restore the huge chunks of memory wiped out by the crash. Bobby knew someone had tried to kill him, but he didn\\'t know why. He knew he had the key to something that made him dangerous to the killer, but he didn\\'t know what it was. And he sensed that someone was still out there, ready to pounce at the first sign his memory was coming back. He\\'d been to the cops, but they\\'d shrugged off his story. His family thought he had a screw loose. But he was scared-scared to death. He wanted to hire Kinsey. His case didn\\'t have a whole lot going for it, but he was hard to resist: young, brave, hurt. She took him on. And three days later, Bobby Callahan was dead. Kinsey Millhone never welshed a deal. She\\'d been hired to stop a killing. Now she\\'d find the killer. \"A\" Is for Alibi \"B\" Is for Burglar \"C\" Is for Corpse \"D\" Is for Deadbeat \"E\" Is for Evidence \"F\" Is for Fugitive \"G\" Is for Gumshoe \"H\" Is for Homicide \"I\" Is for Innocent \"J\" Is for Judgment \"K\" Is for Killer \"L\" is for Lawless \"M\" Is for Malice \"N\" Is for Noose \"O\" Is for Outlaw \"P\" Is for Peril \"Q\" Is for Quarry \"R\" Is for Ricochet \"S\" Is for Silence \"T\" Is for Trespass \"U\" Is for Undertow \"V\" Is for Vengeance \"W\" Is for Wasted \"X\"; Fiction',\n",
       " 'Elementary Differential Equations and Boundary Value Problems; Elementary Differential Equations and Boundary Value Problems 11e, like its predecessors, is written from the viewpoint of the applied mathematician, whose interest in differential equations may sometimes be quite theoretical, sometimes intensely practical, and often somewhere in between. The authors have sought to combine a sound and accurate (but not abstract) exposition of the elementary theory of differential equations with considerable material on methods of solution, analysis, and approximation that have proved useful in a wide variety of applications. While the general structure of the book remains unchanged, some notable changes have been made to improve the clarity and readability of basic material about differential equations and their applications. In addition to expanded explanations, the 11th edition includes new problems, updated figures and examples to help motivate students. The program is primarily intended for undergraduate students of mathematics, science, or engineering, who typically take a course on differential equations during their first or second year of study. The main prerequisite for engaging with the program is a working knowledge of calculus, gained from a normal two? or three? semester course sequence or its equivalent. Some familiarity with matrices will also be helpful in the chapters on systems of differential equations.; Mathematics']"
      ]
     },
     "execution_count": 57,
     "metadata": {},
     "output_type": "execute_result"
    }
   ],
   "source": [
    "ques_data"
   ]
  },
  {
   "cell_type": "code",
   "execution_count": 56,
   "metadata": {},
   "outputs": [
    {
     "name": "stdout",
     "output_type": "stream",
     "text": [
      "[('In the book Joni, what information is more important?', 'Christian autobiographies of modern times')]\n"
     ]
    }
   ],
   "source": [
    "book = \"Joni\"\n",
    "quest = f'In the book {book}, what information is more important?'\n",
    "answ = extractor([(quest, quest, quest, False)], ques_data)\n",
    "print(answ)"
   ]
  },
  {
   "cell_type": "markdown",
   "metadata": {},
   "source": [
    "#### Exemplos de retornos\n",
    "\n",
    "Estrutura da pergunta: In the book {book}, what information is more important?\n",
    "\n",
    "Ex1:\n",
    "- Livro: Death in the Afternoon\n",
    "\n",
    "- Conteúdo pesquisado: Still considered one of the best books ever written about bullfighting, Death in the Afternoon is an impassioned look at the sport by one of its true aficionados. It reflects Hemingway's conviction that bullfighting was more than mere sport and reveals a rich source of inspiration for his art. The unrivaled drama of bullfighting, with its rigorous combination of athleticism and artistry, and its requisite display of grace under pressure, ignited Hemingway's imagination. Here he describes and explains the technical aspects of this dangerous ritual and “the emotional and spiritual intensity and pure classic beauty that can be produced by a man, an animal, and a piece of scarlet serge draped on a stick.” Seen through his eyes, bullfighting becomes a richly choreographed ballet, with performers who range from awkward amateurs to masters of great elegance and cunning. A fascinating look at the history and grandeur of bullfighting, Death in the Afternoon is also a deeper contemplation of the nature of cowardice and bravery, sport and tragedy, and is enlivened throughout by Hemingway's sharp commentary on life and literature.\n",
    "\n",
    "- Resposta: the nature of cowardice and bravery, sport and tragedy\n",
    "\n",
    "Ex2: \n",
    "- Livro: Joni\n",
    "\n",
    "- Conteúdo pesquisado: One of the most beloved Christian autobiographies of modern times, Joni highlights the unforgettable story of a young woman's courageous struggle to find hope after a broken neck left her completely paralyzed. On a hot July afternoon, Joni Eareckson Tada's life was dramatically altered in a split second. A reckless dive into shallow water took an athletic young woman from health and success to life as a quadriplegic in a wheelchair. In the forty-five years since the release of this book--which has more than five million copies in print in over forty languages--Joni's earnest struggle to find hope has resonated with millions of readers around the world. The hard-earned truths she shares in this special edition reveal the power of God's love to transform, as well as the triumph of faith over pain and suffering. Joni's message has inspired people facing all types of challenges, helping them overcome their own limitations with a determined smile. In this updated edition, you will discover how to stay satisfied in God through disappointment and affliction. Filled with practical insights, Joni will help you find hope in every hardship. This commemorative 45th anniversary edition features updated photos, as well as an all-new afterword in which Joni describes her current battle against two different cancers, her daily struggle with chronic pain, and the joys of leading a global outreach to people living with disability.\n",
    "\n",
    "- Resposta: Christian autobiographies of modern times"
   ]
  }
 ],
 "metadata": {
  "kernelspec": {
   "display_name": "Python310",
   "language": "python",
   "name": "python3"
  },
  "language_info": {
   "codemirror_mode": {
    "name": "ipython",
    "version": 3
   },
   "file_extension": ".py",
   "mimetype": "text/x-python",
   "name": "python",
   "nbconvert_exporter": "python",
   "pygments_lexer": "ipython3",
   "version": "3.10.4"
  },
  "orig_nbformat": 4
 },
 "nbformat": 4,
 "nbformat_minor": 2
}
